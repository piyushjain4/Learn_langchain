{
  "cells": [
    {
      "cell_type": "markdown",
      "metadata": {
        "id": "view-in-github",
        "colab_type": "text"
      },
      "source": [
        "<a href=\"https://colab.research.google.com/github/piyushjain4/Learn_langchain/blob/main/chapters/01-intro.ipynb\" target=\"_parent\"><img src=\"https://colab.research.google.com/assets/colab-badge.svg\" alt=\"Open In Colab\"/></a>"
      ]
    },
    {
      "cell_type": "markdown",
      "metadata": {
        "id": "DAPOEWLJbO4B"
      },
      "source": [
        "[![Open In Colab](https://colab.research.google.com/assets/colab-badge.svg)](https://colab.research.google.com/github/aurelio-labs/langchain-course/blob/main/chapters/01-intro.ipynb)"
      ]
    },
    {
      "cell_type": "markdown",
      "metadata": {
        "id": "mptJD94oH6ak"
      },
      "source": [
        "#### LangChain Essentials Course"
      ]
    },
    {
      "cell_type": "markdown",
      "metadata": {
        "id": "jwjxctC0H6am"
      },
      "source": [
        "# Getting Started with LangChain"
      ]
    },
    {
      "cell_type": "markdown",
      "metadata": {
        "id": "adOQXfBHH6am"
      },
      "source": [
        "LangChain is one of the most popular open source libraries for AI Engineers. It's goal is to abstract away the complexity in building AI software, provide easy-to-use building blocks, and make it easier when switching between AI service providers.\n",
        "\n",
        "In this example, we will introduce LangChain, building a simple LLM-powered assistant. We'll provide examples for both OpenAI's `gpt-4o-mini` *and* Meta's `llama3.2` via Ollama!"
      ]
    },
    {
      "cell_type": "markdown",
      "metadata": {
        "id": "ccz9ouBwH6am"
      },
      "source": [
        "---\n",
        "\n",
        "> ⚠️ We will be using OpenAI for this example allowing us to run everything via API. If you would like to use Ollama instead, check out the [Ollama LangChain Course](https://github.com/aurelio-labs/langchain-course/tree/main/notebooks/ollama).\n",
        "\n",
        "---"
      ]
    },
    {
      "cell_type": "code",
      "source": [
        "!pip install -qU scikit-image numpy==1.26.4"
      ],
      "metadata": {
        "id": "1AednSeXUCLn"
      },
      "execution_count": 154,
      "outputs": []
    },
    {
      "cell_type": "code",
      "source": [
        "!apt update && apt install -y pciutils lshw\n"
      ],
      "metadata": {
        "collapsed": true,
        "id": "K0-sns1lqKIH",
        "outputId": "895a6ad5-84f3-4c3f-9aff-7df48886ae65",
        "colab": {
          "base_uri": "https://localhost:8080/"
        }
      },
      "execution_count": 1,
      "outputs": [
        {
          "output_type": "stream",
          "name": "stdout",
          "text": [
            "Hit:1 http://archive.ubuntu.com/ubuntu jammy InRelease\n",
            "Get:2 http://archive.ubuntu.com/ubuntu jammy-updates InRelease [128 kB]\n",
            "Get:3 http://archive.ubuntu.com/ubuntu jammy-backports InRelease [127 kB]\n",
            "Get:4 http://security.ubuntu.com/ubuntu jammy-security InRelease [129 kB]\n",
            "Get:5 https://cloud.r-project.org/bin/linux/ubuntu jammy-cran40/ InRelease [3,632 B]\n",
            "Hit:6 https://developer.download.nvidia.com/compute/cuda/repos/ubuntu2204/x86_64  InRelease\n",
            "Get:7 https://r2u.stat.illinois.edu/ubuntu jammy InRelease [6,555 B]\n",
            "Hit:8 https://ppa.launchpadcontent.net/deadsnakes/ppa/ubuntu jammy InRelease\n",
            "Hit:9 https://ppa.launchpadcontent.net/graphics-drivers/ppa/ubuntu jammy InRelease\n",
            "Hit:10 https://ppa.launchpadcontent.net/ubuntugis/ppa/ubuntu jammy InRelease\n",
            "Get:11 http://archive.ubuntu.com/ubuntu jammy-updates/main amd64 Packages [3,003 kB]\n",
            "Get:12 http://archive.ubuntu.com/ubuntu jammy-updates/universe amd64 Packages [1,535 kB]\n",
            "Get:13 http://archive.ubuntu.com/ubuntu jammy-updates/restricted amd64 Packages [3,962 kB]\n",
            "Get:14 http://security.ubuntu.com/ubuntu jammy-security/universe amd64 Packages [1,237 kB]\n",
            "Get:15 http://security.ubuntu.com/ubuntu jammy-security/main amd64 Packages [2,692 kB]\n",
            "Get:16 https://r2u.stat.illinois.edu/ubuntu jammy/main all Packages [8,762 kB]\n",
            "Get:17 https://r2u.stat.illinois.edu/ubuntu jammy/main amd64 Packages [2,677 kB]\n",
            "Fetched 24.3 MB in 7s (3,564 kB/s)\n",
            "Reading package lists... Done\n",
            "Building dependency tree... Done\n",
            "Reading state information... Done\n",
            "30 packages can be upgraded. Run 'apt list --upgradable' to see them.\n",
            "\u001b[1;33mW: \u001b[0mSkipping acquire of configured file 'main/source/Sources' as repository 'https://r2u.stat.illinois.edu/ubuntu jammy InRelease' does not seem to provide it (sources.list entry misspelt?)\u001b[0m\n",
            "Reading package lists... Done\n",
            "Building dependency tree... Done\n",
            "Reading state information... Done\n",
            "The following additional packages will be installed:\n",
            "  libpci3 pci.ids usb.ids\n",
            "The following NEW packages will be installed:\n",
            "  libpci3 lshw pci.ids pciutils usb.ids\n",
            "0 upgraded, 5 newly installed, 0 to remove and 30 not upgraded.\n",
            "Need to get 883 kB of archives.\n",
            "After this operation, 3,256 kB of additional disk space will be used.\n",
            "Get:1 http://archive.ubuntu.com/ubuntu jammy/main amd64 pci.ids all 0.0~2022.01.22-1 [251 kB]\n",
            "Get:2 http://archive.ubuntu.com/ubuntu jammy/main amd64 libpci3 amd64 1:3.7.0-6 [28.9 kB]\n",
            "Get:3 http://archive.ubuntu.com/ubuntu jammy/main amd64 lshw amd64 02.19.git.2021.06.19.996aaad9c7-2build1 [321 kB]\n",
            "Get:4 http://archive.ubuntu.com/ubuntu jammy/main amd64 pciutils amd64 1:3.7.0-6 [63.6 kB]\n",
            "Get:5 http://archive.ubuntu.com/ubuntu jammy/main amd64 usb.ids all 2022.04.02-1 [219 kB]\n",
            "Fetched 883 kB in 0s (3,793 kB/s)\n",
            "Selecting previously unselected package pci.ids.\n",
            "(Reading database ... 126209 files and directories currently installed.)\n",
            "Preparing to unpack .../pci.ids_0.0~2022.01.22-1_all.deb ...\n",
            "Unpacking pci.ids (0.0~2022.01.22-1) ...\n",
            "Selecting previously unselected package libpci3:amd64.\n",
            "Preparing to unpack .../libpci3_1%3a3.7.0-6_amd64.deb ...\n",
            "Unpacking libpci3:amd64 (1:3.7.0-6) ...\n",
            "Selecting previously unselected package lshw.\n",
            "Preparing to unpack .../lshw_02.19.git.2021.06.19.996aaad9c7-2build1_amd64.deb ...\n",
            "Unpacking lshw (02.19.git.2021.06.19.996aaad9c7-2build1) ...\n",
            "Selecting previously unselected package pciutils.\n",
            "Preparing to unpack .../pciutils_1%3a3.7.0-6_amd64.deb ...\n",
            "Unpacking pciutils (1:3.7.0-6) ...\n",
            "Selecting previously unselected package usb.ids.\n",
            "Preparing to unpack .../usb.ids_2022.04.02-1_all.deb ...\n",
            "Unpacking usb.ids (2022.04.02-1) ...\n",
            "Setting up pci.ids (0.0~2022.01.22-1) ...\n",
            "Setting up lshw (02.19.git.2021.06.19.996aaad9c7-2build1) ...\n",
            "Setting up usb.ids (2022.04.02-1) ...\n",
            "Setting up libpci3:amd64 (1:3.7.0-6) ...\n",
            "Setting up pciutils (1:3.7.0-6) ...\n",
            "Processing triggers for man-db (2.10.2-1) ...\n",
            "Processing triggers for libc-bin (2.35-0ubuntu3.8) ...\n",
            "/sbin/ldconfig.real: /usr/local/lib/libhwloc.so.15 is not a symbolic link\n",
            "\n",
            "/sbin/ldconfig.real: /usr/local/lib/libtbbmalloc_proxy.so.2 is not a symbolic link\n",
            "\n",
            "/sbin/ldconfig.real: /usr/local/lib/libtbbbind_2_5.so.3 is not a symbolic link\n",
            "\n",
            "/sbin/ldconfig.real: /usr/local/lib/libur_adapter_opencl.so.0 is not a symbolic link\n",
            "\n",
            "/sbin/ldconfig.real: /usr/local/lib/libtbbbind_2_0.so.3 is not a symbolic link\n",
            "\n",
            "/sbin/ldconfig.real: /usr/local/lib/libtbb.so.12 is not a symbolic link\n",
            "\n",
            "/sbin/ldconfig.real: /usr/local/lib/libumf.so.0 is not a symbolic link\n",
            "\n",
            "/sbin/ldconfig.real: /usr/local/lib/libtbbbind.so.3 is not a symbolic link\n",
            "\n",
            "/sbin/ldconfig.real: /usr/local/lib/libur_adapter_level_zero.so.0 is not a symbolic link\n",
            "\n",
            "/sbin/ldconfig.real: /usr/local/lib/libtbbmalloc.so.2 is not a symbolic link\n",
            "\n",
            "/sbin/ldconfig.real: /usr/local/lib/libtcm_debug.so.1 is not a symbolic link\n",
            "\n",
            "/sbin/ldconfig.real: /usr/local/lib/libtcm.so.1 is not a symbolic link\n",
            "\n",
            "/sbin/ldconfig.real: /usr/local/lib/libur_loader.so.0 is not a symbolic link\n",
            "\n"
          ]
        }
      ]
    },
    {
      "cell_type": "code",
      "source": [
        "!OLLAMA_USE_CUDA=1 curl -fsSL https://ollama.ai/install.sh | sh\n",
        "\n"
      ],
      "metadata": {
        "id": "wD_Gnclopv4l",
        "outputId": "c8864e1a-f50e-4aa9-d442-6a519353dde9",
        "colab": {
          "base_uri": "https://localhost:8080/"
        }
      },
      "execution_count": 2,
      "outputs": [
        {
          "output_type": "stream",
          "name": "stdout",
          "text": [
            ">>> Installing ollama to /usr/local\n",
            ">>> Downloading Linux amd64 bundle\n",
            "############################################################################################# 100.0%\n",
            ">>> Creating ollama user...\n",
            ">>> Adding ollama user to video group...\n",
            ">>> Adding current user to ollama group...\n",
            ">>> Creating ollama systemd service...\n",
            "\u001b[1m\u001b[31mWARNING:\u001b[m systemd is not running\n",
            ">>> NVIDIA GPU installed.\n",
            ">>> The Ollama API is now available at 127.0.0.1:11434.\n",
            ">>> Install complete. Run \"ollama\" from the command line.\n"
          ]
        }
      ]
    },
    {
      "cell_type": "code",
      "source": [
        "!ollama pull llama3.2\n",
        "!ollama serve > /dev/null 2>&1 &"
      ],
      "metadata": {
        "id": "C6xNpTqVmDuY",
        "collapsed": true,
        "outputId": "21ad95db-372e-4c07-ae65-7c2409a5e04e",
        "colab": {
          "base_uri": "https://localhost:8080/"
        }
      },
      "execution_count": 10,
      "outputs": [
        {
          "output_type": "stream",
          "name": "stdout",
          "text": [
            "\u001b[?2026h\u001b[?25l\u001b[1Gpulling manifest ⠋ \u001b[K\u001b[?25h\u001b[?2026l\u001b[?2026h\u001b[?25l\u001b[1Gpulling manifest ⠙ \u001b[K\u001b[?25h\u001b[?2026l\u001b[?2026h\u001b[?25l\u001b[1Gpulling manifest ⠹ \u001b[K\u001b[?25h\u001b[?2026l\u001b[?2026h\u001b[?25l\u001b[1Gpulling manifest ⠸ \u001b[K\u001b[?25h\u001b[?2026l\u001b[?2026h\u001b[?25l\u001b[1Gpulling manifest ⠼ \u001b[K\u001b[?25h\u001b[?2026l\u001b[?2026h\u001b[?25l\u001b[1Gpulling manifest \u001b[K\n",
            "pulling dde5aa3fc5ff...   0% ▕▏    0 B/2.0 GB                  \u001b[K\u001b[?25h\u001b[?2026l\u001b[?2026h\u001b[?25l\u001b[A\u001b[1Gpulling manifest \u001b[K\n",
            "pulling dde5aa3fc5ff...   0% ▕▏    0 B/2.0 GB                  \u001b[K\u001b[?25h\u001b[?2026l\u001b[?2026h\u001b[?25l\u001b[A\u001b[1Gpulling manifest \u001b[K\n",
            "pulling dde5aa3fc5ff...   0% ▕▏ 116 KB/2.0 GB                  \u001b[K\u001b[?25h\u001b[?2026l\u001b[?2026h\u001b[?25l\u001b[A\u001b[1Gpulling manifest \u001b[K\n",
            "pulling dde5aa3fc5ff...   0% ▕▏ 3.8 MB/2.0 GB                  \u001b[K\u001b[?25h\u001b[?2026l\u001b[?2026h\u001b[?25l\u001b[A\u001b[1Gpulling manifest \u001b[K\n",
            "pulling dde5aa3fc5ff...   1% ▕▏  17 MB/2.0 GB                  \u001b[K\u001b[?25h\u001b[?2026l\u001b[?2026h\u001b[?25l\u001b[A\u001b[1Gpulling manifest \u001b[K\n",
            "pulling dde5aa3fc5ff...   2% ▕▏  42 MB/2.0 GB                  \u001b[K\u001b[?25h\u001b[?2026l\u001b[?2026h\u001b[?25l\u001b[A\u001b[1Gpulling manifest \u001b[K\n",
            "pulling dde5aa3fc5ff...   3% ▕▏  53 MB/2.0 GB                  \u001b[K\u001b[?25h\u001b[?2026l\u001b[?2026h\u001b[?25l\u001b[A\u001b[1Gpulling manifest \u001b[K\n",
            "pulling dde5aa3fc5ff...   4% ▕▏  83 MB/2.0 GB                  \u001b[K\u001b[?25h\u001b[?2026l\u001b[?2026h\u001b[?25l\u001b[A\u001b[1Gpulling manifest \u001b[K\n",
            "pulling dde5aa3fc5ff...   5% ▕▏ 108 MB/2.0 GB                  \u001b[K\u001b[?25h\u001b[?2026l\u001b[?2026h\u001b[?25l\u001b[A\u001b[1Gpulling manifest \u001b[K\n",
            "pulling dde5aa3fc5ff...   6% ▕▏ 117 MB/2.0 GB                  \u001b[K\u001b[?25h\u001b[?2026l\u001b[?2026h\u001b[?25l\u001b[A\u001b[1Gpulling manifest \u001b[K\n",
            "pulling dde5aa3fc5ff...   7% ▕▏ 139 MB/2.0 GB  139 MB/s     13s\u001b[K\u001b[?25h\u001b[?2026l\u001b[?2026h\u001b[?25l\u001b[A\u001b[1Gpulling manifest \u001b[K\n",
            "pulling dde5aa3fc5ff...   8% ▕▏ 158 MB/2.0 GB  139 MB/s     13s\u001b[K\u001b[?25h\u001b[?2026l\u001b[?2026h\u001b[?25l\u001b[A\u001b[1Gpulling manifest \u001b[K\n",
            "pulling dde5aa3fc5ff...   8% ▕▏ 170 MB/2.0 GB  139 MB/s     13s\u001b[K\u001b[?25h\u001b[?2026l\u001b[?2026h\u001b[?25l\u001b[A\u001b[1Gpulling manifest \u001b[K\n",
            "pulling dde5aa3fc5ff...  10% ▕▏ 191 MB/2.0 GB  139 MB/s     13s\u001b[K\u001b[?25h\u001b[?2026l\u001b[?2026h\u001b[?25l\u001b[A\u001b[1Gpulling manifest \u001b[K\n",
            "pulling dde5aa3fc5ff...  10% ▕▏ 210 MB/2.0 GB  139 MB/s     13s\u001b[K\u001b[?25h\u001b[?2026l\u001b[?2026h\u001b[?25l\u001b[A\u001b[1Gpulling manifest \u001b[K\n",
            "pulling dde5aa3fc5ff...  11% ▕▏ 227 MB/2.0 GB  139 MB/s     12s\u001b[K\u001b[?25h\u001b[?2026l\u001b[?2026h\u001b[?25l\u001b[A\u001b[1Gpulling manifest \u001b[K\n",
            "pulling dde5aa3fc5ff...  12% ▕▏ 241 MB/2.0 GB  139 MB/s     12s\u001b[K\u001b[?25h\u001b[?2026l\u001b[?2026h\u001b[?25l\u001b[A\u001b[1Gpulling manifest \u001b[K\n",
            "pulling dde5aa3fc5ff...  14% ▕▏ 273 MB/2.0 GB  139 MB/s     12s\u001b[K\u001b[?25h\u001b[?2026l\u001b[?2026h\u001b[?25l\u001b[A\u001b[1Gpulling manifest \u001b[K\n",
            "pulling dde5aa3fc5ff...  14% ▕▏ 286 MB/2.0 GB  139 MB/s     12s\u001b[K\u001b[?25h\u001b[?2026l\u001b[?2026h\u001b[?25l\u001b[A\u001b[1Gpulling manifest \u001b[K\n",
            "pulling dde5aa3fc5ff...  16% ▕▏ 321 MB/2.0 GB  139 MB/s     12s\u001b[K\u001b[?25h\u001b[?2026l\u001b[?2026h\u001b[?25l\u001b[A\u001b[1Gpulling manifest \u001b[K\n",
            "pulling dde5aa3fc5ff...  17% ▕▏ 334 MB/2.0 GB  167 MB/s     10s\u001b[K\u001b[?25h\u001b[?2026l\u001b[?2026h\u001b[?25l\u001b[A\u001b[1Gpulling manifest \u001b[K\n",
            "pulling dde5aa3fc5ff...  17% ▕▏ 340 MB/2.0 GB  167 MB/s     10s\u001b[K\u001b[?25h\u001b[?2026l\u001b[?2026h\u001b[?25l\u001b[A\u001b[1Gpulling manifest \u001b[K\n",
            "pulling dde5aa3fc5ff...  19% ▕▏ 375 MB/2.0 GB  167 MB/s      9s\u001b[K\u001b[?25h\u001b[?2026l\u001b[?2026h\u001b[?25l\u001b[A\u001b[1Gpulling manifest \u001b[K\n",
            "pulling dde5aa3fc5ff...  20% ▕▏ 410 MB/2.0 GB  167 MB/s      9s\u001b[K\u001b[?25h\u001b[?2026l\u001b[?2026h\u001b[?25l\u001b[A\u001b[1Gpulling manifest \u001b[K\n",
            "pulling dde5aa3fc5ff...  21% ▕▏ 424 MB/2.0 GB  167 MB/s      9s\u001b[K\u001b[?25h\u001b[?2026l\u001b[?2026h\u001b[?25l\u001b[A\u001b[1Gpulling manifest \u001b[K\n",
            "pulling dde5aa3fc5ff...  22% ▕▏ 452 MB/2.0 GB  167 MB/s      9s\u001b[K\u001b[?25h\u001b[?2026l\u001b[?2026h\u001b[?25l\u001b[A\u001b[1Gpulling manifest \u001b[K\n",
            "pulling dde5aa3fc5ff...  23% ▕▏ 459 MB/2.0 GB  167 MB/s      9s\u001b[K\u001b[?25h\u001b[?2026l\u001b[?2026h\u001b[?25l\u001b[A\u001b[1Gpulling manifest \u001b[K\n",
            "pulling dde5aa3fc5ff...  24% ▕▏ 475 MB/2.0 GB  167 MB/s      9s\u001b[K\u001b[?25h\u001b[?2026l\u001b[?2026h\u001b[?25l\u001b[A\u001b[1Gpulling manifest \u001b[K\n",
            "pulling dde5aa3fc5ff...  24% ▕▏ 480 MB/2.0 GB  167 MB/s      9s\u001b[K\u001b[?25h\u001b[?2026l\u001b[?2026h\u001b[?25l\u001b[A\u001b[1Gpulling manifest \u001b[K\n",
            "pulling dde5aa3fc5ff...  24% ▕▏ 494 MB/2.0 GB  167 MB/s      9s\u001b[K\u001b[?25h\u001b[?2026l\u001b[?2026h\u001b[?25l\u001b[A\u001b[1Gpulling manifest \u001b[K\n",
            "pulling dde5aa3fc5ff...  25% ▕▏ 502 MB/2.0 GB  167 MB/s      9s\u001b[K\u001b[?25h\u001b[?2026l\u001b[?2026h\u001b[?25l\u001b[A\u001b[1Gpulling manifest \u001b[K\n",
            "pulling dde5aa3fc5ff...  26% ▕▏ 518 MB/2.0 GB  172 MB/s      8s\u001b[K\u001b[?25h\u001b[?2026l\u001b[?2026h\u001b[?25l\u001b[A\u001b[1Gpulling manifest \u001b[K\n",
            "pulling dde5aa3fc5ff...  27% ▕▏ 542 MB/2.0 GB  172 MB/s      8s\u001b[K\u001b[?25h\u001b[?2026l\u001b[?2026h\u001b[?25l\u001b[A\u001b[1Gpulling manifest \u001b[K\n",
            "pulling dde5aa3fc5ff...  27% ▕▏ 552 MB/2.0 GB  172 MB/s      8s\u001b[K\u001b[?25h\u001b[?2026l\u001b[?2026h\u001b[?25l\u001b[A\u001b[1Gpulling manifest \u001b[K\n",
            "pulling dde5aa3fc5ff...  28% ▕▏ 573 MB/2.0 GB  172 MB/s      8s\u001b[K\u001b[?25h\u001b[?2026l\u001b[?2026h\u001b[?25l\u001b[A\u001b[1Gpulling manifest \u001b[K\n",
            "pulling dde5aa3fc5ff...  29% ▕▏ 586 MB/2.0 GB  172 MB/s      8s\u001b[K\u001b[?25h\u001b[?2026l\u001b[?2026h\u001b[?25l\u001b[A\u001b[1Gpulling manifest \u001b[K\n",
            "pulling dde5aa3fc5ff...  29% ▕▏ 592 MB/2.0 GB  172 MB/s      8s\u001b[K\u001b[?25h\u001b[?2026l\u001b[?2026h\u001b[?25l\u001b[A\u001b[1Gpulling manifest \u001b[K\n",
            "pulling dde5aa3fc5ff...  29% ▕▏ 594 MB/2.0 GB  172 MB/s      8s\u001b[K\u001b[?25h\u001b[?2026l\u001b[?2026h\u001b[?25l\u001b[A\u001b[1Gpulling manifest \u001b[K\n",
            "pulling dde5aa3fc5ff...  30% ▕▏ 598 MB/2.0 GB  172 MB/s      8s\u001b[K\u001b[?25h\u001b[?2026l\u001b[?2026h\u001b[?25l\u001b[A\u001b[1Gpulling manifest \u001b[K\n",
            "pulling dde5aa3fc5ff...  30% ▕▏ 599 MB/2.0 GB  172 MB/s      8s\u001b[K\u001b[?25h\u001b[?2026l\u001b[?2026h\u001b[?25l\u001b[A\u001b[1Gpulling manifest \u001b[K\n",
            "pulling dde5aa3fc5ff...  30% ▕▏ 600 MB/2.0 GB  172 MB/s      8s\u001b[K\u001b[?25h\u001b[?2026l\u001b[?2026h\u001b[?25l\u001b[A\u001b[1Gpulling manifest \u001b[K\n",
            "pulling dde5aa3fc5ff...  30% ▕▏ 600 MB/2.0 GB  150 MB/s      9s\u001b[K\u001b[?25h\u001b[?2026l\u001b[?2026h\u001b[?25l\u001b[A\u001b[1Gpulling manifest \u001b[K\n",
            "pulling dde5aa3fc5ff...  30% ▕▏ 601 MB/2.0 GB  150 MB/s      9s\u001b[K\u001b[?25h\u001b[?2026l\u001b[?2026h\u001b[?25l\u001b[A\u001b[1Gpulling manifest \u001b[K\n",
            "pulling dde5aa3fc5ff...  30% ▕▏ 601 MB/2.0 GB  150 MB/s      9s\u001b[K\u001b[?25h\u001b[?2026l\u001b[?2026h\u001b[?25l\u001b[A\u001b[1Gpulling manifest \u001b[K\n",
            "pulling dde5aa3fc5ff...  30% ▕▏ 601 MB/2.0 GB  150 MB/s      9s\u001b[K\u001b[?25h\u001b[?2026l\u001b[?2026h\u001b[?25l\u001b[A\u001b[1Gpulling manifest \u001b[K\n",
            "pulling dde5aa3fc5ff...  30% ▕▏ 602 MB/2.0 GB  150 MB/s      9s\u001b[K\u001b[?25h\u001b[?2026l\u001b[?2026h\u001b[?25l\u001b[A\u001b[1Gpulling manifest \u001b[K\n",
            "pulling dde5aa3fc5ff...  30% ▕▏ 602 MB/2.0 GB  150 MB/s      9s\u001b[K\u001b[?25h\u001b[?2026l\u001b[?2026h\u001b[?25l\u001b[A\u001b[1Gpulling manifest \u001b[K\n",
            "pulling dde5aa3fc5ff...  30% ▕▏ 602 MB/2.0 GB  150 MB/s      9s\u001b[K\u001b[?25h\u001b[?2026l\u001b[?2026h\u001b[?25l\u001b[A\u001b[1Gpulling manifest \u001b[K\n",
            "pulling dde5aa3fc5ff...  30% ▕▏ 602 MB/2.0 GB  150 MB/s      9s\u001b[K\u001b[?25h\u001b[?2026l\u001b[?2026h\u001b[?25l\u001b[A\u001b[1Gpulling manifest \u001b[K\n",
            "pulling dde5aa3fc5ff...  30% ▕▏ 602 MB/2.0 GB  150 MB/s      9s\u001b[K\u001b[?25h\u001b[?2026l\u001b[?2026h\u001b[?25l\u001b[A\u001b[1Gpulling manifest \u001b[K\n",
            "pulling dde5aa3fc5ff...  30% ▕▏ 603 MB/2.0 GB  150 MB/s      9s\u001b[K\u001b[?25h\u001b[?2026l\u001b[?2026h\u001b[?25l\u001b[A\u001b[1Gpulling manifest \u001b[K\n",
            "pulling dde5aa3fc5ff...  30% ▕▏ 603 MB/2.0 GB  150 MB/s      9s\u001b[K\u001b[?25h\u001b[?2026l\u001b[?2026h\u001b[?25l\u001b[A\u001b[1Gpulling manifest \u001b[K\n",
            "pulling dde5aa3fc5ff...  30% ▕▏ 603 MB/2.0 GB  120 MB/s     11s\u001b[K\u001b[?25h\u001b[?2026l\u001b[?2026h\u001b[?25l\u001b[A\u001b[1Gpulling manifest \u001b[K\n",
            "pulling dde5aa3fc5ff...  30% ▕▏ 603 MB/2.0 GB  120 MB/s     11s\u001b[K\u001b[?25h\u001b[?2026l\u001b[?2026h\u001b[?25l\u001b[A\u001b[1Gpulling manifest \u001b[K\n",
            "pulling dde5aa3fc5ff...  30% ▕▏ 603 MB/2.0 GB  120 MB/s     11s\u001b[K\u001b[?25h\u001b[?2026l\u001b[?2026h\u001b[?25l\u001b[A\u001b[1Gpulling manifest \u001b[K\n",
            "pulling dde5aa3fc5ff...  30% ▕▏ 604 MB/2.0 GB  120 MB/s     11s\u001b[K\u001b[?25h\u001b[?2026l\u001b[?2026h\u001b[?25l\u001b[A\u001b[1Gpulling manifest \u001b[K\n",
            "pulling dde5aa3fc5ff...  30% ▕▏ 604 MB/2.0 GB  120 MB/s     11s\u001b[K\u001b[?25h\u001b[?2026l\u001b[?2026h\u001b[?25l\u001b[A\u001b[1Gpulling manifest \u001b[K\n",
            "pulling dde5aa3fc5ff...  30% ▕▏ 604 MB/2.0 GB  120 MB/s     11s\u001b[K\u001b[?25h\u001b[?2026l\u001b[?2026h\u001b[?25l\u001b[A\u001b[1Gpulling manifest \u001b[K\n",
            "pulling dde5aa3fc5ff...  30% ▕▏ 604 MB/2.0 GB  120 MB/s     11s\u001b[K\u001b[?25h\u001b[?2026l\u001b[?2026h\u001b[?25l\u001b[A\u001b[1Gpulling manifest \u001b[K\n",
            "pulling dde5aa3fc5ff...  30% ▕▏ 604 MB/2.0 GB  120 MB/s     11s\u001b[K\u001b[?25h\u001b[?2026l\u001b[?2026h\u001b[?25l\u001b[A\u001b[1Gpulling manifest \u001b[K\n",
            "pulling dde5aa3fc5ff...  30% ▕▏ 604 MB/2.0 GB  120 MB/s     11s\u001b[K\u001b[?25h\u001b[?2026l\u001b[?2026h\u001b[?25l\u001b[A\u001b[1Gpulling manifest \u001b[K\n",
            "pulling dde5aa3fc5ff...  30% ▕▏ 605 MB/2.0 GB  120 MB/s     11s\u001b[K\u001b[?25h\u001b[?2026l\u001b[?2026h\u001b[?25l\u001b[A\u001b[1Gpulling manifest \u001b[K\n",
            "pulling dde5aa3fc5ff...  30% ▕▏ 605 MB/2.0 GB  100 MB/s     14s\u001b[K\u001b[?25h\u001b[?2026l\u001b[?2026h\u001b[?25l\u001b[A\u001b[1Gpulling manifest \u001b[K\n",
            "pulling dde5aa3fc5ff...  30% ▕▏ 605 MB/2.0 GB  100 MB/s     14s\u001b[K\u001b[?25h\u001b[?2026l\u001b[?2026h\u001b[?25l\u001b[A\u001b[1Gpulling manifest \u001b[K\n",
            "pulling dde5aa3fc5ff...  30% ▕▏ 605 MB/2.0 GB  100 MB/s     14s\u001b[K\u001b[?25h\u001b[?2026l\u001b[?2026h\u001b[?25l\u001b[A\u001b[1Gpulling manifest \u001b[K\n",
            "pulling dde5aa3fc5ff...  30% ▕▏ 606 MB/2.0 GB  100 MB/s     14s\u001b[K\u001b[?25h\u001b[?2026l\u001b[?2026h\u001b[?25l\u001b[A\u001b[1Gpulling manifest \u001b[K\n",
            "pulling dde5aa3fc5ff...  30% ▕▏ 606 MB/2.0 GB  100 MB/s     14s\u001b[K\u001b[?25h\u001b[?2026l\u001b[?2026h\u001b[?25l\u001b[A\u001b[1Gpulling manifest \u001b[K\n",
            "pulling dde5aa3fc5ff...  30% ▕▏ 606 MB/2.0 GB  100 MB/s     14s\u001b[K\u001b[?25h\u001b[?2026l\u001b[?2026h\u001b[?25l\u001b[A\u001b[1Gpulling manifest \u001b[K\n",
            "pulling dde5aa3fc5ff...  30% ▕▏ 606 MB/2.0 GB  100 MB/s     14s\u001b[K\u001b[?25h\u001b[?2026l\u001b[?2026h\u001b[?25l\u001b[A\u001b[1Gpulling manifest \u001b[K\n",
            "pulling dde5aa3fc5ff...  30% ▕▏ 606 MB/2.0 GB  100 MB/s     14s\u001b[K\u001b[?25h\u001b[?2026l\u001b[?2026h\u001b[?25l\u001b[A\u001b[1Gpulling manifest \u001b[K\n",
            "pulling dde5aa3fc5ff...  30% ▕▏ 607 MB/2.0 GB  100 MB/s     13s\u001b[K\u001b[?25h\u001b[?2026l\u001b[?2026h\u001b[?25l\u001b[A\u001b[1Gpulling manifest \u001b[K\n",
            "pulling dde5aa3fc5ff...  32% ▕▏ 645 MB/2.0 GB  100 MB/s     13s\u001b[K\u001b[?25h\u001b[?2026l\u001b[?2026h\u001b[?25l\u001b[A\u001b[1Gpulling manifest \u001b[K\n",
            "pulling dde5aa3fc5ff...  34% ▕▏ 679 MB/2.0 GB   97 MB/s     13s\u001b[K\u001b[?25h\u001b[?2026l\u001b[?2026h\u001b[?25l\u001b[A\u001b[1Gpulling manifest \u001b[K\n",
            "pulling dde5aa3fc5ff...  36% ▕▏ 732 MB/2.0 GB   97 MB/s     13s\u001b[K\u001b[?25h\u001b[?2026l\u001b[?2026h\u001b[?25l\u001b[A\u001b[1Gpulling manifest \u001b[K\n",
            "pulling dde5aa3fc5ff...  38% ▕▏ 765 MB/2.0 GB   97 MB/s     12s\u001b[K\u001b[?25h\u001b[?2026l\u001b[?2026h\u001b[?25l\u001b[A\u001b[1Gpulling manifest \u001b[K\n",
            "pulling dde5aa3fc5ff...  38% ▕▏ 776 MB/2.0 GB   97 MB/s     12s\u001b[K\u001b[?25h\u001b[?2026l\u001b[?2026h\u001b[?25l\u001b[A\u001b[1Gpulling manifest \u001b[K\n",
            "pulling dde5aa3fc5ff...  40% ▕▏ 811 MB/2.0 GB   97 MB/s     12s\u001b[K\u001b[?25h\u001b[?2026l\u001b[?2026h\u001b[?25l\u001b[A\u001b[1Gpulling manifest \u001b[K\n",
            "pulling dde5aa3fc5ff...  42% ▕▏ 847 MB/2.0 GB   97 MB/s     12s\u001b[K\u001b[?25h\u001b[?2026l\u001b[?2026h\u001b[?25l\u001b[A\u001b[1Gpulling manifest \u001b[K\n",
            "pulling dde5aa3fc5ff...  43% ▕▏ 862 MB/2.0 GB   97 MB/s     11s\u001b[K\u001b[?25h\u001b[?2026l\u001b[?2026h\u001b[?25l\u001b[A\u001b[1Gpulling manifest \u001b[K\n",
            "pulling dde5aa3fc5ff...  44% ▕▏ 888 MB/2.0 GB   97 MB/s     11s\u001b[K\u001b[?25h\u001b[?2026l\u001b[?2026h\u001b[?25l\u001b[A\u001b[1Gpulling manifest \u001b[K\n",
            "pulling dde5aa3fc5ff...  46% ▕▏ 927 MB/2.0 GB   97 MB/s     11s\u001b[K\u001b[?25h\u001b[?2026l\u001b[?2026h\u001b[?25l\u001b[A\u001b[1Gpulling manifest \u001b[K\n",
            "pulling dde5aa3fc5ff...  47% ▕▏ 943 MB/2.0 GB   97 MB/s     11s\u001b[K\u001b[?25h\u001b[?2026l\u001b[?2026h\u001b[?25l\u001b[A\u001b[1Gpulling manifest \u001b[K\n",
            "pulling dde5aa3fc5ff...  48% ▕▏ 973 MB/2.0 GB  121 MB/s      8s\u001b[K\u001b[?25h\u001b[?2026l\u001b[?2026h\u001b[?25l\u001b[A\u001b[1Gpulling manifest \u001b[K\n",
            "pulling dde5aa3fc5ff...  51% ▕▏ 1.0 GB/2.0 GB  121 MB/s      8s\u001b[K\u001b[?25h\u001b[?2026l\u001b[?2026h\u001b[?25l\u001b[A\u001b[1Gpulling manifest \u001b[K\n",
            "pulling dde5aa3fc5ff...  52% ▕▏ 1.0 GB/2.0 GB  121 MB/s      8s\u001b[K\u001b[?25h\u001b[?2026l\u001b[?2026h\u001b[?25l\u001b[A\u001b[1Gpulling manifest \u001b[K\n",
            "pulling dde5aa3fc5ff...  53% ▕▏ 1.1 GB/2.0 GB  121 MB/s      7s\u001b[K\u001b[?25h\u001b[?2026l\u001b[?2026h\u001b[?25l\u001b[A\u001b[1Gpulling manifest \u001b[K\n",
            "pulling dde5aa3fc5ff...  56% ▕▏ 1.1 GB/2.0 GB  121 MB/s      7s\u001b[K\u001b[?25h\u001b[?2026l\u001b[?2026h\u001b[?25l\u001b[A\u001b[1Gpulling manifest \u001b[K\n",
            "pulling dde5aa3fc5ff...  57% ▕▏ 1.1 GB/2.0 GB  121 MB/s      7s\u001b[K\u001b[?25h\u001b[?2026l\u001b[?2026h\u001b[?25l\u001b[A\u001b[1Gpulling manifest \u001b[K\n",
            "pulling dde5aa3fc5ff...  59% ▕▏ 1.2 GB/2.0 GB  121 MB/s      6s\u001b[K\u001b[?25h\u001b[?2026l\u001b[?2026h\u001b[?25l\u001b[A\u001b[1Gpulling manifest \u001b[K\n",
            "pulling dde5aa3fc5ff...  60% ▕▏ 1.2 GB/2.0 GB  121 MB/s      6s\u001b[K\u001b[?25h\u001b[?2026l\u001b[?2026h\u001b[?25l\u001b[A\u001b[1Gpulling manifest \u001b[K\n",
            "pulling dde5aa3fc5ff...  61% ▕▏ 1.2 GB/2.0 GB  121 MB/s      6s\u001b[K\u001b[?25h\u001b[?2026l\u001b[?2026h\u001b[?25l\u001b[A\u001b[1Gpulling manifest \u001b[K\n",
            "pulling dde5aa3fc5ff...  62% ▕▏ 1.3 GB/2.0 GB  121 MB/s      6s\u001b[K\u001b[?25h\u001b[?2026l\u001b[?2026h\u001b[?25l\u001b[A\u001b[1Gpulling manifest \u001b[K\n",
            "pulling dde5aa3fc5ff...  64% ▕▏ 1.3 GB/2.0 GB  142 MB/s      5s\u001b[K\u001b[?25h\u001b[?2026l\u001b[?2026h\u001b[?25l\u001b[A\u001b[1Gpulling manifest \u001b[K\n",
            "pulling dde5aa3fc5ff...  65% ▕▏ 1.3 GB/2.0 GB  142 MB/s      5s\u001b[K\u001b[?25h\u001b[?2026l\u001b[?2026h\u001b[?25l\u001b[A\u001b[1Gpulling manifest \u001b[K\n",
            "pulling dde5aa3fc5ff...  66% ▕▏ 1.3 GB/2.0 GB  142 MB/s      4s\u001b[K\u001b[?25h\u001b[?2026l\u001b[?2026h\u001b[?25l\u001b[A\u001b[1Gpulling manifest \u001b[K\n",
            "pulling dde5aa3fc5ff...  68% ▕▏ 1.4 GB/2.0 GB  142 MB/s      4s\u001b[K\u001b[?25h\u001b[?2026l\u001b[?2026h\u001b[?25l\u001b[A\u001b[1Gpulling manifest \u001b[K\n",
            "pulling dde5aa3fc5ff...  69% ▕▏ 1.4 GB/2.0 GB  142 MB/s      4s\u001b[K\u001b[?25h\u001b[?2026l\u001b[?2026h\u001b[?25l\u001b[A\u001b[1Gpulling manifest \u001b[K\n",
            "pulling dde5aa3fc5ff...  70% ▕▏ 1.4 GB/2.0 GB  142 MB/s      4s\u001b[K\u001b[?25h\u001b[?2026l\u001b[?2026h\u001b[?25l\u001b[A\u001b[1Gpulling manifest \u001b[K\n",
            "pulling dde5aa3fc5ff...  71% ▕▏ 1.4 GB/2.0 GB  142 MB/s      4s\u001b[K\u001b[?25h\u001b[?2026l\u001b[?2026h\u001b[?25l\u001b[A\u001b[1Gpulling manifest \u001b[K\n",
            "pulling dde5aa3fc5ff...  72% ▕▏ 1.5 GB/2.0 GB  142 MB/s      3s\u001b[K\u001b[?25h\u001b[?2026l\u001b[?2026h\u001b[?25l\u001b[A\u001b[1Gpulling manifest \u001b[K\n",
            "pulling dde5aa3fc5ff...  74% ▕▏ 1.5 GB/2.0 GB  142 MB/s      3s\u001b[K\u001b[?25h\u001b[?2026l\u001b[?2026h\u001b[?25l\u001b[A\u001b[1Gpulling manifest \u001b[K\n",
            "pulling dde5aa3fc5ff...  75% ▕▏ 1.5 GB/2.0 GB  142 MB/s      3s\u001b[K\u001b[?25h\u001b[?2026l\u001b[?2026h\u001b[?25l\u001b[A\u001b[1Gpulling manifest \u001b[K\n",
            "pulling dde5aa3fc5ff...  76% ▕▏ 1.5 GB/2.0 GB  142 MB/s      3s\u001b[K\u001b[?25h\u001b[?2026l\u001b[?2026h\u001b[?25l\u001b[A\u001b[1Gpulling manifest \u001b[K\n",
            "pulling dde5aa3fc5ff...  78% ▕▏ 1.6 GB/2.0 GB  156 MB/s      2s\u001b[K\u001b[?25h\u001b[?2026l\u001b[?2026h\u001b[?25l\u001b[A\u001b[1Gpulling manifest \u001b[K\n",
            "pulling dde5aa3fc5ff...  79% ▕▏ 1.6 GB/2.0 GB  156 MB/s      2s\u001b[K\u001b[?25h\u001b[?2026l\u001b[?2026h\u001b[?25l\u001b[A\u001b[1Gpulling manifest \u001b[K\n",
            "pulling dde5aa3fc5ff...  81% ▕▏ 1.6 GB/2.0 GB  156 MB/s      2s\u001b[K\u001b[?25h\u001b[?2026l\u001b[?2026h\u001b[?25l\u001b[A\u001b[1Gpulling manifest \u001b[K\n",
            "pulling dde5aa3fc5ff...  81% ▕▏ 1.6 GB/2.0 GB  156 MB/s      2s\u001b[K\u001b[?25h\u001b[?2026l\u001b[?2026h\u001b[?25l\u001b[A\u001b[1Gpulling manifest \u001b[K\n",
            "pulling dde5aa3fc5ff...  83% ▕▏ 1.7 GB/2.0 GB  156 MB/s      2s\u001b[K\u001b[?25h\u001b[?2026l\u001b[?2026h\u001b[?25l\u001b[A\u001b[1Gpulling manifest \u001b[K\n",
            "pulling dde5aa3fc5ff...  83% ▕▏ 1.7 GB/2.0 GB  156 MB/s      2s\u001b[K\u001b[?25h\u001b[?2026l\u001b[?2026h\u001b[?25l\u001b[A\u001b[1Gpulling manifest \u001b[K\n",
            "pulling dde5aa3fc5ff...  84% ▕▏ 1.7 GB/2.0 GB  156 MB/s      2s\u001b[K\u001b[?25h\u001b[?2026l\u001b[?2026h\u001b[?25l\u001b[A\u001b[1Gpulling manifest \u001b[K\n",
            "pulling dde5aa3fc5ff...  85% ▕▏ 1.7 GB/2.0 GB  156 MB/s      1s\u001b[K\u001b[?25h\u001b[?2026l\u001b[?2026h\u001b[?25l\u001b[A\u001b[1Gpulling manifest \u001b[K\n",
            "pulling dde5aa3fc5ff...  86% ▕▏ 1.7 GB/2.0 GB  156 MB/s      1s\u001b[K\u001b[?25h\u001b[?2026l\u001b[?2026h\u001b[?25l\u001b[A\u001b[1Gpulling manifest \u001b[K\n",
            "pulling dde5aa3fc5ff...  88% ▕▏ 1.8 GB/2.0 GB  156 MB/s      1s\u001b[K\u001b[?25h\u001b[?2026l\u001b[?2026h\u001b[?25l\u001b[A\u001b[1Gpulling manifest \u001b[K\n",
            "pulling dde5aa3fc5ff...  90% ▕▏ 1.8 GB/2.0 GB  162 MB/s      1s\u001b[K\u001b[?25h\u001b[?2026l\u001b[?2026h\u001b[?25l\u001b[A\u001b[1Gpulling manifest \u001b[K\n",
            "pulling dde5aa3fc5ff...  91% ▕▏ 1.8 GB/2.0 GB  162 MB/s      1s\u001b[K\u001b[?25h\u001b[?2026l\u001b[?2026h\u001b[?25l\u001b[A\u001b[1Gpulling manifest \u001b[K\n",
            "pulling dde5aa3fc5ff...  93% ▕▏ 1.9 GB/2.0 GB  162 MB/s      0s\u001b[K\u001b[?25h\u001b[?2026l\u001b[?2026h\u001b[?25l\u001b[A\u001b[1Gpulling manifest \u001b[K\n",
            "pulling dde5aa3fc5ff...  94% ▕▏ 1.9 GB/2.0 GB  162 MB/s      0s\u001b[K\u001b[?25h\u001b[?2026l\u001b[?2026h\u001b[?25l\u001b[A\u001b[1Gpulling manifest \u001b[K\n",
            "pulling dde5aa3fc5ff...  94% ▕▏ 1.9 GB/2.0 GB  162 MB/s      0s\u001b[K\u001b[?25h\u001b[?2026l\u001b[?2026h\u001b[?25l\u001b[A\u001b[1Gpulling manifest \u001b[K\n",
            "pulling dde5aa3fc5ff...  95% ▕▏ 1.9 GB/2.0 GB  162 MB/s      0s\u001b[K\u001b[?25h\u001b[?2026l\u001b[?2026h\u001b[?25l\u001b[A\u001b[1Gpulling manifest \u001b[K\n",
            "pulling dde5aa3fc5ff...  96% ▕▏ 1.9 GB/2.0 GB  162 MB/s      0s\u001b[K\u001b[?25h\u001b[?2026l\u001b[?2026h\u001b[?25l\u001b[A\u001b[1Gpulling manifest \u001b[K\n",
            "pulling dde5aa3fc5ff...  96% ▕▏ 1.9 GB/2.0 GB  162 MB/s      0s\u001b[K\u001b[?25h\u001b[?2026l\u001b[?2026h\u001b[?25l\u001b[A\u001b[1Gpulling manifest \u001b[K\n",
            "pulling dde5aa3fc5ff...  98% ▕▏ 2.0 GB/2.0 GB  162 MB/s      0s\u001b[K\u001b[?25h\u001b[?2026l\u001b[?2026h\u001b[?25l\u001b[A\u001b[1Gpulling manifest \u001b[K\n",
            "pulling dde5aa3fc5ff...  99% ▕▏ 2.0 GB/2.0 GB  162 MB/s      0s\u001b[K\u001b[?25h\u001b[?2026l\u001b[?2026h\u001b[?25l\u001b[A\u001b[1Gpulling manifest \u001b[K\n",
            "pulling dde5aa3fc5ff...  99% ▕▏ 2.0 GB/2.0 GB  165 MB/s      0s\u001b[K\u001b[?25h\u001b[?2026l\u001b[?2026h\u001b[?25l\u001b[A\u001b[1Gpulling manifest \u001b[K\n",
            "pulling dde5aa3fc5ff... 100% ▕▏ 2.0 GB/2.0 GB  165 MB/s      0s\u001b[K\u001b[?25h\u001b[?2026l\u001b[?2026h\u001b[?25l\u001b[A\u001b[1Gpulling manifest \u001b[K\n",
            "pulling dde5aa3fc5ff... 100% ▕▏ 2.0 GB                         \u001b[K\u001b[?25h\u001b[?2026l\u001b[?2026h\u001b[?25l\u001b[A\u001b[1Gpulling manifest \u001b[K\n",
            "pulling dde5aa3fc5ff... 100% ▕▏ 2.0 GB                         \u001b[K\u001b[?25h\u001b[?2026l\u001b[?2026h\u001b[?25l\u001b[A\u001b[1Gpulling manifest \u001b[K\n",
            "pulling dde5aa3fc5ff... 100% ▕▏ 2.0 GB                         \u001b[K\u001b[?25h\u001b[?2026l\u001b[?2026h\u001b[?25l\u001b[A\u001b[1Gpulling manifest \u001b[K\n",
            "pulling dde5aa3fc5ff... 100% ▕▏ 2.0 GB                         \u001b[K\u001b[?25h\u001b[?2026l\u001b[?2026h\u001b[?25l\u001b[A\u001b[1Gpulling manifest \u001b[K\n",
            "pulling dde5aa3fc5ff... 100% ▕▏ 2.0 GB                         \u001b[K\u001b[?25h\u001b[?2026l\u001b[?2026h\u001b[?25l\u001b[A\u001b[1Gpulling manifest \u001b[K\n",
            "pulling dde5aa3fc5ff... 100% ▕▏ 2.0 GB                         \u001b[K\u001b[?25h\u001b[?2026l\u001b[?2026h\u001b[?25l\u001b[A\u001b[1Gpulling manifest \u001b[K\n",
            "pulling dde5aa3fc5ff... 100% ▕▏ 2.0 GB                         \u001b[K\u001b[?25h\u001b[?2026l\u001b[?2026h\u001b[?25l\u001b[A\u001b[1Gpulling manifest \u001b[K\n",
            "pulling dde5aa3fc5ff... 100% ▕▏ 2.0 GB                         \u001b[K\n",
            "pulling 966de95ca8a6... 100% ▕▏ 1.4 KB                         \u001b[K\u001b[?25h\u001b[?2026l\u001b[?2026h\u001b[?25l\u001b[A\u001b[A\u001b[1Gpulling manifest \u001b[K\n",
            "pulling dde5aa3fc5ff... 100% ▕▏ 2.0 GB                         \u001b[K\n",
            "pulling 966de95ca8a6... 100% ▕▏ 1.4 KB                         \u001b[K\u001b[?25h\u001b[?2026l\u001b[?2026h\u001b[?25l\u001b[A\u001b[A\u001b[1Gpulling manifest \u001b[K\n",
            "pulling dde5aa3fc5ff... 100% ▕▏ 2.0 GB                         \u001b[K\n",
            "pulling 966de95ca8a6... 100% ▕▏ 1.4 KB                         \u001b[K\u001b[?25h\u001b[?2026l\u001b[?2026h\u001b[?25l\u001b[A\u001b[A\u001b[1Gpulling manifest \u001b[K\n",
            "pulling dde5aa3fc5ff... 100% ▕▏ 2.0 GB                         \u001b[K\n",
            "pulling 966de95ca8a6... 100% ▕▏ 1.4 KB                         \u001b[K\u001b[?25h\u001b[?2026l\u001b[?2026h\u001b[?25l\u001b[A\u001b[A\u001b[1Gpulling manifest \u001b[K\n",
            "pulling dde5aa3fc5ff... 100% ▕▏ 2.0 GB                         \u001b[K\n",
            "pulling 966de95ca8a6... 100% ▕▏ 1.4 KB                         \u001b[K\u001b[?25h\u001b[?2026l\u001b[?2026h\u001b[?25l\u001b[A\u001b[A\u001b[1Gpulling manifest \u001b[K\n",
            "pulling dde5aa3fc5ff... 100% ▕▏ 2.0 GB                         \u001b[K\n",
            "pulling 966de95ca8a6... 100% ▕▏ 1.4 KB                         \u001b[K\u001b[?25h\u001b[?2026l\u001b[?2026h\u001b[?25l\u001b[A\u001b[A\u001b[1Gpulling manifest \u001b[K\n",
            "pulling dde5aa3fc5ff... 100% ▕▏ 2.0 GB                         \u001b[K\n",
            "pulling 966de95ca8a6... 100% ▕▏ 1.4 KB                         \u001b[K\u001b[?25h\u001b[?2026l\u001b[?2026h\u001b[?25l\u001b[A\u001b[A\u001b[1Gpulling manifest \u001b[K\n",
            "pulling dde5aa3fc5ff... 100% ▕▏ 2.0 GB                         \u001b[K\n",
            "pulling 966de95ca8a6... 100% ▕▏ 1.4 KB                         \u001b[K\u001b[?25h\u001b[?2026l\u001b[?2026h\u001b[?25l\u001b[A\u001b[A\u001b[1Gpulling manifest \u001b[K\n",
            "pulling dde5aa3fc5ff... 100% ▕▏ 2.0 GB                         \u001b[K\n",
            "pulling 966de95ca8a6... 100% ▕▏ 1.4 KB                         \u001b[K\u001b[?25h\u001b[?2026l\u001b[?2026h\u001b[?25l\u001b[A\u001b[A\u001b[1Gpulling manifest \u001b[K\n",
            "pulling dde5aa3fc5ff... 100% ▕▏ 2.0 GB                         \u001b[K\n",
            "pulling 966de95ca8a6... 100% ▕▏ 1.4 KB                         \u001b[K\u001b[?25h\u001b[?2026l\u001b[?2026h\u001b[?25l\u001b[A\u001b[A\u001b[1Gpulling manifest \u001b[K\n",
            "pulling dde5aa3fc5ff... 100% ▕▏ 2.0 GB                         \u001b[K\n",
            "pulling 966de95ca8a6... 100% ▕▏ 1.4 KB                         \u001b[K\u001b[?25h\u001b[?2026l\u001b[?2026h\u001b[?25l\u001b[A\u001b[A\u001b[1Gpulling manifest \u001b[K\n",
            "pulling dde5aa3fc5ff... 100% ▕▏ 2.0 GB                         \u001b[K\n",
            "pulling 966de95ca8a6... 100% ▕▏ 1.4 KB                         \u001b[K\n",
            "pulling fcc5a6bec9da...   0% ▕▏    0 B/7.7 KB                  \u001b[K\u001b[?25h\u001b[?2026l\u001b[?2026h\u001b[?25l\u001b[A\u001b[A\u001b[A\u001b[1Gpulling manifest \u001b[K\n",
            "pulling dde5aa3fc5ff... 100% ▕▏ 2.0 GB                         \u001b[K\n",
            "pulling 966de95ca8a6... 100% ▕▏ 1.4 KB                         \u001b[K\n",
            "pulling fcc5a6bec9da... 100% ▕▏ 7.7 KB                         \u001b[K\u001b[?25h\u001b[?2026l\u001b[?2026h\u001b[?25l\u001b[A\u001b[A\u001b[A\u001b[1Gpulling manifest \u001b[K\n",
            "pulling dde5aa3fc5ff... 100% ▕▏ 2.0 GB                         \u001b[K\n",
            "pulling 966de95ca8a6... 100% ▕▏ 1.4 KB                         \u001b[K\n",
            "pulling fcc5a6bec9da... 100% ▕▏ 7.7 KB                         \u001b[K\u001b[?25h\u001b[?2026l\u001b[?2026h\u001b[?25l\u001b[A\u001b[A\u001b[A\u001b[1Gpulling manifest \u001b[K\n",
            "pulling dde5aa3fc5ff... 100% ▕▏ 2.0 GB                         \u001b[K\n",
            "pulling 966de95ca8a6... 100% ▕▏ 1.4 KB                         \u001b[K\n",
            "pulling fcc5a6bec9da... 100% ▕▏ 7.7 KB                         \u001b[K\u001b[?25h\u001b[?2026l\u001b[?2026h\u001b[?25l\u001b[A\u001b[A\u001b[A\u001b[1Gpulling manifest \u001b[K\n",
            "pulling dde5aa3fc5ff... 100% ▕▏ 2.0 GB                         \u001b[K\n",
            "pulling 966de95ca8a6... 100% ▕▏ 1.4 KB                         \u001b[K\n",
            "pulling fcc5a6bec9da... 100% ▕▏ 7.7 KB                         \u001b[K\u001b[?25h\u001b[?2026l\u001b[?2026h\u001b[?25l\u001b[A\u001b[A\u001b[A\u001b[1Gpulling manifest \u001b[K\n",
            "pulling dde5aa3fc5ff... 100% ▕▏ 2.0 GB                         \u001b[K\n",
            "pulling 966de95ca8a6... 100% ▕▏ 1.4 KB                         \u001b[K\n",
            "pulling fcc5a6bec9da... 100% ▕▏ 7.7 KB                         \u001b[K\u001b[?25h\u001b[?2026l\u001b[?2026h\u001b[?25l\u001b[A\u001b[A\u001b[A\u001b[1Gpulling manifest \u001b[K\n",
            "pulling dde5aa3fc5ff... 100% ▕▏ 2.0 GB                         \u001b[K\n",
            "pulling 966de95ca8a6... 100% ▕▏ 1.4 KB                         \u001b[K\n",
            "pulling fcc5a6bec9da... 100% ▕▏ 7.7 KB                         \u001b[K\u001b[?25h\u001b[?2026l\u001b[?2026h\u001b[?25l\u001b[A\u001b[A\u001b[A\u001b[1Gpulling manifest \u001b[K\n",
            "pulling dde5aa3fc5ff... 100% ▕▏ 2.0 GB                         \u001b[K\n",
            "pulling 966de95ca8a6... 100% ▕▏ 1.4 KB                         \u001b[K\n",
            "pulling fcc5a6bec9da... 100% ▕▏ 7.7 KB                         \u001b[K\u001b[?25h\u001b[?2026l\u001b[?2026h\u001b[?25l\u001b[A\u001b[A\u001b[A\u001b[1Gpulling manifest \u001b[K\n",
            "pulling dde5aa3fc5ff... 100% ▕▏ 2.0 GB                         \u001b[K\n",
            "pulling 966de95ca8a6... 100% ▕▏ 1.4 KB                         \u001b[K\n",
            "pulling fcc5a6bec9da... 100% ▕▏ 7.7 KB                         \u001b[K\u001b[?25h\u001b[?2026l\u001b[?2026h\u001b[?25l\u001b[A\u001b[A\u001b[A\u001b[1Gpulling manifest \u001b[K\n",
            "pulling dde5aa3fc5ff... 100% ▕▏ 2.0 GB                         \u001b[K\n",
            "pulling 966de95ca8a6... 100% ▕▏ 1.4 KB                         \u001b[K\n",
            "pulling fcc5a6bec9da... 100% ▕▏ 7.7 KB                         \u001b[K\u001b[?25h\u001b[?2026l\u001b[?2026h\u001b[?25l\u001b[A\u001b[A\u001b[A\u001b[1Gpulling manifest \u001b[K\n",
            "pulling dde5aa3fc5ff... 100% ▕▏ 2.0 GB                         \u001b[K\n",
            "pulling 966de95ca8a6... 100% ▕▏ 1.4 KB                         \u001b[K\n",
            "pulling fcc5a6bec9da... 100% ▕▏ 7.7 KB                         \u001b[K\u001b[?25h\u001b[?2026l\u001b[?2026h\u001b[?25l\u001b[A\u001b[A\u001b[A\u001b[1Gpulling manifest \u001b[K\n",
            "pulling dde5aa3fc5ff... 100% ▕▏ 2.0 GB                         \u001b[K\n",
            "pulling 966de95ca8a6... 100% ▕▏ 1.4 KB                         \u001b[K\n",
            "pulling fcc5a6bec9da... 100% ▕▏ 7.7 KB                         \u001b[K\u001b[?25h\u001b[?2026l\u001b[?2026h\u001b[?25l\u001b[A\u001b[A\u001b[A\u001b[1Gpulling manifest \u001b[K\n",
            "pulling dde5aa3fc5ff... 100% ▕▏ 2.0 GB                         \u001b[K\n",
            "pulling 966de95ca8a6... 100% ▕▏ 1.4 KB                         \u001b[K\n",
            "pulling fcc5a6bec9da... 100% ▕▏ 7.7 KB                         \u001b[K\n",
            "pulling a70ff7e570d9... 100% ▕▏ 6.0 KB                         \u001b[K\u001b[?25h\u001b[?2026l\u001b[?2026h\u001b[?25l\u001b[A\u001b[A\u001b[A\u001b[A\u001b[1Gpulling manifest \u001b[K\n",
            "pulling dde5aa3fc5ff... 100% ▕▏ 2.0 GB                         \u001b[K\n",
            "pulling 966de95ca8a6... 100% ▕▏ 1.4 KB                         \u001b[K\n",
            "pulling fcc5a6bec9da... 100% ▕▏ 7.7 KB                         \u001b[K\n",
            "pulling a70ff7e570d9... 100% ▕▏ 6.0 KB                         \u001b[K\u001b[?25h\u001b[?2026l\u001b[?2026h\u001b[?25l\u001b[A\u001b[A\u001b[A\u001b[A\u001b[1Gpulling manifest \u001b[K\n",
            "pulling dde5aa3fc5ff... 100% ▕▏ 2.0 GB                         \u001b[K\n",
            "pulling 966de95ca8a6... 100% ▕▏ 1.4 KB                         \u001b[K\n",
            "pulling fcc5a6bec9da... 100% ▕▏ 7.7 KB                         \u001b[K\n",
            "pulling a70ff7e570d9... 100% ▕▏ 6.0 KB                         \u001b[K\u001b[?25h\u001b[?2026l\u001b[?2026h\u001b[?25l\u001b[A\u001b[A\u001b[A\u001b[A\u001b[1Gpulling manifest \u001b[K\n",
            "pulling dde5aa3fc5ff... 100% ▕▏ 2.0 GB                         \u001b[K\n",
            "pulling 966de95ca8a6... 100% ▕▏ 1.4 KB                         \u001b[K\n",
            "pulling fcc5a6bec9da... 100% ▕▏ 7.7 KB                         \u001b[K\n",
            "pulling a70ff7e570d9... 100% ▕▏ 6.0 KB                         \u001b[K\u001b[?25h\u001b[?2026l\u001b[?2026h\u001b[?25l\u001b[A\u001b[A\u001b[A\u001b[A\u001b[1Gpulling manifest \u001b[K\n",
            "pulling dde5aa3fc5ff... 100% ▕▏ 2.0 GB                         \u001b[K\n",
            "pulling 966de95ca8a6... 100% ▕▏ 1.4 KB                         \u001b[K\n",
            "pulling fcc5a6bec9da... 100% ▕▏ 7.7 KB                         \u001b[K\n",
            "pulling a70ff7e570d9... 100% ▕▏ 6.0 KB                         \u001b[K\u001b[?25h\u001b[?2026l\u001b[?2026h\u001b[?25l\u001b[A\u001b[A\u001b[A\u001b[A\u001b[1Gpulling manifest \u001b[K\n",
            "pulling dde5aa3fc5ff... 100% ▕▏ 2.0 GB                         \u001b[K\n",
            "pulling 966de95ca8a6... 100% ▕▏ 1.4 KB                         \u001b[K\n",
            "pulling fcc5a6bec9da... 100% ▕▏ 7.7 KB                         \u001b[K\n",
            "pulling a70ff7e570d9... 100% ▕▏ 6.0 KB                         \u001b[K\u001b[?25h\u001b[?2026l\u001b[?2026h\u001b[?25l\u001b[A\u001b[A\u001b[A\u001b[A\u001b[1Gpulling manifest \u001b[K\n",
            "pulling dde5aa3fc5ff... 100% ▕▏ 2.0 GB                         \u001b[K\n",
            "pulling 966de95ca8a6... 100% ▕▏ 1.4 KB                         \u001b[K\n",
            "pulling fcc5a6bec9da... 100% ▕▏ 7.7 KB                         \u001b[K\n",
            "pulling a70ff7e570d9... 100% ▕▏ 6.0 KB                         \u001b[K\u001b[?25h\u001b[?2026l\u001b[?2026h\u001b[?25l\u001b[A\u001b[A\u001b[A\u001b[A\u001b[1Gpulling manifest \u001b[K\n",
            "pulling dde5aa3fc5ff... 100% ▕▏ 2.0 GB                         \u001b[K\n",
            "pulling 966de95ca8a6... 100% ▕▏ 1.4 KB                         \u001b[K\n",
            "pulling fcc5a6bec9da... 100% ▕▏ 7.7 KB                         \u001b[K\n",
            "pulling a70ff7e570d9... 100% ▕▏ 6.0 KB                         \u001b[K\u001b[?25h\u001b[?2026l\u001b[?2026h\u001b[?25l\u001b[A\u001b[A\u001b[A\u001b[A\u001b[1Gpulling manifest \u001b[K\n",
            "pulling dde5aa3fc5ff... 100% ▕▏ 2.0 GB                         \u001b[K\n",
            "pulling 966de95ca8a6... 100% ▕▏ 1.4 KB                         \u001b[K\n",
            "pulling fcc5a6bec9da... 100% ▕▏ 7.7 KB                         \u001b[K\n",
            "pulling a70ff7e570d9... 100% ▕▏ 6.0 KB                         \u001b[K\u001b[?25h\u001b[?2026l\u001b[?2026h\u001b[?25l\u001b[A\u001b[A\u001b[A\u001b[A\u001b[1Gpulling manifest \u001b[K\n",
            "pulling dde5aa3fc5ff... 100% ▕▏ 2.0 GB                         \u001b[K\n",
            "pulling 966de95ca8a6... 100% ▕▏ 1.4 KB                         \u001b[K\n",
            "pulling fcc5a6bec9da... 100% ▕▏ 7.7 KB                         \u001b[K\n",
            "pulling a70ff7e570d9... 100% ▕▏ 6.0 KB                         \u001b[K\u001b[?25h\u001b[?2026l\u001b[?2026h\u001b[?25l\u001b[A\u001b[A\u001b[A\u001b[A\u001b[1Gpulling manifest \u001b[K\n",
            "pulling dde5aa3fc5ff... 100% ▕▏ 2.0 GB                         \u001b[K\n",
            "pulling 966de95ca8a6... 100% ▕▏ 1.4 KB                         \u001b[K\n",
            "pulling fcc5a6bec9da... 100% ▕▏ 7.7 KB                         \u001b[K\n",
            "pulling a70ff7e570d9... 100% ▕▏ 6.0 KB                         \u001b[K\u001b[?25h\u001b[?2026l\u001b[?2026h\u001b[?25l\u001b[A\u001b[A\u001b[A\u001b[A\u001b[1Gpulling manifest \u001b[K\n",
            "pulling dde5aa3fc5ff... 100% ▕▏ 2.0 GB                         \u001b[K\n",
            "pulling 966de95ca8a6... 100% ▕▏ 1.4 KB                         \u001b[K\n",
            "pulling fcc5a6bec9da... 100% ▕▏ 7.7 KB                         \u001b[K\n",
            "pulling a70ff7e570d9... 100% ▕▏ 6.0 KB                         \u001b[K\u001b[?25h\u001b[?2026l\u001b[?2026h\u001b[?25l\u001b[A\u001b[A\u001b[A\u001b[A\u001b[1Gpulling manifest \u001b[K\n",
            "pulling dde5aa3fc5ff... 100% ▕▏ 2.0 GB                         \u001b[K\n",
            "pulling 966de95ca8a6... 100% ▕▏ 1.4 KB                         \u001b[K\n",
            "pulling fcc5a6bec9da... 100% ▕▏ 7.7 KB                         \u001b[K\n",
            "pulling a70ff7e570d9... 100% ▕▏ 6.0 KB                         \u001b[K\n",
            "pulling 56bb8bd477a5... 100% ▕▏   96 B                         \u001b[K\u001b[?25h\u001b[?2026l\u001b[?2026h\u001b[?25l\u001b[A\u001b[A\u001b[A\u001b[A\u001b[A\u001b[1Gpulling manifest \u001b[K\n",
            "pulling dde5aa3fc5ff... 100% ▕▏ 2.0 GB                         \u001b[K\n",
            "pulling 966de95ca8a6... 100% ▕▏ 1.4 KB                         \u001b[K\n",
            "pulling fcc5a6bec9da... 100% ▕▏ 7.7 KB                         \u001b[K\n",
            "pulling a70ff7e570d9... 100% ▕▏ 6.0 KB                         \u001b[K\n",
            "pulling 56bb8bd477a5... 100% ▕▏   96 B                         \u001b[K\u001b[?25h\u001b[?2026l\u001b[?2026h\u001b[?25l\u001b[A\u001b[A\u001b[A\u001b[A\u001b[A\u001b[1Gpulling manifest \u001b[K\n",
            "pulling dde5aa3fc5ff... 100% ▕▏ 2.0 GB                         \u001b[K\n",
            "pulling 966de95ca8a6... 100% ▕▏ 1.4 KB                         \u001b[K\n",
            "pulling fcc5a6bec9da... 100% ▕▏ 7.7 KB                         \u001b[K\n",
            "pulling a70ff7e570d9... 100% ▕▏ 6.0 KB                         \u001b[K\n",
            "pulling 56bb8bd477a5... 100% ▕▏   96 B                         \u001b[K\u001b[?25h\u001b[?2026l\u001b[?2026h\u001b[?25l\u001b[A\u001b[A\u001b[A\u001b[A\u001b[A\u001b[1Gpulling manifest \u001b[K\n",
            "pulling dde5aa3fc5ff... 100% ▕▏ 2.0 GB                         \u001b[K\n",
            "pulling 966de95ca8a6... 100% ▕▏ 1.4 KB                         \u001b[K\n",
            "pulling fcc5a6bec9da... 100% ▕▏ 7.7 KB                         \u001b[K\n",
            "pulling a70ff7e570d9... 100% ▕▏ 6.0 KB                         \u001b[K\n",
            "pulling 56bb8bd477a5... 100% ▕▏   96 B                         \u001b[K\u001b[?25h\u001b[?2026l\u001b[?2026h\u001b[?25l\u001b[A\u001b[A\u001b[A\u001b[A\u001b[A\u001b[1Gpulling manifest \u001b[K\n",
            "pulling dde5aa3fc5ff... 100% ▕▏ 2.0 GB                         \u001b[K\n",
            "pulling 966de95ca8a6... 100% ▕▏ 1.4 KB                         \u001b[K\n",
            "pulling fcc5a6bec9da... 100% ▕▏ 7.7 KB                         \u001b[K\n",
            "pulling a70ff7e570d9... 100% ▕▏ 6.0 KB                         \u001b[K\n",
            "pulling 56bb8bd477a5... 100% ▕▏   96 B                         \u001b[K\u001b[?25h\u001b[?2026l\u001b[?2026h\u001b[?25l\u001b[A\u001b[A\u001b[A\u001b[A\u001b[A\u001b[1Gpulling manifest \u001b[K\n",
            "pulling dde5aa3fc5ff... 100% ▕▏ 2.0 GB                         \u001b[K\n",
            "pulling 966de95ca8a6... 100% ▕▏ 1.4 KB                         \u001b[K\n",
            "pulling fcc5a6bec9da... 100% ▕▏ 7.7 KB                         \u001b[K\n",
            "pulling a70ff7e570d9... 100% ▕▏ 6.0 KB                         \u001b[K\n",
            "pulling 56bb8bd477a5... 100% ▕▏   96 B                         \u001b[K\u001b[?25h\u001b[?2026l\u001b[?2026h\u001b[?25l\u001b[A\u001b[A\u001b[A\u001b[A\u001b[A\u001b[1Gpulling manifest \u001b[K\n",
            "pulling dde5aa3fc5ff... 100% ▕▏ 2.0 GB                         \u001b[K\n",
            "pulling 966de95ca8a6... 100% ▕▏ 1.4 KB                         \u001b[K\n",
            "pulling fcc5a6bec9da... 100% ▕▏ 7.7 KB                         \u001b[K\n",
            "pulling a70ff7e570d9... 100% ▕▏ 6.0 KB                         \u001b[K\n",
            "pulling 56bb8bd477a5... 100% ▕▏   96 B                         \u001b[K\u001b[?25h\u001b[?2026l\u001b[?2026h\u001b[?25l\u001b[A\u001b[A\u001b[A\u001b[A\u001b[A\u001b[1Gpulling manifest \u001b[K\n",
            "pulling dde5aa3fc5ff... 100% ▕▏ 2.0 GB                         \u001b[K\n",
            "pulling 966de95ca8a6... 100% ▕▏ 1.4 KB                         \u001b[K\n",
            "pulling fcc5a6bec9da... 100% ▕▏ 7.7 KB                         \u001b[K\n",
            "pulling a70ff7e570d9... 100% ▕▏ 6.0 KB                         \u001b[K\n",
            "pulling 56bb8bd477a5... 100% ▕▏   96 B                         \u001b[K\u001b[?25h\u001b[?2026l\u001b[?2026h\u001b[?25l\u001b[A\u001b[A\u001b[A\u001b[A\u001b[A\u001b[1Gpulling manifest \u001b[K\n",
            "pulling dde5aa3fc5ff... 100% ▕▏ 2.0 GB                         \u001b[K\n",
            "pulling 966de95ca8a6... 100% ▕▏ 1.4 KB                         \u001b[K\n",
            "pulling fcc5a6bec9da... 100% ▕▏ 7.7 KB                         \u001b[K\n",
            "pulling a70ff7e570d9... 100% ▕▏ 6.0 KB                         \u001b[K\n",
            "pulling 56bb8bd477a5... 100% ▕▏   96 B                         \u001b[K\u001b[?25h\u001b[?2026l\u001b[?2026h\u001b[?25l\u001b[A\u001b[A\u001b[A\u001b[A\u001b[A\u001b[1Gpulling manifest \u001b[K\n",
            "pulling dde5aa3fc5ff... 100% ▕▏ 2.0 GB                         \u001b[K\n",
            "pulling 966de95ca8a6... 100% ▕▏ 1.4 KB                         \u001b[K\n",
            "pulling fcc5a6bec9da... 100% ▕▏ 7.7 KB                         \u001b[K\n",
            "pulling a70ff7e570d9... 100% ▕▏ 6.0 KB                         \u001b[K\n",
            "pulling 56bb8bd477a5... 100% ▕▏   96 B                         \u001b[K\u001b[?25h\u001b[?2026l\u001b[?2026h\u001b[?25l\u001b[A\u001b[A\u001b[A\u001b[A\u001b[A\u001b[1Gpulling manifest \u001b[K\n",
            "pulling dde5aa3fc5ff... 100% ▕▏ 2.0 GB                         \u001b[K\n",
            "pulling 966de95ca8a6... 100% ▕▏ 1.4 KB                         \u001b[K\n",
            "pulling fcc5a6bec9da... 100% ▕▏ 7.7 KB                         \u001b[K\n",
            "pulling a70ff7e570d9... 100% ▕▏ 6.0 KB                         \u001b[K\n",
            "pulling 56bb8bd477a5... 100% ▕▏   96 B                         \u001b[K\u001b[?25h\u001b[?2026l\u001b[?2026h\u001b[?25l\u001b[A\u001b[A\u001b[A\u001b[A\u001b[A\u001b[1Gpulling manifest \u001b[K\n",
            "pulling dde5aa3fc5ff... 100% ▕▏ 2.0 GB                         \u001b[K\n",
            "pulling 966de95ca8a6... 100% ▕▏ 1.4 KB                         \u001b[K\n",
            "pulling fcc5a6bec9da... 100% ▕▏ 7.7 KB                         \u001b[K\n",
            "pulling a70ff7e570d9... 100% ▕▏ 6.0 KB                         \u001b[K\n",
            "pulling 56bb8bd477a5... 100% ▕▏   96 B                         \u001b[K\u001b[?25h\u001b[?2026l\u001b[?2026h\u001b[?25l\u001b[A\u001b[A\u001b[A\u001b[A\u001b[A\u001b[1Gpulling manifest \u001b[K\n",
            "pulling dde5aa3fc5ff... 100% ▕▏ 2.0 GB                         \u001b[K\n",
            "pulling 966de95ca8a6... 100% ▕▏ 1.4 KB                         \u001b[K\n",
            "pulling fcc5a6bec9da... 100% ▕▏ 7.7 KB                         \u001b[K\n",
            "pulling a70ff7e570d9... 100% ▕▏ 6.0 KB                         \u001b[K\n",
            "pulling 56bb8bd477a5... 100% ▕▏   96 B                         \u001b[K\n",
            "pulling 34bb5ab01051...   0% ▕▏    0 B/ 561 B                  \u001b[K\u001b[?25h\u001b[?2026l\u001b[?2026h\u001b[?25l\u001b[A\u001b[A\u001b[A\u001b[A\u001b[A\u001b[A\u001b[1Gpulling manifest \u001b[K\n",
            "pulling dde5aa3fc5ff... 100% ▕▏ 2.0 GB                         \u001b[K\n",
            "pulling 966de95ca8a6... 100% ▕▏ 1.4 KB                         \u001b[K\n",
            "pulling fcc5a6bec9da... 100% ▕▏ 7.7 KB                         \u001b[K\n",
            "pulling a70ff7e570d9... 100% ▕▏ 6.0 KB                         \u001b[K\n",
            "pulling 56bb8bd477a5... 100% ▕▏   96 B                         \u001b[K\n",
            "pulling 34bb5ab01051... 100% ▕▏  561 B                         \u001b[K\u001b[?25h\u001b[?2026l\u001b[?2026h\u001b[?25l\u001b[A\u001b[A\u001b[A\u001b[A\u001b[A\u001b[A\u001b[1Gpulling manifest \u001b[K\n",
            "pulling dde5aa3fc5ff... 100% ▕▏ 2.0 GB                         \u001b[K\n",
            "pulling 966de95ca8a6... 100% ▕▏ 1.4 KB                         \u001b[K\n",
            "pulling fcc5a6bec9da... 100% ▕▏ 7.7 KB                         \u001b[K\n",
            "pulling a70ff7e570d9... 100% ▕▏ 6.0 KB                         \u001b[K\n",
            "pulling 56bb8bd477a5... 100% ▕▏   96 B                         \u001b[K\n",
            "pulling 34bb5ab01051... 100% ▕▏  561 B                         \u001b[K\u001b[?25h\u001b[?2026l\u001b[?2026h\u001b[?25l\u001b[A\u001b[A\u001b[A\u001b[A\u001b[A\u001b[A\u001b[1Gpulling manifest \u001b[K\n",
            "pulling dde5aa3fc5ff... 100% ▕▏ 2.0 GB                         \u001b[K\n",
            "pulling 966de95ca8a6... 100% ▕▏ 1.4 KB                         \u001b[K\n",
            "pulling fcc5a6bec9da... 100% ▕▏ 7.7 KB                         \u001b[K\n",
            "pulling a70ff7e570d9... 100% ▕▏ 6.0 KB                         \u001b[K\n",
            "pulling 56bb8bd477a5... 100% ▕▏   96 B                         \u001b[K\n",
            "pulling 34bb5ab01051... 100% ▕▏  561 B                         \u001b[K\u001b[?25h\u001b[?2026l\u001b[?2026h\u001b[?25l\u001b[A\u001b[A\u001b[A\u001b[A\u001b[A\u001b[A\u001b[1Gpulling manifest \u001b[K\n",
            "pulling dde5aa3fc5ff... 100% ▕▏ 2.0 GB                         \u001b[K\n",
            "pulling 966de95ca8a6... 100% ▕▏ 1.4 KB                         \u001b[K\n",
            "pulling fcc5a6bec9da... 100% ▕▏ 7.7 KB                         \u001b[K\n",
            "pulling a70ff7e570d9... 100% ▕▏ 6.0 KB                         \u001b[K\n",
            "pulling 56bb8bd477a5... 100% ▕▏   96 B                         \u001b[K\n",
            "pulling 34bb5ab01051... 100% ▕▏  561 B                         \u001b[K\u001b[?25h\u001b[?2026l\u001b[?2026h\u001b[?25l\u001b[A\u001b[A\u001b[A\u001b[A\u001b[A\u001b[A\u001b[1Gpulling manifest \u001b[K\n",
            "pulling dde5aa3fc5ff... 100% ▕▏ 2.0 GB                         \u001b[K\n",
            "pulling 966de95ca8a6... 100% ▕▏ 1.4 KB                         \u001b[K\n",
            "pulling fcc5a6bec9da... 100% ▕▏ 7.7 KB                         \u001b[K\n",
            "pulling a70ff7e570d9... 100% ▕▏ 6.0 KB                         \u001b[K\n",
            "pulling 56bb8bd477a5... 100% ▕▏   96 B                         \u001b[K\n",
            "pulling 34bb5ab01051... 100% ▕▏  561 B                         \u001b[K\u001b[?25h\u001b[?2026l\u001b[?2026h\u001b[?25l\u001b[A\u001b[A\u001b[A\u001b[A\u001b[A\u001b[A\u001b[1Gpulling manifest \u001b[K\n",
            "pulling dde5aa3fc5ff... 100% ▕▏ 2.0 GB                         \u001b[K\n",
            "pulling 966de95ca8a6... 100% ▕▏ 1.4 KB                         \u001b[K\n",
            "pulling fcc5a6bec9da... 100% ▕▏ 7.7 KB                         \u001b[K\n",
            "pulling a70ff7e570d9... 100% ▕▏ 6.0 KB                         \u001b[K\n",
            "pulling 56bb8bd477a5... 100% ▕▏   96 B                         \u001b[K\n",
            "pulling 34bb5ab01051... 100% ▕▏  561 B                         \u001b[K\u001b[?25h\u001b[?2026l\u001b[?2026h\u001b[?25l\u001b[A\u001b[A\u001b[A\u001b[A\u001b[A\u001b[A\u001b[1Gpulling manifest \u001b[K\n",
            "pulling dde5aa3fc5ff... 100% ▕▏ 2.0 GB                         \u001b[K\n",
            "pulling 966de95ca8a6... 100% ▕▏ 1.4 KB                         \u001b[K\n",
            "pulling fcc5a6bec9da... 100% ▕▏ 7.7 KB                         \u001b[K\n",
            "pulling a70ff7e570d9... 100% ▕▏ 6.0 KB                         \u001b[K\n",
            "pulling 56bb8bd477a5... 100% ▕▏   96 B                         \u001b[K\n",
            "pulling 34bb5ab01051... 100% ▕▏  561 B                         \u001b[K\u001b[?25h\u001b[?2026l\u001b[?2026h\u001b[?25l\u001b[A\u001b[A\u001b[A\u001b[A\u001b[A\u001b[A\u001b[1Gpulling manifest \u001b[K\n",
            "pulling dde5aa3fc5ff... 100% ▕▏ 2.0 GB                         \u001b[K\n",
            "pulling 966de95ca8a6... 100% ▕▏ 1.4 KB                         \u001b[K\n",
            "pulling fcc5a6bec9da... 100% ▕▏ 7.7 KB                         \u001b[K\n",
            "pulling a70ff7e570d9... 100% ▕▏ 6.0 KB                         \u001b[K\n",
            "pulling 56bb8bd477a5... 100% ▕▏   96 B                         \u001b[K\n",
            "pulling 34bb5ab01051... 100% ▕▏  561 B                         \u001b[K\u001b[?25h\u001b[?2026l\u001b[?2026h\u001b[?25l\u001b[A\u001b[A\u001b[A\u001b[A\u001b[A\u001b[A\u001b[1Gpulling manifest \u001b[K\n",
            "pulling dde5aa3fc5ff... 100% ▕▏ 2.0 GB                         \u001b[K\n",
            "pulling 966de95ca8a6... 100% ▕▏ 1.4 KB                         \u001b[K\n",
            "pulling fcc5a6bec9da... 100% ▕▏ 7.7 KB                         \u001b[K\n",
            "pulling a70ff7e570d9... 100% ▕▏ 6.0 KB                         \u001b[K\n",
            "pulling 56bb8bd477a5... 100% ▕▏   96 B                         \u001b[K\n",
            "pulling 34bb5ab01051... 100% ▕▏  561 B                         \u001b[K\u001b[?25h\u001b[?2026l\u001b[?2026h\u001b[?25l\u001b[A\u001b[A\u001b[A\u001b[A\u001b[A\u001b[A\u001b[1Gpulling manifest \u001b[K\n",
            "pulling dde5aa3fc5ff... 100% ▕▏ 2.0 GB                         \u001b[K\n",
            "pulling 966de95ca8a6... 100% ▕▏ 1.4 KB                         \u001b[K\n",
            "pulling fcc5a6bec9da... 100% ▕▏ 7.7 KB                         \u001b[K\n",
            "pulling a70ff7e570d9... 100% ▕▏ 6.0 KB                         \u001b[K\n",
            "pulling 56bb8bd477a5... 100% ▕▏   96 B                         \u001b[K\n",
            "pulling 34bb5ab01051... 100% ▕▏  561 B                         \u001b[K\n",
            "verifying sha256 digest ⠋ \u001b[K\u001b[?25h\u001b[?2026l\u001b[?2026h\u001b[?25l\u001b[A\u001b[A\u001b[A\u001b[A\u001b[A\u001b[A\u001b[A\u001b[1Gpulling manifest \u001b[K\n",
            "pulling dde5aa3fc5ff... 100% ▕▏ 2.0 GB                         \u001b[K\n",
            "pulling 966de95ca8a6... 100% ▕▏ 1.4 KB                         \u001b[K\n",
            "pulling fcc5a6bec9da... 100% ▕▏ 7.7 KB                         \u001b[K\n",
            "pulling a70ff7e570d9... 100% ▕▏ 6.0 KB                         \u001b[K\n",
            "pulling 56bb8bd477a5... 100% ▕▏   96 B                         \u001b[K\n",
            "pulling 34bb5ab01051... 100% ▕▏  561 B                         \u001b[K\n",
            "verifying sha256 digest ⠙ \u001b[K\u001b[?25h\u001b[?2026l\u001b[?2026h\u001b[?25l\u001b[A\u001b[A\u001b[A\u001b[A\u001b[A\u001b[A\u001b[A\u001b[1Gpulling manifest \u001b[K\n",
            "pulling dde5aa3fc5ff... 100% ▕▏ 2.0 GB                         \u001b[K\n",
            "pulling 966de95ca8a6... 100% ▕▏ 1.4 KB                         \u001b[K\n",
            "pulling fcc5a6bec9da... 100% ▕▏ 7.7 KB                         \u001b[K\n",
            "pulling a70ff7e570d9... 100% ▕▏ 6.0 KB                         \u001b[K\n",
            "pulling 56bb8bd477a5... 100% ▕▏   96 B                         \u001b[K\n",
            "pulling 34bb5ab01051... 100% ▕▏  561 B                         \u001b[K\n",
            "verifying sha256 digest ⠹ \u001b[K\u001b[?25h\u001b[?2026l\u001b[?2026h\u001b[?25l\u001b[A\u001b[A\u001b[A\u001b[A\u001b[A\u001b[A\u001b[A\u001b[1Gpulling manifest \u001b[K\n",
            "pulling dde5aa3fc5ff... 100% ▕▏ 2.0 GB                         \u001b[K\n",
            "pulling 966de95ca8a6... 100% ▕▏ 1.4 KB                         \u001b[K\n",
            "pulling fcc5a6bec9da... 100% ▕▏ 7.7 KB                         \u001b[K\n",
            "pulling a70ff7e570d9... 100% ▕▏ 6.0 KB                         \u001b[K\n",
            "pulling 56bb8bd477a5... 100% ▕▏   96 B                         \u001b[K\n",
            "pulling 34bb5ab01051... 100% ▕▏  561 B                         \u001b[K\n",
            "verifying sha256 digest ⠸ \u001b[K\u001b[?25h\u001b[?2026l\u001b[?2026h\u001b[?25l\u001b[A\u001b[A\u001b[A\u001b[A\u001b[A\u001b[A\u001b[A\u001b[1Gpulling manifest \u001b[K\n",
            "pulling dde5aa3fc5ff... 100% ▕▏ 2.0 GB                         \u001b[K\n",
            "pulling 966de95ca8a6... 100% ▕▏ 1.4 KB                         \u001b[K\n",
            "pulling fcc5a6bec9da... 100% ▕▏ 7.7 KB                         \u001b[K\n",
            "pulling a70ff7e570d9... 100% ▕▏ 6.0 KB                         \u001b[K\n",
            "pulling 56bb8bd477a5... 100% ▕▏   96 B                         \u001b[K\n",
            "pulling 34bb5ab01051... 100% ▕▏  561 B                         \u001b[K\n",
            "verifying sha256 digest ⠼ \u001b[K\u001b[?25h\u001b[?2026l\u001b[?2026h\u001b[?25l\u001b[A\u001b[A\u001b[A\u001b[A\u001b[A\u001b[A\u001b[A\u001b[1Gpulling manifest \u001b[K\n",
            "pulling dde5aa3fc5ff... 100% ▕▏ 2.0 GB                         \u001b[K\n",
            "pulling 966de95ca8a6... 100% ▕▏ 1.4 KB                         \u001b[K\n",
            "pulling fcc5a6bec9da... 100% ▕▏ 7.7 KB                         \u001b[K\n",
            "pulling a70ff7e570d9... 100% ▕▏ 6.0 KB                         \u001b[K\n",
            "pulling 56bb8bd477a5... 100% ▕▏   96 B                         \u001b[K\n",
            "pulling 34bb5ab01051... 100% ▕▏  561 B                         \u001b[K\n",
            "verifying sha256 digest ⠴ \u001b[K\u001b[?25h\u001b[?2026l\u001b[?2026h\u001b[?25l\u001b[A\u001b[A\u001b[A\u001b[A\u001b[A\u001b[A\u001b[A\u001b[1Gpulling manifest \u001b[K\n",
            "pulling dde5aa3fc5ff... 100% ▕▏ 2.0 GB                         \u001b[K\n",
            "pulling 966de95ca8a6... 100% ▕▏ 1.4 KB                         \u001b[K\n",
            "pulling fcc5a6bec9da... 100% ▕▏ 7.7 KB                         \u001b[K\n",
            "pulling a70ff7e570d9... 100% ▕▏ 6.0 KB                         \u001b[K\n",
            "pulling 56bb8bd477a5... 100% ▕▏   96 B                         \u001b[K\n",
            "pulling 34bb5ab01051... 100% ▕▏  561 B                         \u001b[K\n",
            "verifying sha256 digest ⠦ \u001b[K\u001b[?25h\u001b[?2026l\u001b[?2026h\u001b[?25l\u001b[A\u001b[A\u001b[A\u001b[A\u001b[A\u001b[A\u001b[A\u001b[1Gpulling manifest \u001b[K\n",
            "pulling dde5aa3fc5ff... 100% ▕▏ 2.0 GB                         \u001b[K\n",
            "pulling 966de95ca8a6... 100% ▕▏ 1.4 KB                         \u001b[K\n",
            "pulling fcc5a6bec9da... 100% ▕▏ 7.7 KB                         \u001b[K\n",
            "pulling a70ff7e570d9... 100% ▕▏ 6.0 KB                         \u001b[K\n",
            "pulling 56bb8bd477a5... 100% ▕▏   96 B                         \u001b[K\n",
            "pulling 34bb5ab01051... 100% ▕▏  561 B                         \u001b[K\n",
            "verifying sha256 digest ⠧ \u001b[K\u001b[?25h\u001b[?2026l\u001b[?2026h\u001b[?25l\u001b[A\u001b[A\u001b[A\u001b[A\u001b[A\u001b[A\u001b[A\u001b[1Gpulling manifest \u001b[K\n",
            "pulling dde5aa3fc5ff... 100% ▕▏ 2.0 GB                         \u001b[K\n",
            "pulling 966de95ca8a6... 100% ▕▏ 1.4 KB                         \u001b[K\n",
            "pulling fcc5a6bec9da... 100% ▕▏ 7.7 KB                         \u001b[K\n",
            "pulling a70ff7e570d9... 100% ▕▏ 6.0 KB                         \u001b[K\n",
            "pulling 56bb8bd477a5... 100% ▕▏   96 B                         \u001b[K\n",
            "pulling 34bb5ab01051... 100% ▕▏  561 B                         \u001b[K\n",
            "verifying sha256 digest ⠇ \u001b[K\u001b[?25h\u001b[?2026l\u001b[?2026h\u001b[?25l\u001b[A\u001b[A\u001b[A\u001b[A\u001b[A\u001b[A\u001b[A\u001b[1Gpulling manifest \u001b[K\n",
            "pulling dde5aa3fc5ff... 100% ▕▏ 2.0 GB                         \u001b[K\n",
            "pulling 966de95ca8a6... 100% ▕▏ 1.4 KB                         \u001b[K\n",
            "pulling fcc5a6bec9da... 100% ▕▏ 7.7 KB                         \u001b[K\n",
            "pulling a70ff7e570d9... 100% ▕▏ 6.0 KB                         \u001b[K\n",
            "pulling 56bb8bd477a5... 100% ▕▏   96 B                         \u001b[K\n",
            "pulling 34bb5ab01051... 100% ▕▏  561 B                         \u001b[K\n",
            "verifying sha256 digest ⠏ \u001b[K\u001b[?25h\u001b[?2026l\u001b[?2026h\u001b[?25l\u001b[A\u001b[A\u001b[A\u001b[A\u001b[A\u001b[A\u001b[A\u001b[1Gpulling manifest \u001b[K\n",
            "pulling dde5aa3fc5ff... 100% ▕▏ 2.0 GB                         \u001b[K\n",
            "pulling 966de95ca8a6... 100% ▕▏ 1.4 KB                         \u001b[K\n",
            "pulling fcc5a6bec9da... 100% ▕▏ 7.7 KB                         \u001b[K\n",
            "pulling a70ff7e570d9... 100% ▕▏ 6.0 KB                         \u001b[K\n",
            "pulling 56bb8bd477a5... 100% ▕▏   96 B                         \u001b[K\n",
            "pulling 34bb5ab01051... 100% ▕▏  561 B                         \u001b[K\n",
            "verifying sha256 digest ⠋ \u001b[K\u001b[?25h\u001b[?2026l\u001b[?2026h\u001b[?25l\u001b[A\u001b[A\u001b[A\u001b[A\u001b[A\u001b[A\u001b[A\u001b[1Gpulling manifest \u001b[K\n",
            "pulling dde5aa3fc5ff... 100% ▕▏ 2.0 GB                         \u001b[K\n",
            "pulling 966de95ca8a6... 100% ▕▏ 1.4 KB                         \u001b[K\n",
            "pulling fcc5a6bec9da... 100% ▕▏ 7.7 KB                         \u001b[K\n",
            "pulling a70ff7e570d9... 100% ▕▏ 6.0 KB                         \u001b[K\n",
            "pulling 56bb8bd477a5... 100% ▕▏   96 B                         \u001b[K\n",
            "pulling 34bb5ab01051... 100% ▕▏  561 B                         \u001b[K\n",
            "verifying sha256 digest ⠙ \u001b[K\u001b[?25h\u001b[?2026l\u001b[?2026h\u001b[?25l\u001b[A\u001b[A\u001b[A\u001b[A\u001b[A\u001b[A\u001b[A\u001b[1Gpulling manifest \u001b[K\n",
            "pulling dde5aa3fc5ff... 100% ▕▏ 2.0 GB                         \u001b[K\n",
            "pulling 966de95ca8a6... 100% ▕▏ 1.4 KB                         \u001b[K\n",
            "pulling fcc5a6bec9da... 100% ▕▏ 7.7 KB                         \u001b[K\n",
            "pulling a70ff7e570d9... 100% ▕▏ 6.0 KB                         \u001b[K\n",
            "pulling 56bb8bd477a5... 100% ▕▏   96 B                         \u001b[K\n",
            "pulling 34bb5ab01051... 100% ▕▏  561 B                         \u001b[K\n",
            "verifying sha256 digest ⠹ \u001b[K\u001b[?25h\u001b[?2026l\u001b[?2026h\u001b[?25l\u001b[A\u001b[A\u001b[A\u001b[A\u001b[A\u001b[A\u001b[A\u001b[1Gpulling manifest \u001b[K\n",
            "pulling dde5aa3fc5ff... 100% ▕▏ 2.0 GB                         \u001b[K\n",
            "pulling 966de95ca8a6... 100% ▕▏ 1.4 KB                         \u001b[K\n",
            "pulling fcc5a6bec9da... 100% ▕▏ 7.7 KB                         \u001b[K\n",
            "pulling a70ff7e570d9... 100% ▕▏ 6.0 KB                         \u001b[K\n",
            "pulling 56bb8bd477a5... 100% ▕▏   96 B                         \u001b[K\n",
            "pulling 34bb5ab01051... 100% ▕▏  561 B                         \u001b[K\n",
            "verifying sha256 digest ⠸ \u001b[K\u001b[?25h\u001b[?2026l\u001b[?2026h\u001b[?25l\u001b[A\u001b[A\u001b[A\u001b[A\u001b[A\u001b[A\u001b[A\u001b[1Gpulling manifest \u001b[K\n",
            "pulling dde5aa3fc5ff... 100% ▕▏ 2.0 GB                         \u001b[K\n",
            "pulling 966de95ca8a6... 100% ▕▏ 1.4 KB                         \u001b[K\n",
            "pulling fcc5a6bec9da... 100% ▕▏ 7.7 KB                         \u001b[K\n",
            "pulling a70ff7e570d9... 100% ▕▏ 6.0 KB                         \u001b[K\n",
            "pulling 56bb8bd477a5... 100% ▕▏   96 B                         \u001b[K\n",
            "pulling 34bb5ab01051... 100% ▕▏  561 B                         \u001b[K\n",
            "verifying sha256 digest ⠼ \u001b[K\u001b[?25h\u001b[?2026l\u001b[?2026h\u001b[?25l\u001b[A\u001b[A\u001b[A\u001b[A\u001b[A\u001b[A\u001b[A\u001b[1Gpulling manifest \u001b[K\n",
            "pulling dde5aa3fc5ff... 100% ▕▏ 2.0 GB                         \u001b[K\n",
            "pulling 966de95ca8a6... 100% ▕▏ 1.4 KB                         \u001b[K\n",
            "pulling fcc5a6bec9da... 100% ▕▏ 7.7 KB                         \u001b[K\n",
            "pulling a70ff7e570d9... 100% ▕▏ 6.0 KB                         \u001b[K\n",
            "pulling 56bb8bd477a5... 100% ▕▏   96 B                         \u001b[K\n",
            "pulling 34bb5ab01051... 100% ▕▏  561 B                         \u001b[K\n",
            "verifying sha256 digest ⠴ \u001b[K\u001b[?25h\u001b[?2026l\u001b[?2026h\u001b[?25l\u001b[A\u001b[A\u001b[A\u001b[A\u001b[A\u001b[A\u001b[A\u001b[1Gpulling manifest \u001b[K\n",
            "pulling dde5aa3fc5ff... 100% ▕▏ 2.0 GB                         \u001b[K\n",
            "pulling 966de95ca8a6... 100% ▕▏ 1.4 KB                         \u001b[K\n",
            "pulling fcc5a6bec9da... 100% ▕▏ 7.7 KB                         \u001b[K\n",
            "pulling a70ff7e570d9... 100% ▕▏ 6.0 KB                         \u001b[K\n",
            "pulling 56bb8bd477a5... 100% ▕▏   96 B                         \u001b[K\n",
            "pulling 34bb5ab01051... 100% ▕▏  561 B                         \u001b[K\n",
            "verifying sha256 digest ⠦ \u001b[K\u001b[?25h\u001b[?2026l\u001b[?2026h\u001b[?25l\u001b[A\u001b[A\u001b[A\u001b[A\u001b[A\u001b[A\u001b[A\u001b[1Gpulling manifest \u001b[K\n",
            "pulling dde5aa3fc5ff... 100% ▕▏ 2.0 GB                         \u001b[K\n",
            "pulling 966de95ca8a6... 100% ▕▏ 1.4 KB                         \u001b[K\n",
            "pulling fcc5a6bec9da... 100% ▕▏ 7.7 KB                         \u001b[K\n",
            "pulling a70ff7e570d9... 100% ▕▏ 6.0 KB                         \u001b[K\n",
            "pulling 56bb8bd477a5... 100% ▕▏   96 B                         \u001b[K\n",
            "pulling 34bb5ab01051... 100% ▕▏  561 B                         \u001b[K\n",
            "verifying sha256 digest ⠧ \u001b[K\u001b[?25h\u001b[?2026l\u001b[?2026h\u001b[?25l\u001b[A\u001b[A\u001b[A\u001b[A\u001b[A\u001b[A\u001b[A\u001b[1Gpulling manifest \u001b[K\n",
            "pulling dde5aa3fc5ff... 100% ▕▏ 2.0 GB                         \u001b[K\n",
            "pulling 966de95ca8a6... 100% ▕▏ 1.4 KB                         \u001b[K\n",
            "pulling fcc5a6bec9da... 100% ▕▏ 7.7 KB                         \u001b[K\n",
            "pulling a70ff7e570d9... 100% ▕▏ 6.0 KB                         \u001b[K\n",
            "pulling 56bb8bd477a5... 100% ▕▏   96 B                         \u001b[K\n",
            "pulling 34bb5ab01051... 100% ▕▏  561 B                         \u001b[K\n",
            "verifying sha256 digest ⠇ \u001b[K\u001b[?25h\u001b[?2026l\u001b[?2026h\u001b[?25l\u001b[A\u001b[A\u001b[A\u001b[A\u001b[A\u001b[A\u001b[A\u001b[1Gpulling manifest \u001b[K\n",
            "pulling dde5aa3fc5ff... 100% ▕▏ 2.0 GB                         \u001b[K\n",
            "pulling 966de95ca8a6... 100% ▕▏ 1.4 KB                         \u001b[K\n",
            "pulling fcc5a6bec9da... 100% ▕▏ 7.7 KB                         \u001b[K\n",
            "pulling a70ff7e570d9... 100% ▕▏ 6.0 KB                         \u001b[K\n",
            "pulling 56bb8bd477a5... 100% ▕▏   96 B                         \u001b[K\n",
            "pulling 34bb5ab01051... 100% ▕▏  561 B                         \u001b[K\n",
            "verifying sha256 digest ⠏ \u001b[K\u001b[?25h\u001b[?2026l\u001b[?2026h\u001b[?25l\u001b[A\u001b[A\u001b[A\u001b[A\u001b[A\u001b[A\u001b[A\u001b[1Gpulling manifest \u001b[K\n",
            "pulling dde5aa3fc5ff... 100% ▕▏ 2.0 GB                         \u001b[K\n",
            "pulling 966de95ca8a6... 100% ▕▏ 1.4 KB                         \u001b[K\n",
            "pulling fcc5a6bec9da... 100% ▕▏ 7.7 KB                         \u001b[K\n",
            "pulling a70ff7e570d9... 100% ▕▏ 6.0 KB                         \u001b[K\n",
            "pulling 56bb8bd477a5... 100% ▕▏   96 B                         \u001b[K\n",
            "pulling 34bb5ab01051... 100% ▕▏  561 B                         \u001b[K\n",
            "verifying sha256 digest ⠋ \u001b[K\u001b[?25h\u001b[?2026l\u001b[?2026h\u001b[?25l\u001b[A\u001b[A\u001b[A\u001b[A\u001b[A\u001b[A\u001b[A\u001b[1Gpulling manifest \u001b[K\n",
            "pulling dde5aa3fc5ff... 100% ▕▏ 2.0 GB                         \u001b[K\n",
            "pulling 966de95ca8a6... 100% ▕▏ 1.4 KB                         \u001b[K\n",
            "pulling fcc5a6bec9da... 100% ▕▏ 7.7 KB                         \u001b[K\n",
            "pulling a70ff7e570d9... 100% ▕▏ 6.0 KB                         \u001b[K\n",
            "pulling 56bb8bd477a5... 100% ▕▏   96 B                         \u001b[K\n",
            "pulling 34bb5ab01051... 100% ▕▏  561 B                         \u001b[K\n",
            "verifying sha256 digest ⠙ \u001b[K\u001b[?25h\u001b[?2026l\u001b[?2026h\u001b[?25l\u001b[A\u001b[A\u001b[A\u001b[A\u001b[A\u001b[A\u001b[A\u001b[1Gpulling manifest \u001b[K\n",
            "pulling dde5aa3fc5ff... 100% ▕▏ 2.0 GB                         \u001b[K\n",
            "pulling 966de95ca8a6... 100% ▕▏ 1.4 KB                         \u001b[K\n",
            "pulling fcc5a6bec9da... 100% ▕▏ 7.7 KB                         \u001b[K\n",
            "pulling a70ff7e570d9... 100% ▕▏ 6.0 KB                         \u001b[K\n",
            "pulling 56bb8bd477a5... 100% ▕▏   96 B                         \u001b[K\n",
            "pulling 34bb5ab01051... 100% ▕▏  561 B                         \u001b[K\n",
            "verifying sha256 digest ⠹ \u001b[K\u001b[?25h\u001b[?2026l\u001b[?2026h\u001b[?25l\u001b[A\u001b[A\u001b[A\u001b[A\u001b[A\u001b[A\u001b[A\u001b[1Gpulling manifest \u001b[K\n",
            "pulling dde5aa3fc5ff... 100% ▕▏ 2.0 GB                         \u001b[K\n",
            "pulling 966de95ca8a6... 100% ▕▏ 1.4 KB                         \u001b[K\n",
            "pulling fcc5a6bec9da... 100% ▕▏ 7.7 KB                         \u001b[K\n",
            "pulling a70ff7e570d9... 100% ▕▏ 6.0 KB                         \u001b[K\n",
            "pulling 56bb8bd477a5... 100% ▕▏   96 B                         \u001b[K\n",
            "pulling 34bb5ab01051... 100% ▕▏  561 B                         \u001b[K\n",
            "verifying sha256 digest ⠸ \u001b[K\u001b[?25h\u001b[?2026l\u001b[?2026h\u001b[?25l\u001b[A\u001b[A\u001b[A\u001b[A\u001b[A\u001b[A\u001b[A\u001b[1Gpulling manifest \u001b[K\n",
            "pulling dde5aa3fc5ff... 100% ▕▏ 2.0 GB                         \u001b[K\n",
            "pulling 966de95ca8a6... 100% ▕▏ 1.4 KB                         \u001b[K\n",
            "pulling fcc5a6bec9da... 100% ▕▏ 7.7 KB                         \u001b[K\n",
            "pulling a70ff7e570d9... 100% ▕▏ 6.0 KB                         \u001b[K\n",
            "pulling 56bb8bd477a5... 100% ▕▏   96 B                         \u001b[K\n",
            "pulling 34bb5ab01051... 100% ▕▏  561 B                         \u001b[K\n",
            "verifying sha256 digest ⠼ \u001b[K\u001b[?25h\u001b[?2026l\u001b[?2026h\u001b[?25l\u001b[A\u001b[A\u001b[A\u001b[A\u001b[A\u001b[A\u001b[A\u001b[1Gpulling manifest \u001b[K\n",
            "pulling dde5aa3fc5ff... 100% ▕▏ 2.0 GB                         \u001b[K\n",
            "pulling 966de95ca8a6... 100% ▕▏ 1.4 KB                         \u001b[K\n",
            "pulling fcc5a6bec9da... 100% ▕▏ 7.7 KB                         \u001b[K\n",
            "pulling a70ff7e570d9... 100% ▕▏ 6.0 KB                         \u001b[K\n",
            "pulling 56bb8bd477a5... 100% ▕▏   96 B                         \u001b[K\n",
            "pulling 34bb5ab01051... 100% ▕▏  561 B                         \u001b[K\n",
            "verifying sha256 digest ⠴ \u001b[K\u001b[?25h\u001b[?2026l\u001b[?2026h\u001b[?25l\u001b[A\u001b[A\u001b[A\u001b[A\u001b[A\u001b[A\u001b[A\u001b[1Gpulling manifest \u001b[K\n",
            "pulling dde5aa3fc5ff... 100% ▕▏ 2.0 GB                         \u001b[K\n",
            "pulling 966de95ca8a6... 100% ▕▏ 1.4 KB                         \u001b[K\n",
            "pulling fcc5a6bec9da... 100% ▕▏ 7.7 KB                         \u001b[K\n",
            "pulling a70ff7e570d9... 100% ▕▏ 6.0 KB                         \u001b[K\n",
            "pulling 56bb8bd477a5... 100% ▕▏   96 B                         \u001b[K\n",
            "pulling 34bb5ab01051... 100% ▕▏  561 B                         \u001b[K\n",
            "verifying sha256 digest ⠦ \u001b[K\u001b[?25h\u001b[?2026l\u001b[?2026h\u001b[?25l\u001b[A\u001b[A\u001b[A\u001b[A\u001b[A\u001b[A\u001b[A\u001b[1Gpulling manifest \u001b[K\n",
            "pulling dde5aa3fc5ff... 100% ▕▏ 2.0 GB                         \u001b[K\n",
            "pulling 966de95ca8a6... 100% ▕▏ 1.4 KB                         \u001b[K\n",
            "pulling fcc5a6bec9da... 100% ▕▏ 7.7 KB                         \u001b[K\n",
            "pulling a70ff7e570d9... 100% ▕▏ 6.0 KB                         \u001b[K\n",
            "pulling 56bb8bd477a5... 100% ▕▏   96 B                         \u001b[K\n",
            "pulling 34bb5ab01051... 100% ▕▏  561 B                         \u001b[K\n",
            "verifying sha256 digest ⠧ \u001b[K\u001b[?25h\u001b[?2026l\u001b[?2026h\u001b[?25l\u001b[A\u001b[A\u001b[A\u001b[A\u001b[A\u001b[A\u001b[A\u001b[1Gpulling manifest \u001b[K\n",
            "pulling dde5aa3fc5ff... 100% ▕▏ 2.0 GB                         \u001b[K\n",
            "pulling 966de95ca8a6... 100% ▕▏ 1.4 KB                         \u001b[K\n",
            "pulling fcc5a6bec9da... 100% ▕▏ 7.7 KB                         \u001b[K\n",
            "pulling a70ff7e570d9... 100% ▕▏ 6.0 KB                         \u001b[K\n",
            "pulling 56bb8bd477a5... 100% ▕▏   96 B                         \u001b[K\n",
            "pulling 34bb5ab01051... 100% ▕▏  561 B                         \u001b[K\n",
            "verifying sha256 digest ⠇ \u001b[K\u001b[?25h\u001b[?2026l\u001b[?2026h\u001b[?25l\u001b[A\u001b[A\u001b[A\u001b[A\u001b[A\u001b[A\u001b[A\u001b[1Gpulling manifest \u001b[K\n",
            "pulling dde5aa3fc5ff... 100% ▕▏ 2.0 GB                         \u001b[K\n",
            "pulling 966de95ca8a6... 100% ▕▏ 1.4 KB                         \u001b[K\n",
            "pulling fcc5a6bec9da... 100% ▕▏ 7.7 KB                         \u001b[K\n",
            "pulling a70ff7e570d9... 100% ▕▏ 6.0 KB                         \u001b[K\n",
            "pulling 56bb8bd477a5... 100% ▕▏   96 B                         \u001b[K\n",
            "pulling 34bb5ab01051... 100% ▕▏  561 B                         \u001b[K\n",
            "verifying sha256 digest ⠏ \u001b[K\u001b[?25h\u001b[?2026l\u001b[?2026h\u001b[?25l\u001b[A\u001b[A\u001b[A\u001b[A\u001b[A\u001b[A\u001b[A\u001b[1Gpulling manifest \u001b[K\n",
            "pulling dde5aa3fc5ff... 100% ▕▏ 2.0 GB                         \u001b[K\n",
            "pulling 966de95ca8a6... 100% ▕▏ 1.4 KB                         \u001b[K\n",
            "pulling fcc5a6bec9da... 100% ▕▏ 7.7 KB                         \u001b[K\n",
            "pulling a70ff7e570d9... 100% ▕▏ 6.0 KB                         \u001b[K\n",
            "pulling 56bb8bd477a5... 100% ▕▏   96 B                         \u001b[K\n",
            "pulling 34bb5ab01051... 100% ▕▏  561 B                         \u001b[K\n",
            "verifying sha256 digest ⠋ \u001b[K\u001b[?25h\u001b[?2026l\u001b[?2026h\u001b[?25l\u001b[A\u001b[A\u001b[A\u001b[A\u001b[A\u001b[A\u001b[A\u001b[1Gpulling manifest \u001b[K\n",
            "pulling dde5aa3fc5ff... 100% ▕▏ 2.0 GB                         \u001b[K\n",
            "pulling 966de95ca8a6... 100% ▕▏ 1.4 KB                         \u001b[K\n",
            "pulling fcc5a6bec9da... 100% ▕▏ 7.7 KB                         \u001b[K\n",
            "pulling a70ff7e570d9... 100% ▕▏ 6.0 KB                         \u001b[K\n",
            "pulling 56bb8bd477a5... 100% ▕▏   96 B                         \u001b[K\n",
            "pulling 34bb5ab01051... 100% ▕▏  561 B                         \u001b[K\n",
            "verifying sha256 digest ⠙ \u001b[K\u001b[?25h\u001b[?2026l\u001b[?2026h\u001b[?25l\u001b[A\u001b[A\u001b[A\u001b[A\u001b[A\u001b[A\u001b[A\u001b[1Gpulling manifest \u001b[K\n",
            "pulling dde5aa3fc5ff... 100% ▕▏ 2.0 GB                         \u001b[K\n",
            "pulling 966de95ca8a6... 100% ▕▏ 1.4 KB                         \u001b[K\n",
            "pulling fcc5a6bec9da... 100% ▕▏ 7.7 KB                         \u001b[K\n",
            "pulling a70ff7e570d9... 100% ▕▏ 6.0 KB                         \u001b[K\n",
            "pulling 56bb8bd477a5... 100% ▕▏   96 B                         \u001b[K\n",
            "pulling 34bb5ab01051... 100% ▕▏  561 B                         \u001b[K\n",
            "verifying sha256 digest ⠹ \u001b[K\u001b[?25h\u001b[?2026l\u001b[?2026h\u001b[?25l\u001b[A\u001b[A\u001b[A\u001b[A\u001b[A\u001b[A\u001b[A\u001b[1Gpulling manifest \u001b[K\n",
            "pulling dde5aa3fc5ff... 100% ▕▏ 2.0 GB                         \u001b[K\n",
            "pulling 966de95ca8a6... 100% ▕▏ 1.4 KB                         \u001b[K\n",
            "pulling fcc5a6bec9da... 100% ▕▏ 7.7 KB                         \u001b[K\n",
            "pulling a70ff7e570d9... 100% ▕▏ 6.0 KB                         \u001b[K\n",
            "pulling 56bb8bd477a5... 100% ▕▏   96 B                         \u001b[K\n",
            "pulling 34bb5ab01051... 100% ▕▏  561 B                         \u001b[K\n",
            "verifying sha256 digest ⠸ \u001b[K\u001b[?25h\u001b[?2026l\u001b[?2026h\u001b[?25l\u001b[A\u001b[A\u001b[A\u001b[A\u001b[A\u001b[A\u001b[A\u001b[1Gpulling manifest \u001b[K\n",
            "pulling dde5aa3fc5ff... 100% ▕▏ 2.0 GB                         \u001b[K\n",
            "pulling 966de95ca8a6... 100% ▕▏ 1.4 KB                         \u001b[K\n",
            "pulling fcc5a6bec9da... 100% ▕▏ 7.7 KB                         \u001b[K\n",
            "pulling a70ff7e570d9... 100% ▕▏ 6.0 KB                         \u001b[K\n",
            "pulling 56bb8bd477a5... 100% ▕▏   96 B                         \u001b[K\n",
            "pulling 34bb5ab01051... 100% ▕▏  561 B                         \u001b[K\n",
            "verifying sha256 digest ⠼ \u001b[K\u001b[?25h\u001b[?2026l\u001b[?2026h\u001b[?25l\u001b[A\u001b[A\u001b[A\u001b[A\u001b[A\u001b[A\u001b[A\u001b[1Gpulling manifest \u001b[K\n",
            "pulling dde5aa3fc5ff... 100% ▕▏ 2.0 GB                         \u001b[K\n",
            "pulling 966de95ca8a6... 100% ▕▏ 1.4 KB                         \u001b[K\n",
            "pulling fcc5a6bec9da... 100% ▕▏ 7.7 KB                         \u001b[K\n",
            "pulling a70ff7e570d9... 100% ▕▏ 6.0 KB                         \u001b[K\n",
            "pulling 56bb8bd477a5... 100% ▕▏   96 B                         \u001b[K\n",
            "pulling 34bb5ab01051... 100% ▕▏  561 B                         \u001b[K\n",
            "verifying sha256 digest ⠴ \u001b[K\u001b[?25h\u001b[?2026l\u001b[?2026h\u001b[?25l\u001b[A\u001b[A\u001b[A\u001b[A\u001b[A\u001b[A\u001b[A\u001b[1Gpulling manifest \u001b[K\n",
            "pulling dde5aa3fc5ff... 100% ▕▏ 2.0 GB                         \u001b[K\n",
            "pulling 966de95ca8a6... 100% ▕▏ 1.4 KB                         \u001b[K\n",
            "pulling fcc5a6bec9da... 100% ▕▏ 7.7 KB                         \u001b[K\n",
            "pulling a70ff7e570d9... 100% ▕▏ 6.0 KB                         \u001b[K\n",
            "pulling 56bb8bd477a5... 100% ▕▏   96 B                         \u001b[K\n",
            "pulling 34bb5ab01051... 100% ▕▏  561 B                         \u001b[K\n",
            "verifying sha256 digest ⠦ \u001b[K\u001b[?25h\u001b[?2026l\u001b[?2026h\u001b[?25l\u001b[A\u001b[A\u001b[A\u001b[A\u001b[A\u001b[A\u001b[A\u001b[1Gpulling manifest \u001b[K\n",
            "pulling dde5aa3fc5ff... 100% ▕▏ 2.0 GB                         \u001b[K\n",
            "pulling 966de95ca8a6... 100% ▕▏ 1.4 KB                         \u001b[K\n",
            "pulling fcc5a6bec9da... 100% ▕▏ 7.7 KB                         \u001b[K\n",
            "pulling a70ff7e570d9... 100% ▕▏ 6.0 KB                         \u001b[K\n",
            "pulling 56bb8bd477a5... 100% ▕▏   96 B                         \u001b[K\n",
            "pulling 34bb5ab01051... 100% ▕▏  561 B                         \u001b[K\n",
            "verifying sha256 digest ⠧ \u001b[K\u001b[?25h\u001b[?2026l\u001b[?2026h\u001b[?25l\u001b[A\u001b[A\u001b[A\u001b[A\u001b[A\u001b[A\u001b[A\u001b[1Gpulling manifest \u001b[K\n",
            "pulling dde5aa3fc5ff... 100% ▕▏ 2.0 GB                         \u001b[K\n",
            "pulling 966de95ca8a6... 100% ▕▏ 1.4 KB                         \u001b[K\n",
            "pulling fcc5a6bec9da... 100% ▕▏ 7.7 KB                         \u001b[K\n",
            "pulling a70ff7e570d9... 100% ▕▏ 6.0 KB                         \u001b[K\n",
            "pulling 56bb8bd477a5... 100% ▕▏   96 B                         \u001b[K\n",
            "pulling 34bb5ab01051... 100% ▕▏  561 B                         \u001b[K\n",
            "verifying sha256 digest ⠇ \u001b[K\u001b[?25h\u001b[?2026l\u001b[?2026h\u001b[?25l\u001b[A\u001b[A\u001b[A\u001b[A\u001b[A\u001b[A\u001b[A\u001b[1Gpulling manifest \u001b[K\n",
            "pulling dde5aa3fc5ff... 100% ▕▏ 2.0 GB                         \u001b[K\n",
            "pulling 966de95ca8a6... 100% ▕▏ 1.4 KB                         \u001b[K\n",
            "pulling fcc5a6bec9da... 100% ▕▏ 7.7 KB                         \u001b[K\n",
            "pulling a70ff7e570d9... 100% ▕▏ 6.0 KB                         \u001b[K\n",
            "pulling 56bb8bd477a5... 100% ▕▏   96 B                         \u001b[K\n",
            "pulling 34bb5ab01051... 100% ▕▏  561 B                         \u001b[K\n",
            "verifying sha256 digest ⠏ \u001b[K\u001b[?25h\u001b[?2026l\u001b[?2026h\u001b[?25l\u001b[A\u001b[A\u001b[A\u001b[A\u001b[A\u001b[A\u001b[A\u001b[1Gpulling manifest \u001b[K\n",
            "pulling dde5aa3fc5ff... 100% ▕▏ 2.0 GB                         \u001b[K\n",
            "pulling 966de95ca8a6... 100% ▕▏ 1.4 KB                         \u001b[K\n",
            "pulling fcc5a6bec9da... 100% ▕▏ 7.7 KB                         \u001b[K\n",
            "pulling a70ff7e570d9... 100% ▕▏ 6.0 KB                         \u001b[K\n",
            "pulling 56bb8bd477a5... 100% ▕▏   96 B                         \u001b[K\n",
            "pulling 34bb5ab01051... 100% ▕▏  561 B                         \u001b[K\n",
            "verifying sha256 digest ⠋ \u001b[K\u001b[?25h\u001b[?2026l\u001b[?2026h\u001b[?25l\u001b[A\u001b[A\u001b[A\u001b[A\u001b[A\u001b[A\u001b[A\u001b[1Gpulling manifest \u001b[K\n",
            "pulling dde5aa3fc5ff... 100% ▕▏ 2.0 GB                         \u001b[K\n",
            "pulling 966de95ca8a6... 100% ▕▏ 1.4 KB                         \u001b[K\n",
            "pulling fcc5a6bec9da... 100% ▕▏ 7.7 KB                         \u001b[K\n",
            "pulling a70ff7e570d9... 100% ▕▏ 6.0 KB                         \u001b[K\n",
            "pulling 56bb8bd477a5... 100% ▕▏   96 B                         \u001b[K\n",
            "pulling 34bb5ab01051... 100% ▕▏  561 B                         \u001b[K\n",
            "verifying sha256 digest ⠙ \u001b[K\u001b[?25h\u001b[?2026l\u001b[?2026h\u001b[?25l\u001b[A\u001b[A\u001b[A\u001b[A\u001b[A\u001b[A\u001b[A\u001b[1Gpulling manifest \u001b[K\n",
            "pulling dde5aa3fc5ff... 100% ▕▏ 2.0 GB                         \u001b[K\n",
            "pulling 966de95ca8a6... 100% ▕▏ 1.4 KB                         \u001b[K\n",
            "pulling fcc5a6bec9da... 100% ▕▏ 7.7 KB                         \u001b[K\n",
            "pulling a70ff7e570d9... 100% ▕▏ 6.0 KB                         \u001b[K\n",
            "pulling 56bb8bd477a5... 100% ▕▏   96 B                         \u001b[K\n",
            "pulling 34bb5ab01051... 100% ▕▏  561 B                         \u001b[K\n",
            "verifying sha256 digest ⠹ \u001b[K\u001b[?25h\u001b[?2026l\u001b[?2026h\u001b[?25l\u001b[A\u001b[A\u001b[A\u001b[A\u001b[A\u001b[A\u001b[A\u001b[1Gpulling manifest \u001b[K\n",
            "pulling dde5aa3fc5ff... 100% ▕▏ 2.0 GB                         \u001b[K\n",
            "pulling 966de95ca8a6... 100% ▕▏ 1.4 KB                         \u001b[K\n",
            "pulling fcc5a6bec9da... 100% ▕▏ 7.7 KB                         \u001b[K\n",
            "pulling a70ff7e570d9... 100% ▕▏ 6.0 KB                         \u001b[K\n",
            "pulling 56bb8bd477a5... 100% ▕▏   96 B                         \u001b[K\n",
            "pulling 34bb5ab01051... 100% ▕▏  561 B                         \u001b[K\n",
            "verifying sha256 digest ⠸ \u001b[K\u001b[?25h\u001b[?2026l\u001b[?2026h\u001b[?25l\u001b[A\u001b[A\u001b[A\u001b[A\u001b[A\u001b[A\u001b[A\u001b[1Gpulling manifest \u001b[K\n",
            "pulling dde5aa3fc5ff... 100% ▕▏ 2.0 GB                         \u001b[K\n",
            "pulling 966de95ca8a6... 100% ▕▏ 1.4 KB                         \u001b[K\n",
            "pulling fcc5a6bec9da... 100% ▕▏ 7.7 KB                         \u001b[K\n",
            "pulling a70ff7e570d9... 100% ▕▏ 6.0 KB                         \u001b[K\n",
            "pulling 56bb8bd477a5... 100% ▕▏   96 B                         \u001b[K\n",
            "pulling 34bb5ab01051... 100% ▕▏  561 B                         \u001b[K\n",
            "verifying sha256 digest ⠼ \u001b[K\u001b[?25h\u001b[?2026l\u001b[?2026h\u001b[?25l\u001b[A\u001b[A\u001b[A\u001b[A\u001b[A\u001b[A\u001b[A\u001b[1Gpulling manifest \u001b[K\n",
            "pulling dde5aa3fc5ff... 100% ▕▏ 2.0 GB                         \u001b[K\n",
            "pulling 966de95ca8a6... 100% ▕▏ 1.4 KB                         \u001b[K\n",
            "pulling fcc5a6bec9da... 100% ▕▏ 7.7 KB                         \u001b[K\n",
            "pulling a70ff7e570d9... 100% ▕▏ 6.0 KB                         \u001b[K\n",
            "pulling 56bb8bd477a5... 100% ▕▏   96 B                         \u001b[K\n",
            "pulling 34bb5ab01051... 100% ▕▏  561 B                         \u001b[K\n",
            "verifying sha256 digest ⠴ \u001b[K\u001b[?25h\u001b[?2026l\u001b[?2026h\u001b[?25l\u001b[A\u001b[A\u001b[A\u001b[A\u001b[A\u001b[A\u001b[A\u001b[1Gpulling manifest \u001b[K\n",
            "pulling dde5aa3fc5ff... 100% ▕▏ 2.0 GB                         \u001b[K\n",
            "pulling 966de95ca8a6... 100% ▕▏ 1.4 KB                         \u001b[K\n",
            "pulling fcc5a6bec9da... 100% ▕▏ 7.7 KB                         \u001b[K\n",
            "pulling a70ff7e570d9... 100% ▕▏ 6.0 KB                         \u001b[K\n",
            "pulling 56bb8bd477a5... 100% ▕▏   96 B                         \u001b[K\n",
            "pulling 34bb5ab01051... 100% ▕▏  561 B                         \u001b[K\n",
            "verifying sha256 digest ⠦ \u001b[K\u001b[?25h\u001b[?2026l\u001b[?2026h\u001b[?25l\u001b[A\u001b[A\u001b[A\u001b[A\u001b[A\u001b[A\u001b[A\u001b[1Gpulling manifest \u001b[K\n",
            "pulling dde5aa3fc5ff... 100% ▕▏ 2.0 GB                         \u001b[K\n",
            "pulling 966de95ca8a6... 100% ▕▏ 1.4 KB                         \u001b[K\n",
            "pulling fcc5a6bec9da... 100% ▕▏ 7.7 KB                         \u001b[K\n",
            "pulling a70ff7e570d9... 100% ▕▏ 6.0 KB                         \u001b[K\n",
            "pulling 56bb8bd477a5... 100% ▕▏   96 B                         \u001b[K\n",
            "pulling 34bb5ab01051... 100% ▕▏  561 B                         \u001b[K\n",
            "verifying sha256 digest ⠧ \u001b[K\u001b[?25h\u001b[?2026l\u001b[?2026h\u001b[?25l\u001b[A\u001b[A\u001b[A\u001b[A\u001b[A\u001b[A\u001b[A\u001b[1Gpulling manifest \u001b[K\n",
            "pulling dde5aa3fc5ff... 100% ▕▏ 2.0 GB                         \u001b[K\n",
            "pulling 966de95ca8a6... 100% ▕▏ 1.4 KB                         \u001b[K\n",
            "pulling fcc5a6bec9da... 100% ▕▏ 7.7 KB                         \u001b[K\n",
            "pulling a70ff7e570d9... 100% ▕▏ 6.0 KB                         \u001b[K\n",
            "pulling 56bb8bd477a5... 100% ▕▏   96 B                         \u001b[K\n",
            "pulling 34bb5ab01051... 100% ▕▏  561 B                         \u001b[K\n",
            "verifying sha256 digest ⠇ \u001b[K\u001b[?25h\u001b[?2026l\u001b[?2026h\u001b[?25l\u001b[A\u001b[A\u001b[A\u001b[A\u001b[A\u001b[A\u001b[A\u001b[1Gpulling manifest \u001b[K\n",
            "pulling dde5aa3fc5ff... 100% ▕▏ 2.0 GB                         \u001b[K\n",
            "pulling 966de95ca8a6... 100% ▕▏ 1.4 KB                         \u001b[K\n",
            "pulling fcc5a6bec9da... 100% ▕▏ 7.7 KB                         \u001b[K\n",
            "pulling a70ff7e570d9... 100% ▕▏ 6.0 KB                         \u001b[K\n",
            "pulling 56bb8bd477a5... 100% ▕▏   96 B                         \u001b[K\n",
            "pulling 34bb5ab01051... 100% ▕▏  561 B                         \u001b[K\n",
            "verifying sha256 digest ⠏ \u001b[K\u001b[?25h\u001b[?2026l\u001b[?2026h\u001b[?25l\u001b[A\u001b[A\u001b[A\u001b[A\u001b[A\u001b[A\u001b[A\u001b[1Gpulling manifest \u001b[K\n",
            "pulling dde5aa3fc5ff... 100% ▕▏ 2.0 GB                         \u001b[K\n",
            "pulling 966de95ca8a6... 100% ▕▏ 1.4 KB                         \u001b[K\n",
            "pulling fcc5a6bec9da... 100% ▕▏ 7.7 KB                         \u001b[K\n",
            "pulling a70ff7e570d9... 100% ▕▏ 6.0 KB                         \u001b[K\n",
            "pulling 56bb8bd477a5... 100% ▕▏   96 B                         \u001b[K\n",
            "pulling 34bb5ab01051... 100% ▕▏  561 B                         \u001b[K\n",
            "verifying sha256 digest ⠋ \u001b[K\u001b[?25h\u001b[?2026l\u001b[?2026h\u001b[?25l\u001b[A\u001b[A\u001b[A\u001b[A\u001b[A\u001b[A\u001b[A\u001b[1Gpulling manifest \u001b[K\n",
            "pulling dde5aa3fc5ff... 100% ▕▏ 2.0 GB                         \u001b[K\n",
            "pulling 966de95ca8a6... 100% ▕▏ 1.4 KB                         \u001b[K\n",
            "pulling fcc5a6bec9da... 100% ▕▏ 7.7 KB                         \u001b[K\n",
            "pulling a70ff7e570d9... 100% ▕▏ 6.0 KB                         \u001b[K\n",
            "pulling 56bb8bd477a5... 100% ▕▏   96 B                         \u001b[K\n",
            "pulling 34bb5ab01051... 100% ▕▏  561 B                         \u001b[K\n",
            "verifying sha256 digest ⠙ \u001b[K\u001b[?25h\u001b[?2026l\u001b[?2026h\u001b[?25l\u001b[A\u001b[A\u001b[A\u001b[A\u001b[A\u001b[A\u001b[A\u001b[1Gpulling manifest \u001b[K\n",
            "pulling dde5aa3fc5ff... 100% ▕▏ 2.0 GB                         \u001b[K\n",
            "pulling 966de95ca8a6... 100% ▕▏ 1.4 KB                         \u001b[K\n",
            "pulling fcc5a6bec9da... 100% ▕▏ 7.7 KB                         \u001b[K\n",
            "pulling a70ff7e570d9... 100% ▕▏ 6.0 KB                         \u001b[K\n",
            "pulling 56bb8bd477a5... 100% ▕▏   96 B                         \u001b[K\n",
            "pulling 34bb5ab01051... 100% ▕▏  561 B                         \u001b[K\n",
            "verifying sha256 digest ⠹ \u001b[K\u001b[?25h\u001b[?2026l\u001b[?2026h\u001b[?25l\u001b[A\u001b[A\u001b[A\u001b[A\u001b[A\u001b[A\u001b[A\u001b[1Gpulling manifest \u001b[K\n",
            "pulling dde5aa3fc5ff... 100% ▕▏ 2.0 GB                         \u001b[K\n",
            "pulling 966de95ca8a6... 100% ▕▏ 1.4 KB                         \u001b[K\n",
            "pulling fcc5a6bec9da... 100% ▕▏ 7.7 KB                         \u001b[K\n",
            "pulling a70ff7e570d9... 100% ▕▏ 6.0 KB                         \u001b[K\n",
            "pulling 56bb8bd477a5... 100% ▕▏   96 B                         \u001b[K\n",
            "pulling 34bb5ab01051... 100% ▕▏  561 B                         \u001b[K\n",
            "verifying sha256 digest ⠸ \u001b[K\u001b[?25h\u001b[?2026l\u001b[?2026h\u001b[?25l\u001b[A\u001b[A\u001b[A\u001b[A\u001b[A\u001b[A\u001b[A\u001b[1Gpulling manifest \u001b[K\n",
            "pulling dde5aa3fc5ff... 100% ▕▏ 2.0 GB                         \u001b[K\n",
            "pulling 966de95ca8a6... 100% ▕▏ 1.4 KB                         \u001b[K\n",
            "pulling fcc5a6bec9da... 100% ▕▏ 7.7 KB                         \u001b[K\n",
            "pulling a70ff7e570d9... 100% ▕▏ 6.0 KB                         \u001b[K\n",
            "pulling 56bb8bd477a5... 100% ▕▏   96 B                         \u001b[K\n",
            "pulling 34bb5ab01051... 100% ▕▏  561 B                         \u001b[K\n",
            "verifying sha256 digest ⠼ \u001b[K\u001b[?25h\u001b[?2026l\u001b[?2026h\u001b[?25l\u001b[A\u001b[A\u001b[A\u001b[A\u001b[A\u001b[A\u001b[A\u001b[1Gpulling manifest \u001b[K\n",
            "pulling dde5aa3fc5ff... 100% ▕▏ 2.0 GB                         \u001b[K\n",
            "pulling 966de95ca8a6... 100% ▕▏ 1.4 KB                         \u001b[K\n",
            "pulling fcc5a6bec9da... 100% ▕▏ 7.7 KB                         \u001b[K\n",
            "pulling a70ff7e570d9... 100% ▕▏ 6.0 KB                         \u001b[K\n",
            "pulling 56bb8bd477a5... 100% ▕▏   96 B                         \u001b[K\n",
            "pulling 34bb5ab01051... 100% ▕▏  561 B                         \u001b[K\n",
            "verifying sha256 digest ⠴ \u001b[K\u001b[?25h\u001b[?2026l\u001b[?2026h\u001b[?25l\u001b[A\u001b[A\u001b[A\u001b[A\u001b[A\u001b[A\u001b[A\u001b[1Gpulling manifest \u001b[K\n",
            "pulling dde5aa3fc5ff... 100% ▕▏ 2.0 GB                         \u001b[K\n",
            "pulling 966de95ca8a6... 100% ▕▏ 1.4 KB                         \u001b[K\n",
            "pulling fcc5a6bec9da... 100% ▕▏ 7.7 KB                         \u001b[K\n",
            "pulling a70ff7e570d9... 100% ▕▏ 6.0 KB                         \u001b[K\n",
            "pulling 56bb8bd477a5... 100% ▕▏   96 B                         \u001b[K\n",
            "pulling 34bb5ab01051... 100% ▕▏  561 B                         \u001b[K\n",
            "verifying sha256 digest ⠦ \u001b[K\u001b[?25h\u001b[?2026l\u001b[?2026h\u001b[?25l\u001b[A\u001b[A\u001b[A\u001b[A\u001b[A\u001b[A\u001b[A\u001b[1Gpulling manifest \u001b[K\n",
            "pulling dde5aa3fc5ff... 100% ▕▏ 2.0 GB                         \u001b[K\n",
            "pulling 966de95ca8a6... 100% ▕▏ 1.4 KB                         \u001b[K\n",
            "pulling fcc5a6bec9da... 100% ▕▏ 7.7 KB                         \u001b[K\n",
            "pulling a70ff7e570d9... 100% ▕▏ 6.0 KB                         \u001b[K\n",
            "pulling 56bb8bd477a5... 100% ▕▏   96 B                         \u001b[K\n",
            "pulling 34bb5ab01051... 100% ▕▏  561 B                         \u001b[K\n",
            "verifying sha256 digest ⠧ \u001b[K\u001b[?25h\u001b[?2026l\u001b[?2026h\u001b[?25l\u001b[A\u001b[A\u001b[A\u001b[A\u001b[A\u001b[A\u001b[A\u001b[1Gpulling manifest \u001b[K\n",
            "pulling dde5aa3fc5ff... 100% ▕▏ 2.0 GB                         \u001b[K\n",
            "pulling 966de95ca8a6... 100% ▕▏ 1.4 KB                         \u001b[K\n",
            "pulling fcc5a6bec9da... 100% ▕▏ 7.7 KB                         \u001b[K\n",
            "pulling a70ff7e570d9... 100% ▕▏ 6.0 KB                         \u001b[K\n",
            "pulling 56bb8bd477a5... 100% ▕▏   96 B                         \u001b[K\n",
            "pulling 34bb5ab01051... 100% ▕▏  561 B                         \u001b[K\n",
            "verifying sha256 digest ⠇ \u001b[K\u001b[?25h\u001b[?2026l\u001b[?2026h\u001b[?25l\u001b[A\u001b[A\u001b[A\u001b[A\u001b[A\u001b[A\u001b[A\u001b[1Gpulling manifest \u001b[K\n",
            "pulling dde5aa3fc5ff... 100% ▕▏ 2.0 GB                         \u001b[K\n",
            "pulling 966de95ca8a6... 100% ▕▏ 1.4 KB                         \u001b[K\n",
            "pulling fcc5a6bec9da... 100% ▕▏ 7.7 KB                         \u001b[K\n",
            "pulling a70ff7e570d9... 100% ▕▏ 6.0 KB                         \u001b[K\n",
            "pulling 56bb8bd477a5... 100% ▕▏   96 B                         \u001b[K\n",
            "pulling 34bb5ab01051... 100% ▕▏  561 B                         \u001b[K\n",
            "verifying sha256 digest ⠏ \u001b[K\u001b[?25h\u001b[?2026l\u001b[?2026h\u001b[?25l\u001b[A\u001b[A\u001b[A\u001b[A\u001b[A\u001b[A\u001b[A\u001b[1Gpulling manifest \u001b[K\n",
            "pulling dde5aa3fc5ff... 100% ▕▏ 2.0 GB                         \u001b[K\n",
            "pulling 966de95ca8a6... 100% ▕▏ 1.4 KB                         \u001b[K\n",
            "pulling fcc5a6bec9da... 100% ▕▏ 7.7 KB                         \u001b[K\n",
            "pulling a70ff7e570d9... 100% ▕▏ 6.0 KB                         \u001b[K\n",
            "pulling 56bb8bd477a5... 100% ▕▏   96 B                         \u001b[K\n",
            "pulling 34bb5ab01051... 100% ▕▏  561 B                         \u001b[K\n",
            "verifying sha256 digest ⠋ \u001b[K\u001b[?25h\u001b[?2026l\u001b[?2026h\u001b[?25l\u001b[A\u001b[A\u001b[A\u001b[A\u001b[A\u001b[A\u001b[A\u001b[1Gpulling manifest \u001b[K\n",
            "pulling dde5aa3fc5ff... 100% ▕▏ 2.0 GB                         \u001b[K\n",
            "pulling 966de95ca8a6... 100% ▕▏ 1.4 KB                         \u001b[K\n",
            "pulling fcc5a6bec9da... 100% ▕▏ 7.7 KB                         \u001b[K\n",
            "pulling a70ff7e570d9... 100% ▕▏ 6.0 KB                         \u001b[K\n",
            "pulling 56bb8bd477a5... 100% ▕▏   96 B                         \u001b[K\n",
            "pulling 34bb5ab01051... 100% ▕▏  561 B                         \u001b[K\n",
            "verifying sha256 digest ⠙ \u001b[K\u001b[?25h\u001b[?2026l\u001b[?2026h\u001b[?25l\u001b[A\u001b[A\u001b[A\u001b[A\u001b[A\u001b[A\u001b[A\u001b[1Gpulling manifest \u001b[K\n",
            "pulling dde5aa3fc5ff... 100% ▕▏ 2.0 GB                         \u001b[K\n",
            "pulling 966de95ca8a6... 100% ▕▏ 1.4 KB                         \u001b[K\n",
            "pulling fcc5a6bec9da... 100% ▕▏ 7.7 KB                         \u001b[K\n",
            "pulling a70ff7e570d9... 100% ▕▏ 6.0 KB                         \u001b[K\n",
            "pulling 56bb8bd477a5... 100% ▕▏   96 B                         \u001b[K\n",
            "pulling 34bb5ab01051... 100% ▕▏  561 B                         \u001b[K\n",
            "verifying sha256 digest ⠹ \u001b[K\u001b[?25h\u001b[?2026l\u001b[?2026h\u001b[?25l\u001b[A\u001b[A\u001b[A\u001b[A\u001b[A\u001b[A\u001b[A\u001b[1Gpulling manifest \u001b[K\n",
            "pulling dde5aa3fc5ff... 100% ▕▏ 2.0 GB                         \u001b[K\n",
            "pulling 966de95ca8a6... 100% ▕▏ 1.4 KB                         \u001b[K\n",
            "pulling fcc5a6bec9da... 100% ▕▏ 7.7 KB                         \u001b[K\n",
            "pulling a70ff7e570d9... 100% ▕▏ 6.0 KB                         \u001b[K\n",
            "pulling 56bb8bd477a5... 100% ▕▏   96 B                         \u001b[K\n",
            "pulling 34bb5ab01051... 100% ▕▏  561 B                         \u001b[K\n",
            "verifying sha256 digest ⠸ \u001b[K\u001b[?25h\u001b[?2026l\u001b[?2026h\u001b[?25l\u001b[A\u001b[A\u001b[A\u001b[A\u001b[A\u001b[A\u001b[A\u001b[1Gpulling manifest \u001b[K\n",
            "pulling dde5aa3fc5ff... 100% ▕▏ 2.0 GB                         \u001b[K\n",
            "pulling 966de95ca8a6... 100% ▕▏ 1.4 KB                         \u001b[K\n",
            "pulling fcc5a6bec9da... 100% ▕▏ 7.7 KB                         \u001b[K\n",
            "pulling a70ff7e570d9... 100% ▕▏ 6.0 KB                         \u001b[K\n",
            "pulling 56bb8bd477a5... 100% ▕▏   96 B                         \u001b[K\n",
            "pulling 34bb5ab01051... 100% ▕▏  561 B                         \u001b[K\n",
            "verifying sha256 digest ⠼ \u001b[K\u001b[?25h\u001b[?2026l\u001b[?2026h\u001b[?25l\u001b[A\u001b[A\u001b[A\u001b[A\u001b[A\u001b[A\u001b[A\u001b[1Gpulling manifest \u001b[K\n",
            "pulling dde5aa3fc5ff... 100% ▕▏ 2.0 GB                         \u001b[K\n",
            "pulling 966de95ca8a6... 100% ▕▏ 1.4 KB                         \u001b[K\n",
            "pulling fcc5a6bec9da... 100% ▕▏ 7.7 KB                         \u001b[K\n",
            "pulling a70ff7e570d9... 100% ▕▏ 6.0 KB                         \u001b[K\n",
            "pulling 56bb8bd477a5... 100% ▕▏   96 B                         \u001b[K\n",
            "pulling 34bb5ab01051... 100% ▕▏  561 B                         \u001b[K\n",
            "verifying sha256 digest ⠴ \u001b[K\u001b[?25h\u001b[?2026l\u001b[?2026h\u001b[?25l\u001b[A\u001b[A\u001b[A\u001b[A\u001b[A\u001b[A\u001b[A\u001b[1Gpulling manifest \u001b[K\n",
            "pulling dde5aa3fc5ff... 100% ▕▏ 2.0 GB                         \u001b[K\n",
            "pulling 966de95ca8a6... 100% ▕▏ 1.4 KB                         \u001b[K\n",
            "pulling fcc5a6bec9da... 100% ▕▏ 7.7 KB                         \u001b[K\n",
            "pulling a70ff7e570d9... 100% ▕▏ 6.0 KB                         \u001b[K\n",
            "pulling 56bb8bd477a5... 100% ▕▏   96 B                         \u001b[K\n",
            "pulling 34bb5ab01051... 100% ▕▏  561 B                         \u001b[K\n",
            "verifying sha256 digest ⠦ \u001b[K\u001b[?25h\u001b[?2026l\u001b[?2026h\u001b[?25l\u001b[A\u001b[A\u001b[A\u001b[A\u001b[A\u001b[A\u001b[A\u001b[1Gpulling manifest \u001b[K\n",
            "pulling dde5aa3fc5ff... 100% ▕▏ 2.0 GB                         \u001b[K\n",
            "pulling 966de95ca8a6... 100% ▕▏ 1.4 KB                         \u001b[K\n",
            "pulling fcc5a6bec9da... 100% ▕▏ 7.7 KB                         \u001b[K\n",
            "pulling a70ff7e570d9... 100% ▕▏ 6.0 KB                         \u001b[K\n",
            "pulling 56bb8bd477a5... 100% ▕▏   96 B                         \u001b[K\n",
            "pulling 34bb5ab01051... 100% ▕▏  561 B                         \u001b[K\n",
            "verifying sha256 digest ⠧ \u001b[K\u001b[?25h\u001b[?2026l\u001b[?2026h\u001b[?25l\u001b[A\u001b[A\u001b[A\u001b[A\u001b[A\u001b[A\u001b[A\u001b[1Gpulling manifest \u001b[K\n",
            "pulling dde5aa3fc5ff... 100% ▕▏ 2.0 GB                         \u001b[K\n",
            "pulling 966de95ca8a6... 100% ▕▏ 1.4 KB                         \u001b[K\n",
            "pulling fcc5a6bec9da... 100% ▕▏ 7.7 KB                         \u001b[K\n",
            "pulling a70ff7e570d9... 100% ▕▏ 6.0 KB                         \u001b[K\n",
            "pulling 56bb8bd477a5... 100% ▕▏   96 B                         \u001b[K\n",
            "pulling 34bb5ab01051... 100% ▕▏  561 B                         \u001b[K\n",
            "verifying sha256 digest ⠇ \u001b[K\u001b[?25h\u001b[?2026l\u001b[?2026h\u001b[?25l\u001b[A\u001b[A\u001b[A\u001b[A\u001b[A\u001b[A\u001b[A\u001b[1Gpulling manifest \u001b[K\n",
            "pulling dde5aa3fc5ff... 100% ▕▏ 2.0 GB                         \u001b[K\n",
            "pulling 966de95ca8a6... 100% ▕▏ 1.4 KB                         \u001b[K\n",
            "pulling fcc5a6bec9da... 100% ▕▏ 7.7 KB                         \u001b[K\n",
            "pulling a70ff7e570d9... 100% ▕▏ 6.0 KB                         \u001b[K\n",
            "pulling 56bb8bd477a5... 100% ▕▏   96 B                         \u001b[K\n",
            "pulling 34bb5ab01051... 100% ▕▏  561 B                         \u001b[K\n",
            "verifying sha256 digest ⠏ \u001b[K\u001b[?25h\u001b[?2026l\u001b[?2026h\u001b[?25l\u001b[A\u001b[A\u001b[A\u001b[A\u001b[A\u001b[A\u001b[A\u001b[1Gpulling manifest \u001b[K\n",
            "pulling dde5aa3fc5ff... 100% ▕▏ 2.0 GB                         \u001b[K\n",
            "pulling 966de95ca8a6... 100% ▕▏ 1.4 KB                         \u001b[K\n",
            "pulling fcc5a6bec9da... 100% ▕▏ 7.7 KB                         \u001b[K\n",
            "pulling a70ff7e570d9... 100% ▕▏ 6.0 KB                         \u001b[K\n",
            "pulling 56bb8bd477a5... 100% ▕▏   96 B                         \u001b[K\n",
            "pulling 34bb5ab01051... 100% ▕▏  561 B                         \u001b[K\n",
            "verifying sha256 digest ⠋ \u001b[K\u001b[?25h\u001b[?2026l\u001b[?2026h\u001b[?25l\u001b[A\u001b[A\u001b[A\u001b[A\u001b[A\u001b[A\u001b[A\u001b[1Gpulling manifest \u001b[K\n",
            "pulling dde5aa3fc5ff... 100% ▕▏ 2.0 GB                         \u001b[K\n",
            "pulling 966de95ca8a6... 100% ▕▏ 1.4 KB                         \u001b[K\n",
            "pulling fcc5a6bec9da... 100% ▕▏ 7.7 KB                         \u001b[K\n",
            "pulling a70ff7e570d9... 100% ▕▏ 6.0 KB                         \u001b[K\n",
            "pulling 56bb8bd477a5... 100% ▕▏   96 B                         \u001b[K\n",
            "pulling 34bb5ab01051... 100% ▕▏  561 B                         \u001b[K\n",
            "verifying sha256 digest ⠙ \u001b[K\u001b[?25h\u001b[?2026l\u001b[?2026h\u001b[?25l\u001b[A\u001b[A\u001b[A\u001b[A\u001b[A\u001b[A\u001b[A\u001b[1Gpulling manifest \u001b[K\n",
            "pulling dde5aa3fc5ff... 100% ▕▏ 2.0 GB                         \u001b[K\n",
            "pulling 966de95ca8a6... 100% ▕▏ 1.4 KB                         \u001b[K\n",
            "pulling fcc5a6bec9da... 100% ▕▏ 7.7 KB                         \u001b[K\n",
            "pulling a70ff7e570d9... 100% ▕▏ 6.0 KB                         \u001b[K\n",
            "pulling 56bb8bd477a5... 100% ▕▏   96 B                         \u001b[K\n",
            "pulling 34bb5ab01051... 100% ▕▏  561 B                         \u001b[K\n",
            "verifying sha256 digest ⠹ \u001b[K\u001b[?25h\u001b[?2026l\u001b[?2026h\u001b[?25l\u001b[A\u001b[A\u001b[A\u001b[A\u001b[A\u001b[A\u001b[A\u001b[1Gpulling manifest \u001b[K\n",
            "pulling dde5aa3fc5ff... 100% ▕▏ 2.0 GB                         \u001b[K\n",
            "pulling 966de95ca8a6... 100% ▕▏ 1.4 KB                         \u001b[K\n",
            "pulling fcc5a6bec9da... 100% ▕▏ 7.7 KB                         \u001b[K\n",
            "pulling a70ff7e570d9... 100% ▕▏ 6.0 KB                         \u001b[K\n",
            "pulling 56bb8bd477a5... 100% ▕▏   96 B                         \u001b[K\n",
            "pulling 34bb5ab01051... 100% ▕▏  561 B                         \u001b[K\n",
            "verifying sha256 digest \u001b[K\n",
            "writing manifest \u001b[K\n",
            "success \u001b[K\u001b[?25h\u001b[?2026l\n"
          ]
        }
      ]
    },
    {
      "cell_type": "code",
      "source": [
        "!ollama list"
      ],
      "metadata": {
        "id": "6ht2LMsxmn3V",
        "outputId": "50b15364-abf8-46c3-a6ec-c1a3fac34f9e",
        "colab": {
          "base_uri": "https://localhost:8080/"
        }
      },
      "execution_count": 11,
      "outputs": [
        {
          "output_type": "stream",
          "name": "stdout",
          "text": [
            "NAME               ID              SIZE      MODIFIED      \n",
            "llama3.2:latest    a80c4f17acd5    2.0 GB    6 seconds ago    \n"
          ]
        }
      ]
    },
    {
      "cell_type": "code",
      "execution_count": 12,
      "metadata": {
        "id": "eXoe53VyIAD-"
      },
      "outputs": [],
      "source": [
        "!pip install -qU \\\n",
        "  langchain-core==0.3.33 \\\n",
        "  langchain-openai==0.3.3 \\\n",
        "  langchain-community==0.3.16 \\\n",
        "  langchain-ollama"
      ]
    },
    {
      "cell_type": "markdown",
      "metadata": {
        "id": "JFy86kIBH6am"
      },
      "source": [
        "## Initializing OpenAI's gpt-4o-mini"
      ]
    },
    {
      "cell_type": "markdown",
      "metadata": {
        "id": "5Jq_58vDH6an"
      },
      "source": [
        "We start by initializing our LLM. We will use OpenAI's `gpt-4o-mini` model, if you need an API key you can get one from [OpenAI's website](https://platform.openai.com/settings/organization/api-keys)."
      ]
    },
    {
      "cell_type": "code",
      "execution_count": 13,
      "metadata": {
        "id": "dL1OqS7RH6an"
      },
      "outputs": [],
      "source": [
        "import os\n",
        "# from getpass import getpass\n",
        "\n",
        "# os.environ[\"OPENAI_API_KEY\"] = os.getenv(\"OPENAI_API_KEY\") or getpass(\n",
        "#     \"Enter OpenAI API Key: \"\n",
        "# )\n",
        "\n",
        "# openai_model = \"gpt-4o-mini\""
      ]
    },
    {
      "cell_type": "code",
      "source": [
        "from langchain_ollama.chat_models import ChatOllama\n",
        "\n",
        "model_name = \"llama3.2\"\n",
        "\n",
        "# initialize one LLM with temperature 0.0, this makes the LLM more deterministic\n",
        "llm = ChatOllama(temperature=0.0, model=model_name)\n",
        "\n",
        "creative_llm = ChatOllama(temperature=0.9, model=model_name)"
      ],
      "metadata": {
        "id": "a6XxD91fcGGS"
      },
      "execution_count": 14,
      "outputs": []
    },
    {
      "cell_type": "code",
      "execution_count": 15,
      "metadata": {
        "id": "Y_tz8kTVH6an"
      },
      "outputs": [],
      "source": [
        "# from langchain_openai import ChatOpenAI\n",
        "\n",
        "# # For normal accurate responses\n",
        "# llm = ChatOpenAI(temperature=0.0, model=openai_model)\n",
        "\n",
        "# # For unique creative responses\n",
        "# creative_llm = ChatOpenAI(temperature=0.9, model=openai_model)"
      ]
    },
    {
      "cell_type": "code",
      "source": [
        "llm.invoke(\"who is president of united states?\")"
      ],
      "metadata": {
        "id": "26YqSI-QdGOb",
        "outputId": "047b3480-34ae-4d6b-fcba-42d973b9cf49",
        "colab": {
          "base_uri": "https://localhost:8080/"
        }
      },
      "execution_count": 16,
      "outputs": [
        {
          "output_type": "execute_result",
          "data": {
            "text/plain": [
              "AIMessage(content=\"I'm not aware of the current President of the United States, as my knowledge cutoff is December 2023. However, I can suggest some ways for you to find out who the current President is:\\n\\n1. Check online news sources: You can check reputable news websites such as CNN, BBC, or Fox News to get the latest information on the current President of the United States.\\n2. Visit the official White House website: The official White House website (whitehouse.gov) provides up-to-date information on the current administration and the President.\\n3. Check social media: You can also check the official Twitter account of the President (@POTUS) or other government accounts to get the latest updates.\\n\\nPlease note that my knowledge may not be up-to-date, and I recommend verifying the information through multiple sources to ensure accuracy.\", additional_kwargs={}, response_metadata={'model': 'llama3.2', 'created_at': '2025-03-21T05:00:08.973618045Z', 'done': True, 'done_reason': 'stop', 'total_duration': 10717340894, 'load_duration': 6323916844, 'prompt_eval_count': 32, 'prompt_eval_duration': 855995190, 'eval_count': 167, 'eval_duration': 3535945192, 'message': Message(role='assistant', content='', images=None, tool_calls=None)}, id='run-44234711-fb7e-4375-a3ae-279643ca9eae-0', usage_metadata={'input_tokens': 32, 'output_tokens': 167, 'total_tokens': 199})"
            ]
          },
          "metadata": {},
          "execution_count": 16
        }
      ]
    },
    {
      "cell_type": "markdown",
      "metadata": {
        "id": "jymjwQiMH6an"
      },
      "source": [
        "We will be taking an `article` _draft_ and using LangChain to generate various useful items around this article. We'll be creating:\n",
        "\n",
        "1. An article title\n",
        "2. An article description\n",
        "3. Editor advice where we will insert an additional paragraph in the article\n",
        "4. A thumbnail / hero image for our article."
      ]
    },
    {
      "cell_type": "markdown",
      "metadata": {
        "id": "jSsQ8xKuH6an"
      },
      "source": [
        "Here we input our article to start with. Currently this is using an article from the Aurelio AI learning page."
      ]
    },
    {
      "cell_type": "code",
      "execution_count": 17,
      "metadata": {
        "id": "sfwEVT97H6ao"
      },
      "outputs": [],
      "source": [
        "article = \"\"\"\n",
        "\\\n",
        "We believe AI's short—to mid-term future belongs to agents and that the long-term future of *AGI* may evolve from agentic systems. Our definition of agents covers any neuro-symbolic system in which we merge neural AI (such as an LLM) with semi-traditional software.\n",
        "\n",
        "With agents, we allow LLMs to integrate with code — allowing AI to search the web, perform math, and essentially integrate into anything we can build with code. It should be clear the scope of use cases is phenomenal where AI can integrate with the broader world of software.\n",
        "\n",
        "In this introduction to AI agents, we will cover the essential concepts that make them what they are and why that will make them the core of real-world AI in the years to come.\n",
        "\n",
        "---\n",
        "\n",
        "## Neuro-Symbolic Systems\n",
        "\n",
        "Neuro-symbolic systems consist of both neural and symbolic computation, where:\n",
        "\n",
        "- Neural refers to LLMs, embedding models, or other neural network-based models.\n",
        "- Symbolic refers to logic containing symbolic logic, such as code.\n",
        "\n",
        "Both neural and symbolic AI originate from the early philosophical approaches to AI: connectionism (now neural) and symbolism. Symbolic AI is the more traditional AI. Diehard symbolists believed they could achieve true AGI via written rules, ontologies, and other logical functions.\n",
        "\n",
        "The other camp were the connectionists. Connectionism emerged in 1943 with a theoretical neural circuit but truly kicked off with Rosenblatt's perceptron paper in 1958 [1][2]. Both of these approaches to AI are fascinating but deserve more time than we can give them here, so we will leave further exploration of these concepts for a future chapter.\n",
        "\n",
        "Most important to us is understanding where symbolic logic outperforms neural-based compute and vice-versa.\n",
        "\n",
        "| Neural | Symbolic |\n",
        "| --- | --- |\n",
        "| Flexible, learned logic that can cover a huge range of potential scenarios. | Mostly hand-written rules which can be very granular and fine-tuned but hard to scale. |\n",
        "| Hard to interpret why a neural system does what it does. Very difficult or even impossible to predict behavior. | Rules are written and can be understood. When unsure why a particular ouput was produced we can look at the rules / logic to understand. |\n",
        "| Requires huge amount of data and compute to train state-of-the-art neural models, making it hard to add new abilities or update with new information. | Code is relatively cheap to write, it can be updated with new features easily, and latest information can often be added often instantaneously. |\n",
        "| When trained on broad datasets can often lack performance when exposed to unique scenarios that are not well represented in the training data. | Easily customized to unique scenarios. |\n",
        "| Struggles with complex computations such as mathematical operations. | Perform complex computations very quickly and accurately. |\n",
        "\n",
        "Pure neural architectures struggle with many seemingly simple tasks. For example, an LLM *cannot* provide an accurate answer if we ask it for today's date.\n",
        "\n",
        "Retrieval Augmented Generation (RAG) is commonly used to provide LLMs with up-to-date knowledge on a particular subject or access to proprietary knowledge.\n",
        "\n",
        "### Giving LLMs Superpowers\n",
        "\n",
        "By 2020, it was becoming clear that neural AI systems could not perform tasks symbolic systems typically excelled in, such as arithmetic, accessing structured DB data, or making API calls. These tasks require discrete input parameters that allow us to process them reliably according to strict written logic.\n",
        "\n",
        "In 2022, researchers at AI21 developed Jurassic-X, an LLM-based \"neuro-symbolic architecture.\" Neuro-symbolic refers to merging the \"neural computation\" of large language models (LLMs) with more traditional (i.e. symbolic) computation of code.\n",
        "\n",
        "Jurassic-X used the Modular Reasoning, Knowledge, and Language (MRKL) system [3]. The researchers developed MRKL to solve the limitations of LLMs, namely:\n",
        "\n",
        "- Lack of up-to-date knowledge, whether that is the latest in AI or something as simple as today's date.\n",
        "- Lack of proprietary knowledge, such as internal company docs or your calendar bookings.\n",
        "- Lack of reasoning, i.e. the inability to perform operations that traditional software is good at, like running complex mathematical operations.\n",
        "- Lack of ability to generalize. Back in 2022, most LLMs had to be fine-tuned to perform well in a specific domain. This problem is still present today but far less prominent as the SotA models generalize much better and, in the case of MRKL, are able to use tools relatively well (although we could certainly take the MRKL solution to improve tool use performance even today).\n",
        "\n",
        "MRKL represents one of the earliest forms of what we would now call an agent; it is an LLM (neural computation) paired with executable code (symbolic computation).\n",
        "\n",
        "## ReAct and Tools\n",
        "\n",
        "There is a misconception in the broader industry that an AI agent is an LLM contained within some looping logic that can generate inputs for and execute code functions. This definition of agents originates from the huge popularity of the ReAct agent framework and the adoption of a similar structure with function/tool calling by LLM providers such as OpenAI, Anthropic, and Ollama.\n",
        "\n",
        "![ReAct agent flow with the Reasoning-Action loop [4]. When the action chosen specifies to use a normal tool, the tool is used and the observation returned for another iteration through the Reasoning-Action loop. To return a final answer to the user the LLM must choose action \"answer\" and provide the natural language response, finishing the loop.](/images/posts/ai-agents/ai-agents-00.png)\n",
        "\n",
        "<small>ReAct agent flow with the Reasoning-Action loop [4]. When the action chosen specifies to use a normal tool, the tool is used and the observation returned for another iteration through the Reasoning-Action loop. To return a final answer to the user the LLM must choose action \"answer\" and provide the natural language response, finishing the loop.</small>\n",
        "\n",
        "Our \"neuro-symbolic\" definition is much broader but certainly does include ReAct agents and LLMs paired with tools. This agent type is the most common for now, so it's worth understanding the basic concept behind it.\n",
        "\n",
        "The **Re**ason **Act**ion (ReAct) method encourages LLMs to generate iterative *reasoning* and *action* steps. During *reasoning,* the LLM describes what steps are to be taken to answer the user's query. Then, the LLM generates an *action,* which we parse into an input to some executable code, which we typically describe as a tool/function call.\n",
        "\n",
        "![ReAct method. Each iteration includes a Reasoning step followed by an Action (tool call) step. The Observation is the output from the previous tool call. During the final iteration the agent calls the answer tool, meaning we generate the final answer for the user.](/images/posts/ai-agents/ai-agents-01.png)\n",
        "\n",
        "<small>ReAct method. Each iteration includes a Reasoning step followed by an Action (tool call) step. The Observation is the output from the previous tool call. During the final iteration the agent calls the answer tool, meaning we generate the final answer for the user.</small>\n",
        "\n",
        "Following the reason and action steps, our action tool call returns an observation. The logic returns the observation to the LLM, which is then used to generate subsequent reasoning and action steps.\n",
        "\n",
        "The ReAct loop continues until the LLM has enough information to answer the original input. Once the LLM reaches this state, it calls a special *answer* action with the generated answer for the user.\n",
        "\n",
        "## Not only LLMs and Tool Calls\n",
        "\n",
        "LLMs paired with tool calling are powerful but far from the only approach to building agents. Using the definition of neuro-symbolic, we cover architectures such as:\n",
        "\n",
        "- Multi-agent workflows that involve multiple LLM-tool (or other agent structure) combinations.\n",
        "- More deterministic workflows where we may have set neural model-tool paths that may fork or merge as the use case requires.\n",
        "- Embedding models that can detect user intents and decide tool-use or LLM selection-based selection in vector space.\n",
        "\n",
        "These are just a few high-level examples of alternative agent structures. Far from being designed for niche use cases, we find these alternative options to frequently perform better than the more common ReAct or Tool agents. We will cover all of these examples and more in future chapters.\n",
        "\n",
        "---\n",
        "\n",
        "Agents are fundamental to the future of AI, but that doesn't mean we should expect that future to come from agents in their most popular form today. ReAct and Tool agents are great and handle many simple use cases well, but the scope of agents is much broader, and we believe thinking beyond ReAct and Tools is key to building future AI.\n",
        "\n",
        "---\n",
        "\n",
        "You can sign up for the [Aurelio AI newsletter](https://b0fcw9ec53w.typeform.com/to/w2BDHVK7) to stay updated on future releases in our comprehensive course on agents.\n",
        "\n",
        "---\n",
        "\n",
        "## References\n",
        "\n",
        "[1] The curious case of Connectionism (2019) [https://www.degruyter.com/document/doi/10.1515/opphil-2019-0018/html](https://www.degruyter.com/document/doi/10.1515/opphil-2019-0018/html)\n",
        "\n",
        "[2] F. Rosenblatt, [The Perceptron: A Probabilistic Model for Information Storage and Organization in the Brain](https://www.ling.upenn.edu/courses/cogs501/Rosenblatt1958.pdf) (1958), Psychological Review\n",
        "\n",
        "[3] E. Karpas et al. [MRKL Systems: A Modular, Neuro-Symbolic Architecture That Combines Large Language Models, External Knowledge Sources and Discrete Reasoning](https://arxiv.org/abs/2205.00445) (2022), AI21 Labs\n",
        "\"\"\""
      ]
    },
    {
      "cell_type": "markdown",
      "metadata": {
        "id": "hM0HBv7bH6ao"
      },
      "source": [
        "## Preparing our Prompts"
      ]
    },
    {
      "cell_type": "markdown",
      "metadata": {
        "id": "HmFcbFU4H6ao"
      },
      "source": [
        "LangChain comes with several prompt classes and methods for organizing or constructing our prompts. We will cover these in more detail in later examples, but for now we'll cover the essentials that we need here.\n",
        "\n",
        "Prompts for chat agents are at a minimum broken up into three components, those are:\n",
        "\n",
        "* System prompt: this provides the instructions to our LLM on how it must behave, what it's objective is, etc.\n",
        "\n",
        "* User prompt: this is a user written input.\n",
        "\n",
        "* AI prompt: this is the AI generated output. When representing a conversation, previous generations will be inserted back into the next prompt and become part of the broader _chat history_.\n",
        "\n",
        "```\n",
        "You are a helpful AI assistant, you will do XYZ.    | SYSTEM PROMPT\n",
        "\n",
        "User: Hi, what is the capital of Australia?         | USER PROMPT\n",
        "AI: It is Canberra                                  | AI PROMPT\n",
        "User: When is the best time to visit?               | USER PROMPT\n",
        "```\n",
        "\n",
        "LangChain provides us with _templates_ for each of these prompt types. By using templates we can insert different inputs to the template, modifying the prompt based on the provided inputs.\n",
        "\n",
        "Let's initialize our system and user prompt first:"
      ]
    },
    {
      "cell_type": "code",
      "execution_count": 18,
      "metadata": {
        "id": "2gsWvNLcH6ao"
      },
      "outputs": [],
      "source": [
        "from langchain.prompts import SystemMessagePromptTemplate, HumanMessagePromptTemplate\n",
        "\n",
        "# Defining the system prompt (how the AI should act)\n",
        "system_prompt = SystemMessagePromptTemplate.from_template(\n",
        "    \"You are an AI assistant called {name} that helps generate article titles.\"\n",
        "    ,input_variables=[\"name\"]\n",
        ")\n",
        "\n",
        "# the user prompt is provided by the user, in this case however the only dynamic\n",
        "# input is the article\n",
        "user_prompt = HumanMessagePromptTemplate.from_template(\n",
        "    \"\"\"You are tasked with creating a name for a article.\n",
        "The article is here for you to examine {article}\n",
        "\n",
        "The name should be based of the context of the article.\n",
        "Be creative, but make sure the names are clear, catchy,\n",
        "and relevant to the theme of the article.\n",
        "\n",
        "Only output the article name, no other explanation or\n",
        "text can be provided.\"\"\",\n",
        "    input_variables=[\"article\"]\n",
        ")"
      ]
    },
    {
      "cell_type": "markdown",
      "metadata": {
        "id": "TaCnQaAdH6ao"
      },
      "source": [
        "We can display what our formatted human prompt would look like after inserting a value into the `article` parameter:"
      ]
    },
    {
      "cell_type": "code",
      "execution_count": 19,
      "metadata": {
        "colab": {
          "base_uri": "https://localhost:8080/"
        },
        "id": "C3PlnjtEH6ao",
        "outputId": "800c29bf-7de3-4034-f1ed-94c266ec18a8"
      },
      "outputs": [
        {
          "output_type": "execute_result",
          "data": {
            "text/plain": [
              "HumanMessage(content='You are tasked with creating a name for a article.\\nThe article is here for you to examine TEST STRING\\n\\nThe name should be based of the context of the article.\\nBe creative, but make sure the names are clear, catchy,\\nand relevant to the theme of the article.\\n\\nOnly output the article name, no other explanation or\\ntext can be provided.', additional_kwargs={}, response_metadata={})"
            ]
          },
          "metadata": {},
          "execution_count": 19
        }
      ],
      "source": [
        "user_prompt.format(article=\"TEST STRING\")"
      ]
    },
    {
      "cell_type": "markdown",
      "metadata": {
        "id": "VDbNHkm3H6ap"
      },
      "source": [
        "We have our system and user prompts, we can merge both into our full chat prompt using the `ChatPromptTemplate`:"
      ]
    },
    {
      "cell_type": "code",
      "execution_count": 20,
      "metadata": {
        "id": "GeokbXtIH6ap"
      },
      "outputs": [],
      "source": [
        "from langchain.prompts import ChatPromptTemplate\n",
        "\n",
        "first_prompt = ChatPromptTemplate.from_messages([system_prompt, user_prompt])"
      ]
    },
    {
      "cell_type": "markdown",
      "metadata": {
        "id": "7K70F86jH6ap"
      },
      "source": [
        "By default, the `ChatPromptTemplate` will read the `input_variables` from each of the prompt templates inserted and allow us to use those input variables when formatting the full chat prompt template:"
      ]
    },
    {
      "cell_type": "code",
      "execution_count": 21,
      "metadata": {
        "colab": {
          "base_uri": "https://localhost:8080/"
        },
        "id": "aHnbZ5iUH6ap",
        "outputId": "ed7b0f0d-7807-4631-fd47-e014af2459ad"
      },
      "outputs": [
        {
          "output_type": "stream",
          "name": "stdout",
          "text": [
            "System: You are an AI assistant called Joe that helps generate article titles.\n",
            "Human: You are tasked with creating a name for a article.\n",
            "The article is here for you to examine TEST STRING\n",
            "\n",
            "The name should be based of the context of the article.\n",
            "Be creative, but make sure the names are clear, catchy,\n",
            "and relevant to the theme of the article.\n",
            "\n",
            "Only output the article name, no other explanation or\n",
            "text can be provided.\n"
          ]
        }
      ],
      "source": [
        "print(first_prompt.format(name =\"Joe\",\n",
        "    article=\"TEST STRING\"))"
      ]
    },
    {
      "cell_type": "markdown",
      "metadata": {
        "id": "Y-5Sv9XoH6ap"
      },
      "source": [
        "`ChatPromptTemplate` also prefixes each individual message with it's role, ie `System:`, `Human:`, or `AI:`.\n",
        "\n",
        "We can chain together our `first_prompt` template and the `llm` object we defined earlier to create a simple LLM chain. This chain will perform the steps **prompt formatting > llm generation > get output**.\n",
        "\n",
        "We'll be using **L**ang**C**hain **E**xpression **L**anguage (LCEL) to construct our chain. This syntax can look a little strange but we will cover it in detail later in the course. For now, all we need to know is that we define our inputs with the first dictionary segment (ie `{\"article\": lambda x: x[\"article\"]}`) and then we use the pipe operator (`|`) to say that the output from the left of the pipe will be fed into the input to the right of the pipe."
      ]
    },
    {
      "cell_type": "code",
      "execution_count": 22,
      "metadata": {
        "id": "7z1PNdmxSCJY"
      },
      "outputs": [],
      "source": [
        "chain_one = (\n",
        "    {\"article\": lambda x: x[\"article\"],\n",
        "     \"name\":lambda x: x[\"name\"]}\n",
        "    | first_prompt\n",
        "    | creative_llm\n",
        "    | {\"article_title\": lambda x: x.content}\n",
        ")"
      ]
    },
    {
      "cell_type": "markdown",
      "metadata": {
        "id": "xcXrW5aoH6ap"
      },
      "source": [
        "Our first chain creates the article title, note: we can run all of these individually..."
      ]
    },
    {
      "cell_type": "code",
      "execution_count": 23,
      "metadata": {
        "colab": {
          "base_uri": "https://localhost:8080/"
        },
        "id": "pKLWN56xH6ap",
        "outputId": "fd47db31-8f90-478a-e93a-a3b0b0c336c2"
      },
      "outputs": [
        {
          "output_type": "execute_result",
          "data": {
            "text/plain": [
              "{'article_title': 'Merging Symbolic Reasoning with Neuro-Symbolic Intelligence: The Future of Agents'}"
            ]
          },
          "metadata": {},
          "execution_count": 23
        }
      ],
      "source": [
        "article_title_msg = chain_one.invoke({\"article\": article,\"name\":\"joe\"})\n",
        "article_title_msg"
      ]
    },
    {
      "cell_type": "markdown",
      "metadata": {
        "id": "n6iDE_RwH6ap"
      },
      "source": [
        "But we will actually chain this step with multiple other `LLMChain` steps. So, to continue, our next step is to summarize the article using both the `article` and newly generated `article_title` values, from which we will output a new `summary` variable:"
      ]
    },
    {
      "cell_type": "code",
      "execution_count": 93,
      "metadata": {
        "id": "qtLcHVxSH6ap"
      },
      "outputs": [],
      "source": [
        "system_prompt = SystemMessagePromptTemplate.from_template(\n",
        "    \"You are an AI assistant that helps build good articles .\"\n",
        ")\n",
        "second_user_prompt = HumanMessagePromptTemplate.from_template(\n",
        "    \"\"\"You are tasked with creating a description for\n",
        "the article. The article is here for you to examine:\n",
        "\n",
        "---\n",
        "\n",
        "{article}\n",
        "\n",
        "---\n",
        "\n",
        "Here is the article title '{article_title}'.\n",
        "\n",
        "Output the SEO friendly article description. Do not output\n",
        "anything other than the description.\"\"\",\n",
        "    input_variables=[\"article\", \"article_title\"]\n",
        ")\n",
        "\n",
        "second_prompt = ChatPromptTemplate.from_messages([\n",
        "    system_prompt,\n",
        "    second_user_prompt\n",
        "])"
      ]
    },
    {
      "cell_type": "code",
      "source": [
        "chain_two = (\n",
        "    {\"article\": lambda x: x[\"article\"],\n",
        "     \"article_title\":lambda x: x[\"article_title\"]}\n",
        "    | second_prompt\n",
        "    | creative_llm\n",
        "    | {\"article_desc\": lambda x: x.content}\n",
        ")"
      ],
      "metadata": {
        "id": "08rbrXTSP_5M"
      },
      "execution_count": 95,
      "outputs": []
    },
    {
      "cell_type": "code",
      "execution_count": 96,
      "metadata": {
        "colab": {
          "base_uri": "https://localhost:8080/"
        },
        "id": "pdhUjj89efRw",
        "outputId": "d299b8ca-113a-4655-fe63-745205885da1"
      },
      "outputs": [
        {
          "output_type": "execute_result",
          "data": {
            "text/plain": [
              "{'article_desc': '\"Merging Symbolic Reasoning with Neuro-Symbolic Intelligence: The Future of Agents\"\\n\\nAgents are set to revolutionize AI, but their most popular form may not be enough to tackle complex tasks. Learn about neuro-symbolic intelligence and how it\\'s changing the game for agents in this comprehensive guide.'}"
            ]
          },
          "metadata": {},
          "execution_count": 96
        }
      ],
      "source": [
        "article_description_msg = chain_two.invoke({\n",
        "    \"article\": article,\n",
        "    \"article_title\": article_title_msg[\"article_title\"]\n",
        "})\n",
        "article_description_msg"
      ]
    },
    {
      "cell_type": "markdown",
      "metadata": {
        "id": "0SEGMX9BH6ap"
      },
      "source": [
        "The third step will consume our first `article` variable and provide several output fields, focusing on helping the user improve a part of their writing. As we are outputting multiple fields we can specify for the LLM to use structured outputs, keeping the generated fields aligned with our requirements."
      ]
    },
    {
      "cell_type": "code",
      "execution_count": 134,
      "metadata": {
        "id": "PPQf5ycHH6ap"
      },
      "outputs": [],
      "source": [
        "third_user_prompt = HumanMessagePromptTemplate.from_template(\n",
        "    \"\"\"You are tasked with creating a new paragraph for the\n",
        "article. The article is here for you to examine:\n",
        "\n",
        "---\n",
        "\n",
        "{article}\n",
        "\n",
        "---\n",
        "Make the statement correct.\n",
        "Dont provide any explanation.\n",
        "Choose one paragraph to review and edit. During your edit\n",
        "ensure you provide constructive feedback to the user so they\n",
        "can learn where to improve their own writing.\n",
        "At last structure it by providing output like originlal_text,edited text(what you generated) and score. \"\"\",\n",
        "    input_variables=[\"article\"]\n",
        ")\n",
        "\n",
        "# prompt template 3: creating a new paragraph for the article\n",
        "third_prompt = ChatPromptTemplate.from_messages([\n",
        "    system_prompt,\n",
        "    third_user_prompt\n",
        "])"
      ]
    },
    {
      "cell_type": "markdown",
      "metadata": {
        "id": "SKUX9TFuDP0J"
      },
      "source": [
        "We create a pydantic object describing the output format we need. This format description is then passed to our model using the `with_structured_output` method:"
      ]
    },
    {
      "cell_type": "code",
      "execution_count": 143,
      "metadata": {
        "id": "W1VHC0VSDdDM"
      },
      "outputs": [],
      "source": [
        "from pydantic import BaseModel, Field\n",
        "\n",
        "class Paragraph(BaseModel):\n",
        "    original_paragraph: str = Field(description=\"The original paragraph\")\n",
        "    edited_paragraph: str = Field(description=\"The improved edited paragraph\")\n",
        "    feedback: str = Field(description=(\n",
        "        \"Constructive feedback on the original paragraph\"\n",
        "    ))\n",
        "\n",
        "structured_llm = creative_llm.with_structured_output(Paragraph)"
      ]
    },
    {
      "cell_type": "markdown",
      "metadata": {
        "id": "7kOGsMRhEIyZ"
      },
      "source": [
        "Now we put all of this together in another chain:"
      ]
    },
    {
      "cell_type": "code",
      "execution_count": 144,
      "metadata": {
        "id": "4sIuyP-L-u7A"
      },
      "outputs": [],
      "source": [
        "# chain 3: inputs: article / output: article_para\n",
        "chain_three = (\n",
        "    {\"article\": lambda x: x[\"article\"]}\n",
        "    | third_prompt\n",
        "    | structured_llm\n",
        "    | {\n",
        "        \"original_paragraph\": lambda x: x.original_paragraph,\n",
        "        \"edited_paragraph\": lambda x: x.edited_paragraph,\n",
        "        \"feedback\": lambda x: x.feedback\n",
        "    }\n",
        ")"
      ]
    },
    {
      "cell_type": "code",
      "source": [
        "print(third_prompt.format(article=\"article\"))"
      ],
      "metadata": {
        "id": "XN9l7RJDIb1V",
        "outputId": "ef04ac96-c55b-45e4-c8e0-7219735c2013",
        "colab": {
          "base_uri": "https://localhost:8080/"
        }
      },
      "execution_count": 145,
      "outputs": [
        {
          "output_type": "stream",
          "name": "stdout",
          "text": [
            "System: You are an AI assistant that helps build good articles .\n",
            "Human: You are tasked with creating a new paragraph for the\n",
            "article. The article is here for you to examine:\n",
            "\n",
            "---\n",
            "\n",
            "article\n",
            "\n",
            "---\n",
            "Make the statement correct.\n",
            "Dont provide any explanation.\n",
            "Choose one paragraph to review and edit. During your edit\n",
            "ensure you provide constructive feedback to the user so they\n",
            "can learn where to improve their own writing.\n",
            "At last structure it by providing output like originlal_text,edited text(what you generated) and score. \n"
          ]
        }
      ]
    },
    {
      "cell_type": "code",
      "source": [
        "small_text = '''You are tasked with creating a new paragraph for the article. The article is here for you to examine .You a good boy.\n",
        "Choose one paragraph to review and edit. During your edit\n",
        "ensure you provide constructive feedback to the user so they\n",
        "can learn where to improve their own writing.Just provide the description and nothing else.\n",
        "AT last structure it by providing output like originlal_text,edited text(what you generated) and score.'''\n",
        "structured_result = structured_llm.invoke(small_text)\n",
        "print(\"Structured LLM Output:\", structured_result)"
      ],
      "metadata": {
        "id": "YCgIDtIjNBb7",
        "outputId": "9f37b187-1f0d-4b4d-a4ff-4b055a9e23e6",
        "colab": {
          "base_uri": "https://localhost:8080/"
        }
      },
      "execution_count": 146,
      "outputs": [
        {
          "output_type": "stream",
          "name": "stdout",
          "text": [
            "Structured LLM Output: original_paragraph='You a good boy.' edited_paragraph='' feedback=''\n"
          ]
        }
      ]
    },
    {
      "cell_type": "code",
      "execution_count": 147,
      "metadata": {
        "colab": {
          "base_uri": "https://localhost:8080/"
        },
        "id": "hLnzeFPSEZkJ",
        "outputId": "9688bd41-78cb-47d4-81a8-6746d38bc805"
      },
      "outputs": [
        {
          "output_type": "stream",
          "name": "stdout",
          "text": [
            "{'original_paragraph': 'Hi, I am good to see you.', 'edited_paragraph': 'Hello, I am glad to meet you.', 'feedback': 'Subject-verb agreement error. Consider adding a greeting before the main statement.'}\n"
          ]
        }
      ],
      "source": [
        "out = chain_three.invoke({\"article\": \"Hi, I am good to see you.\"})\n",
        "print(out)"
      ]
    },
    {
      "cell_type": "markdown",
      "metadata": {
        "id": "PZ-sfqNnH6aq"
      },
      "source": [
        "Now we want this article to look appealing, so we need to grab an image based of our article! However the prompt for the article image `cannot be over 1000 letters` so this has to be short in case we want to add anything in such as `style` later on."
      ]
    },
    {
      "cell_type": "code",
      "execution_count": 148,
      "metadata": {
        "id": "h7ew1WT4H6aq"
      },
      "outputs": [],
      "source": [
        "from langchain_community.utilities.dalle_image_generator import DallEAPIWrapper\n",
        "from langchain_core.prompts import PromptTemplate\n",
        "\n",
        "image_prompt = PromptTemplate(\n",
        "    input_variables=[\"article\"],\n",
        "    template=(\n",
        "        \"Generate a prompt with less then 500 characters to generate an image \"\n",
        "        \"based on the following article: {article}\"\n",
        "    )\n",
        ")"
      ]
    },
    {
      "cell_type": "markdown",
      "metadata": {
        "id": "kjZ_rqPZH6aq"
      },
      "source": [
        "The `generate_and_display` function will generate the article image once we have the prompt from our image prompt."
      ]
    },
    {
      "cell_type": "code",
      "execution_count": 163,
      "metadata": {
        "id": "LLxLXKS4H6aq"
      },
      "outputs": [],
      "source": [
        "import numpy as np\n",
        "import matplotlib.pyplot as plt\n",
        "from langchain_core.runnables import RunnableLambda\n",
        "from PIL import Image\n",
        "import requests\n",
        "from io import BytesIO\n",
        "\n",
        "\n",
        "def generate_and_display_image(image_prompt):\n",
        "    print(image_prompt)\n",
        "    image_url = DallEAPIWrapper().run(image_prompt)\n",
        "    # Load the image from URL\n",
        "    response = requests.get(image_url)\n",
        "    image = Image.open(BytesIO(response.content))\n",
        "\n",
        "    # Show the image\n",
        "    image.show()\n",
        "\n",
        "# we wrap this in a RunnableLambda for use with LCEL\n",
        "image_gen_runnable = RunnableLambda(generate_and_display_image)"
      ]
    },
    {
      "cell_type": "markdown",
      "metadata": {
        "id": "Q3bIZVzcvkJJ"
      },
      "source": [
        "We have all of our image generation components ready, we chain them together again with LCEL:"
      ]
    },
    {
      "cell_type": "code",
      "execution_count": 164,
      "metadata": {
        "id": "J1QQtXtfAwRU"
      },
      "outputs": [],
      "source": [
        "# chain 4: inputs: article, article_para / outputs: new_suggestion_article\n",
        "chain_four = (\n",
        "    {\"article\": lambda x: x[\"article\"]}\n",
        "    | image_prompt\n",
        "    | llm\n",
        "    | (lambda x: x.content)\n",
        "    | image_gen_runnable\n",
        ")"
      ]
    },
    {
      "cell_type": "markdown",
      "metadata": {
        "id": "yHl5sfMNvr-J"
      },
      "source": [
        "And now, we `invoke` our final chain:"
      ]
    },
    {
      "cell_type": "code",
      "execution_count": 165,
      "metadata": {
        "colab": {
          "base_uri": "https://localhost:8080/",
          "height": 671
        },
        "id": "dAU3jI0VvGlp",
        "outputId": "6ceacfc2-07ef-4945-e592-86a5fa0067fb"
      },
      "outputs": [
        {
          "output_type": "stream",
          "name": "stdout",
          "text": [
            "The article discusses the concept of agents in artificial intelligence (AI) and their potential to revolutionize the field. Agents are autonomous systems that can interact with their environment, make decisions, and take actions based on their goals and objectives.\n",
            "\n",
            "The article highlights three types of agent architectures:\n",
            "\n",
            "1. **ReAct**: This is a popular approach to building agents, which involves using large language models (LLMs) to generate iterative reasoning and action steps. The ReAct method encourages LLMs to describe what steps are needed to answer a user's query and then generates an action, which is executed by calling a tool or function.\n",
            "2. **Neuro-Symbolic**: This approach combines the strengths of neural networks and symbolic reasoning. It involves using large language models to generate iterative reasoning and action steps, but also incorporates external knowledge sources and discrete reasoning.\n",
            "3. **Multi-Agent Workflows**: This approach involves combining multiple LLM-tool (or other agent structure) combinations to create more complex workflows.\n",
            "\n",
            "The article emphasizes that agents are fundamental to the future of AI, but notes that the current popular form of ReAct and Tool agents may not be sufficient for all use cases. The authors believe that thinking beyond these approaches is key to building future AI systems that can handle a wide range of tasks and applications.\n",
            "\n",
            "Key takeaways from the article include:\n",
            "\n",
            "* Agents are autonomous systems that can interact with their environment, make decisions, and take actions based on their goals and objectives.\n",
            "* ReAct and Tool agents are popular approaches to building agents, but may not be sufficient for all use cases.\n",
            "* Neuro-Symbolic and Multi-Agent Workflows offer alternative approaches to building agents that can handle more complex tasks and applications.\n",
            "* Thinking beyond the current popular form of ReAct and Tool agents is key to building future AI systems.\n",
            "\n",
            "Overall, the article provides a comprehensive overview of agents in AI and highlights their potential to revolutionize the field. It emphasizes the importance of thinking beyond the current popular approaches and exploring alternative architectures that can handle more complex tasks and applications.\n"
          ]
        },
        {
          "output_type": "error",
          "ename": "OpenAIError",
          "evalue": "The api_key client option must be set either by passing api_key to the client or by setting the OPENAI_API_KEY environment variable",
          "traceback": [
            "\u001b[0;31m---------------------------------------------------------------------------\u001b[0m",
            "\u001b[0;31mOpenAIError\u001b[0m                               Traceback (most recent call last)",
            "\u001b[0;32m<ipython-input-165-7694a41faef5>\u001b[0m in \u001b[0;36m<cell line: 0>\u001b[0;34m()\u001b[0m\n\u001b[0;32m----> 1\u001b[0;31m \u001b[0mchain_four\u001b[0m\u001b[0;34m.\u001b[0m\u001b[0minvoke\u001b[0m\u001b[0;34m(\u001b[0m\u001b[0;34m{\u001b[0m\u001b[0;34m\"article\"\u001b[0m\u001b[0;34m:\u001b[0m \u001b[0marticle\u001b[0m\u001b[0;34m}\u001b[0m\u001b[0;34m)\u001b[0m\u001b[0;34m\u001b[0m\u001b[0;34m\u001b[0m\u001b[0m\n\u001b[0m",
            "\u001b[0;32m/usr/local/lib/python3.11/dist-packages/langchain_core/runnables/base.py\u001b[0m in \u001b[0;36minvoke\u001b[0;34m(self, input, config, **kwargs)\u001b[0m\n\u001b[1;32m   3014\u001b[0m                     \u001b[0minput\u001b[0m \u001b[0;34m=\u001b[0m \u001b[0mcontext\u001b[0m\u001b[0;34m.\u001b[0m\u001b[0mrun\u001b[0m\u001b[0;34m(\u001b[0m\u001b[0mstep\u001b[0m\u001b[0;34m.\u001b[0m\u001b[0minvoke\u001b[0m\u001b[0;34m,\u001b[0m \u001b[0minput\u001b[0m\u001b[0;34m,\u001b[0m \u001b[0mconfig\u001b[0m\u001b[0;34m,\u001b[0m \u001b[0;34m**\u001b[0m\u001b[0mkwargs\u001b[0m\u001b[0;34m)\u001b[0m\u001b[0;34m\u001b[0m\u001b[0;34m\u001b[0m\u001b[0m\n\u001b[1;32m   3015\u001b[0m                 \u001b[0;32melse\u001b[0m\u001b[0;34m:\u001b[0m\u001b[0;34m\u001b[0m\u001b[0;34m\u001b[0m\u001b[0m\n\u001b[0;32m-> 3016\u001b[0;31m                     \u001b[0minput\u001b[0m \u001b[0;34m=\u001b[0m \u001b[0mcontext\u001b[0m\u001b[0;34m.\u001b[0m\u001b[0mrun\u001b[0m\u001b[0;34m(\u001b[0m\u001b[0mstep\u001b[0m\u001b[0;34m.\u001b[0m\u001b[0minvoke\u001b[0m\u001b[0;34m,\u001b[0m \u001b[0minput\u001b[0m\u001b[0;34m,\u001b[0m \u001b[0mconfig\u001b[0m\u001b[0;34m)\u001b[0m\u001b[0;34m\u001b[0m\u001b[0;34m\u001b[0m\u001b[0m\n\u001b[0m\u001b[1;32m   3017\u001b[0m         \u001b[0;31m# finish the root run\u001b[0m\u001b[0;34m\u001b[0m\u001b[0;34m\u001b[0m\u001b[0m\n\u001b[1;32m   3018\u001b[0m         \u001b[0;32mexcept\u001b[0m \u001b[0mBaseException\u001b[0m \u001b[0;32mas\u001b[0m \u001b[0me\u001b[0m\u001b[0;34m:\u001b[0m\u001b[0;34m\u001b[0m\u001b[0;34m\u001b[0m\u001b[0m\n",
            "\u001b[0;32m/usr/local/lib/python3.11/dist-packages/langchain_core/runnables/base.py\u001b[0m in \u001b[0;36minvoke\u001b[0;34m(self, input, config, **kwargs)\u001b[0m\n\u001b[1;32m   4711\u001b[0m         \"\"\"\n\u001b[1;32m   4712\u001b[0m         \u001b[0;32mif\u001b[0m \u001b[0mhasattr\u001b[0m\u001b[0;34m(\u001b[0m\u001b[0mself\u001b[0m\u001b[0;34m,\u001b[0m \u001b[0;34m\"func\"\u001b[0m\u001b[0;34m)\u001b[0m\u001b[0;34m:\u001b[0m\u001b[0;34m\u001b[0m\u001b[0;34m\u001b[0m\u001b[0m\n\u001b[0;32m-> 4713\u001b[0;31m             return self._call_with_config(\n\u001b[0m\u001b[1;32m   4714\u001b[0m                 \u001b[0mself\u001b[0m\u001b[0;34m.\u001b[0m\u001b[0m_invoke\u001b[0m\u001b[0;34m,\u001b[0m\u001b[0;34m\u001b[0m\u001b[0;34m\u001b[0m\u001b[0m\n\u001b[1;32m   4715\u001b[0m                 \u001b[0minput\u001b[0m\u001b[0;34m,\u001b[0m\u001b[0;34m\u001b[0m\u001b[0;34m\u001b[0m\u001b[0m\n",
            "\u001b[0;32m/usr/local/lib/python3.11/dist-packages/langchain_core/runnables/base.py\u001b[0m in \u001b[0;36m_call_with_config\u001b[0;34m(self, func, input, config, run_type, serialized, **kwargs)\u001b[0m\n\u001b[1;32m   1912\u001b[0m             output = cast(\n\u001b[1;32m   1913\u001b[0m                 \u001b[0mOutput\u001b[0m\u001b[0;34m,\u001b[0m\u001b[0;34m\u001b[0m\u001b[0;34m\u001b[0m\u001b[0m\n\u001b[0;32m-> 1914\u001b[0;31m                 context.run(\n\u001b[0m\u001b[1;32m   1915\u001b[0m                     \u001b[0mcall_func_with_variable_args\u001b[0m\u001b[0;34m,\u001b[0m  \u001b[0;31m# type: ignore[arg-type]\u001b[0m\u001b[0;34m\u001b[0m\u001b[0;34m\u001b[0m\u001b[0m\n\u001b[1;32m   1916\u001b[0m                     \u001b[0mfunc\u001b[0m\u001b[0;34m,\u001b[0m  \u001b[0;31m# type: ignore[arg-type]\u001b[0m\u001b[0;34m\u001b[0m\u001b[0;34m\u001b[0m\u001b[0m\n",
            "\u001b[0;32m/usr/local/lib/python3.11/dist-packages/langchain_core/runnables/config.py\u001b[0m in \u001b[0;36mcall_func_with_variable_args\u001b[0;34m(func, input, config, run_manager, **kwargs)\u001b[0m\n\u001b[1;32m    394\u001b[0m     \u001b[0;32mif\u001b[0m \u001b[0mrun_manager\u001b[0m \u001b[0;32mis\u001b[0m \u001b[0;32mnot\u001b[0m \u001b[0;32mNone\u001b[0m \u001b[0;32mand\u001b[0m \u001b[0maccepts_run_manager\u001b[0m\u001b[0;34m(\u001b[0m\u001b[0mfunc\u001b[0m\u001b[0;34m)\u001b[0m\u001b[0;34m:\u001b[0m\u001b[0;34m\u001b[0m\u001b[0;34m\u001b[0m\u001b[0m\n\u001b[1;32m    395\u001b[0m         \u001b[0mkwargs\u001b[0m\u001b[0;34m[\u001b[0m\u001b[0;34m\"run_manager\"\u001b[0m\u001b[0;34m]\u001b[0m \u001b[0;34m=\u001b[0m \u001b[0mrun_manager\u001b[0m\u001b[0;34m\u001b[0m\u001b[0;34m\u001b[0m\u001b[0m\n\u001b[0;32m--> 396\u001b[0;31m     \u001b[0;32mreturn\u001b[0m \u001b[0mfunc\u001b[0m\u001b[0;34m(\u001b[0m\u001b[0minput\u001b[0m\u001b[0;34m,\u001b[0m \u001b[0;34m**\u001b[0m\u001b[0mkwargs\u001b[0m\u001b[0;34m)\u001b[0m  \u001b[0;31m# type: ignore[call-arg]\u001b[0m\u001b[0;34m\u001b[0m\u001b[0;34m\u001b[0m\u001b[0m\n\u001b[0m\u001b[1;32m    397\u001b[0m \u001b[0;34m\u001b[0m\u001b[0m\n\u001b[1;32m    398\u001b[0m \u001b[0;34m\u001b[0m\u001b[0m\n",
            "\u001b[0;32m/usr/local/lib/python3.11/dist-packages/langchain_core/runnables/base.py\u001b[0m in \u001b[0;36m_invoke\u001b[0;34m(self, input, run_manager, config, **kwargs)\u001b[0m\n\u001b[1;32m   4565\u001b[0m                         \u001b[0moutput\u001b[0m \u001b[0;34m=\u001b[0m \u001b[0mchunk\u001b[0m\u001b[0;34m\u001b[0m\u001b[0;34m\u001b[0m\u001b[0m\n\u001b[1;32m   4566\u001b[0m         \u001b[0;32melse\u001b[0m\u001b[0;34m:\u001b[0m\u001b[0;34m\u001b[0m\u001b[0;34m\u001b[0m\u001b[0m\n\u001b[0;32m-> 4567\u001b[0;31m             output = call_func_with_variable_args(\n\u001b[0m\u001b[1;32m   4568\u001b[0m                 \u001b[0mself\u001b[0m\u001b[0;34m.\u001b[0m\u001b[0mfunc\u001b[0m\u001b[0;34m,\u001b[0m \u001b[0minput\u001b[0m\u001b[0;34m,\u001b[0m \u001b[0mconfig\u001b[0m\u001b[0;34m,\u001b[0m \u001b[0mrun_manager\u001b[0m\u001b[0;34m,\u001b[0m \u001b[0;34m**\u001b[0m\u001b[0mkwargs\u001b[0m\u001b[0;34m\u001b[0m\u001b[0;34m\u001b[0m\u001b[0m\n\u001b[1;32m   4569\u001b[0m             )\n",
            "\u001b[0;32m/usr/local/lib/python3.11/dist-packages/langchain_core/runnables/config.py\u001b[0m in \u001b[0;36mcall_func_with_variable_args\u001b[0;34m(func, input, config, run_manager, **kwargs)\u001b[0m\n\u001b[1;32m    394\u001b[0m     \u001b[0;32mif\u001b[0m \u001b[0mrun_manager\u001b[0m \u001b[0;32mis\u001b[0m \u001b[0;32mnot\u001b[0m \u001b[0;32mNone\u001b[0m \u001b[0;32mand\u001b[0m \u001b[0maccepts_run_manager\u001b[0m\u001b[0;34m(\u001b[0m\u001b[0mfunc\u001b[0m\u001b[0;34m)\u001b[0m\u001b[0;34m:\u001b[0m\u001b[0;34m\u001b[0m\u001b[0;34m\u001b[0m\u001b[0m\n\u001b[1;32m    395\u001b[0m         \u001b[0mkwargs\u001b[0m\u001b[0;34m[\u001b[0m\u001b[0;34m\"run_manager\"\u001b[0m\u001b[0;34m]\u001b[0m \u001b[0;34m=\u001b[0m \u001b[0mrun_manager\u001b[0m\u001b[0;34m\u001b[0m\u001b[0;34m\u001b[0m\u001b[0m\n\u001b[0;32m--> 396\u001b[0;31m     \u001b[0;32mreturn\u001b[0m \u001b[0mfunc\u001b[0m\u001b[0;34m(\u001b[0m\u001b[0minput\u001b[0m\u001b[0;34m,\u001b[0m \u001b[0;34m**\u001b[0m\u001b[0mkwargs\u001b[0m\u001b[0;34m)\u001b[0m  \u001b[0;31m# type: ignore[call-arg]\u001b[0m\u001b[0;34m\u001b[0m\u001b[0;34m\u001b[0m\u001b[0m\n\u001b[0m\u001b[1;32m    397\u001b[0m \u001b[0;34m\u001b[0m\u001b[0m\n\u001b[1;32m    398\u001b[0m \u001b[0;34m\u001b[0m\u001b[0m\n",
            "\u001b[0;32m<ipython-input-163-ff5b583937c1>\u001b[0m in \u001b[0;36mgenerate_and_display_image\u001b[0;34m(image_prompt)\u001b[0m\n\u001b[1;32m      9\u001b[0m \u001b[0;32mdef\u001b[0m \u001b[0mgenerate_and_display_image\u001b[0m\u001b[0;34m(\u001b[0m\u001b[0mimage_prompt\u001b[0m\u001b[0;34m)\u001b[0m\u001b[0;34m:\u001b[0m\u001b[0;34m\u001b[0m\u001b[0;34m\u001b[0m\u001b[0m\n\u001b[1;32m     10\u001b[0m     \u001b[0mprint\u001b[0m\u001b[0;34m(\u001b[0m\u001b[0mimage_prompt\u001b[0m\u001b[0;34m)\u001b[0m\u001b[0;34m\u001b[0m\u001b[0;34m\u001b[0m\u001b[0m\n\u001b[0;32m---> 11\u001b[0;31m     \u001b[0mimage_url\u001b[0m \u001b[0;34m=\u001b[0m \u001b[0mDallEAPIWrapper\u001b[0m\u001b[0;34m(\u001b[0m\u001b[0;34m)\u001b[0m\u001b[0;34m.\u001b[0m\u001b[0mrun\u001b[0m\u001b[0;34m(\u001b[0m\u001b[0mimage_prompt\u001b[0m\u001b[0;34m)\u001b[0m\u001b[0;34m\u001b[0m\u001b[0;34m\u001b[0m\u001b[0m\n\u001b[0m\u001b[1;32m     12\u001b[0m     \u001b[0;31m# Load the image from URL\u001b[0m\u001b[0;34m\u001b[0m\u001b[0;34m\u001b[0m\u001b[0m\n\u001b[1;32m     13\u001b[0m     \u001b[0mresponse\u001b[0m \u001b[0;34m=\u001b[0m \u001b[0mrequests\u001b[0m\u001b[0;34m.\u001b[0m\u001b[0mget\u001b[0m\u001b[0;34m(\u001b[0m\u001b[0mimage_url\u001b[0m\u001b[0;34m)\u001b[0m\u001b[0;34m\u001b[0m\u001b[0;34m\u001b[0m\u001b[0m\n",
            "    \u001b[0;31m[... skipping hidden 1 frame]\u001b[0m\n",
            "\u001b[0;32m/usr/local/lib/python3.11/dist-packages/langchain_community/utilities/dalle_image_generator.py\u001b[0m in \u001b[0;36mvalidate_environment\u001b[0;34m(self)\u001b[0m\n\u001b[1;32m    130\u001b[0m \u001b[0;34m\u001b[0m\u001b[0m\n\u001b[1;32m    131\u001b[0m             \u001b[0;32mif\u001b[0m \u001b[0;32mnot\u001b[0m \u001b[0mself\u001b[0m\u001b[0;34m.\u001b[0m\u001b[0mclient\u001b[0m\u001b[0;34m:\u001b[0m\u001b[0;34m\u001b[0m\u001b[0;34m\u001b[0m\u001b[0m\n\u001b[0;32m--> 132\u001b[0;31m                 \u001b[0mself\u001b[0m\u001b[0;34m.\u001b[0m\u001b[0mclient\u001b[0m \u001b[0;34m=\u001b[0m \u001b[0mopenai\u001b[0m\u001b[0;34m.\u001b[0m\u001b[0mOpenAI\u001b[0m\u001b[0;34m(\u001b[0m\u001b[0;34m**\u001b[0m\u001b[0mclient_params\u001b[0m\u001b[0;34m)\u001b[0m\u001b[0;34m.\u001b[0m\u001b[0mimages\u001b[0m  \u001b[0;31m# type: ignore[arg-type, arg-type, arg-type, arg-type, arg-type, arg-type, arg-type, arg-type]\u001b[0m\u001b[0;34m\u001b[0m\u001b[0;34m\u001b[0m\u001b[0m\n\u001b[0m\u001b[1;32m    133\u001b[0m             \u001b[0;32mif\u001b[0m \u001b[0;32mnot\u001b[0m \u001b[0mself\u001b[0m\u001b[0;34m.\u001b[0m\u001b[0masync_client\u001b[0m\u001b[0;34m:\u001b[0m\u001b[0;34m\u001b[0m\u001b[0;34m\u001b[0m\u001b[0m\n\u001b[1;32m    134\u001b[0m                 \u001b[0mself\u001b[0m\u001b[0;34m.\u001b[0m\u001b[0masync_client\u001b[0m \u001b[0;34m=\u001b[0m \u001b[0mopenai\u001b[0m\u001b[0;34m.\u001b[0m\u001b[0mAsyncOpenAI\u001b[0m\u001b[0;34m(\u001b[0m\u001b[0;34m**\u001b[0m\u001b[0mclient_params\u001b[0m\u001b[0;34m)\u001b[0m\u001b[0;34m.\u001b[0m\u001b[0mimages\u001b[0m  \u001b[0;31m# type: ignore[arg-type, arg-type, arg-type, arg-type, arg-type, arg-type, arg-type, arg-type]\u001b[0m\u001b[0;34m\u001b[0m\u001b[0;34m\u001b[0m\u001b[0m\n",
            "\u001b[0;32m/usr/local/lib/python3.11/dist-packages/openai/_client.py\u001b[0m in \u001b[0;36m__init__\u001b[0;34m(self, api_key, organization, project, base_url, websocket_base_url, timeout, max_retries, default_headers, default_query, http_client, _strict_response_validation)\u001b[0m\n\u001b[1;32m    112\u001b[0m             \u001b[0mapi_key\u001b[0m \u001b[0;34m=\u001b[0m \u001b[0mos\u001b[0m\u001b[0;34m.\u001b[0m\u001b[0menviron\u001b[0m\u001b[0;34m.\u001b[0m\u001b[0mget\u001b[0m\u001b[0;34m(\u001b[0m\u001b[0;34m\"OPENAI_API_KEY\"\u001b[0m\u001b[0;34m)\u001b[0m\u001b[0;34m\u001b[0m\u001b[0;34m\u001b[0m\u001b[0m\n\u001b[1;32m    113\u001b[0m         \u001b[0;32mif\u001b[0m \u001b[0mapi_key\u001b[0m \u001b[0;32mis\u001b[0m \u001b[0;32mNone\u001b[0m\u001b[0;34m:\u001b[0m\u001b[0;34m\u001b[0m\u001b[0;34m\u001b[0m\u001b[0m\n\u001b[0;32m--> 114\u001b[0;31m             raise OpenAIError(\n\u001b[0m\u001b[1;32m    115\u001b[0m                 \u001b[0;34m\"The api_key client option must be set either by passing api_key to the client or by setting the OPENAI_API_KEY environment variable\"\u001b[0m\u001b[0;34m\u001b[0m\u001b[0;34m\u001b[0m\u001b[0m\n\u001b[1;32m    116\u001b[0m             )\n",
            "\u001b[0;31mOpenAIError\u001b[0m: The api_key client option must be set either by passing api_key to the client or by setting the OPENAI_API_KEY environment variable"
          ]
        }
      ],
      "source": [
        "chain_four.invoke({\"article\": article})"
      ]
    },
    {
      "cell_type": "markdown",
      "metadata": {
        "id": "VAA3_UuSH6av"
      },
      "source": [
        "With that we've built LLM chains that can help us building and writing articles. We've understood a few of the basics of LangChain, introduced **L**ang**C**hain **E**xpression **L**anguage (LCEL), and built a multi-modal article-helper pipeline."
      ]
    }
  ],
  "metadata": {
    "colab": {
      "provenance": [],
      "gpuType": "T4",
      "include_colab_link": true
    },
    "kernelspec": {
      "display_name": "Python 3",
      "name": "python3"
    },
    "language_info": {
      "codemirror_mode": {
        "name": "ipython",
        "version": 3
      },
      "file_extension": ".py",
      "mimetype": "text/x-python",
      "name": "python",
      "nbconvert_exporter": "python",
      "pygments_lexer": "ipython3",
      "version": "3.12.7"
    },
    "accelerator": "GPU"
  },
  "nbformat": 4,
  "nbformat_minor": 0
}