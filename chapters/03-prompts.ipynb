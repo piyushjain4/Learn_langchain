{
  "cells": [
    {
      "cell_type": "markdown",
      "metadata": {
        "id": "wOYUHE2cr9nF"
      },
      "source": [
        "[![Open In Colab](https://colab.research.google.com/assets/colab-badge.svg)](https://colab.research.google.com/github/aurelio-labs/langchain-course/blob/main/chapters/03-prompts.ipynb)"
      ]
    },
    {
      "cell_type": "markdown",
      "metadata": {
        "id": "JuFGPQNZryUt"
      },
      "source": [
        "### LangChain Essentials"
      ]
    },
    {
      "cell_type": "markdown",
      "metadata": {
        "id": "4ww7iP72ryUv"
      },
      "source": [
        "# Prompts Templating for OpenAI - LangChain"
      ]
    },
    {
      "cell_type": "markdown",
      "metadata": {
        "id": "bme97GW3ryUv"
      },
      "source": [
        "Until 2021, to use an AI model for a specific use-case we would need to fine-tune the model weights themselves. That would require huge amounts of training data and significant compute to fine-tune any reasonably performing model.\n",
        "\n",
        "Instruction fine-tuned **L**arge **L**anguage **M**odels (LLMs) changed this fundamental rule of applying AI models to new use-cases. Rather than needing to either train a model from scratch or fine-tune an existing model, these new LLMs could adapt incredibly well to a new problem or use-case with nothing more than a prompt change.\n",
        "\n",
        "Prompts allow us to completely change the functionality of an AI pipeline. Through natural language we simply _tell_ our LLM what it needs to do, and with the right AI pipeline and prompting, it often works.\n",
        "\n",
        "LangChain naturally has many functionalities geared towards helping us build our prompts. We can build very dynamic prompting pipelines that modifying the structure and content of what we feed into our LLM based on essentially any parameter we would like. In this example, we'll explore the essentials to prompting in LangChain and apply this in a demo **R**etrieval **A**ugmented **G**eneration (RAG) pipeline.\n"
      ]
    },
    {
      "cell_type": "code",
      "source": [
        "!apt update && apt install -y pciutils lshw"
      ],
      "metadata": {
        "id": "S-wvOrPI1RDA",
        "outputId": "5a7971e2-6061-4ea7-97eb-41c0be4967a0",
        "colab": {
          "base_uri": "https://localhost:8080/"
        }
      },
      "execution_count": 35,
      "outputs": [
        {
          "output_type": "stream",
          "name": "stdout",
          "text": [
            "\u001b[33m\r0% [Working]\u001b[0m\r            \rHit:1 https://cloud.r-project.org/bin/linux/ubuntu jammy-cran40/ InRelease\n",
            "\u001b[33m\r0% [Connecting to archive.ubuntu.com] [Connecting to security.ubuntu.com (91.189.91.81)] [Connecting\u001b[0m\r                                                                                                    \rHit:2 https://developer.download.nvidia.com/compute/cuda/repos/ubuntu2204/x86_64  InRelease\n",
            "Hit:3 http://security.ubuntu.com/ubuntu jammy-security InRelease\n",
            "Hit:4 http://archive.ubuntu.com/ubuntu jammy InRelease\n",
            "Hit:5 https://r2u.stat.illinois.edu/ubuntu jammy InRelease\n",
            "Hit:6 http://archive.ubuntu.com/ubuntu jammy-updates InRelease\n",
            "Hit:7 http://archive.ubuntu.com/ubuntu jammy-backports InRelease\n",
            "Hit:8 https://ppa.launchpadcontent.net/deadsnakes/ppa/ubuntu jammy InRelease\n",
            "Hit:9 https://ppa.launchpadcontent.net/graphics-drivers/ppa/ubuntu jammy InRelease\n",
            "Hit:10 https://ppa.launchpadcontent.net/ubuntugis/ppa/ubuntu jammy InRelease\n",
            "Reading package lists... Done\n",
            "Building dependency tree... Done\n",
            "Reading state information... Done\n",
            "30 packages can be upgraded. Run 'apt list --upgradable' to see them.\n",
            "\u001b[1;33mW: \u001b[0mSkipping acquire of configured file 'main/source/Sources' as repository 'https://r2u.stat.illinois.edu/ubuntu jammy InRelease' does not seem to provide it (sources.list entry misspelt?)\u001b[0m\n",
            "Reading package lists... Done\n",
            "Building dependency tree... Done\n",
            "Reading state information... Done\n",
            "lshw is already the newest version (02.19.git.2021.06.19.996aaad9c7-2build1).\n",
            "pciutils is already the newest version (1:3.7.0-6).\n",
            "0 upgraded, 0 newly installed, 0 to remove and 30 not upgraded.\n"
          ]
        }
      ]
    },
    {
      "cell_type": "code",
      "execution_count": 2,
      "metadata": {
        "id": "E6aKPEfPsYNf",
        "outputId": "8df9f275-408d-440d-fe8f-e28aa30ee727",
        "colab": {
          "base_uri": "https://localhost:8080/"
        }
      },
      "outputs": [
        {
          "output_type": "stream",
          "name": "stdout",
          "text": [
            "\u001b[2K     \u001b[90m━━━━━━━━━━━━━━━━━━━━━━━━━━━━━━━━━━━━━━━━\u001b[0m \u001b[32m61.0/61.0 kB\u001b[0m \u001b[31m4.8 MB/s\u001b[0m eta \u001b[36m0:00:00\u001b[0m\n",
            "\u001b[2K   \u001b[90m━━━━━━━━━━━━━━━━━━━━━━━━━━━━━━━━━━━━━━━━\u001b[0m \u001b[32m412.7/412.7 kB\u001b[0m \u001b[31m13.9 MB/s\u001b[0m eta \u001b[36m0:00:00\u001b[0m\n",
            "\u001b[2K   \u001b[90m━━━━━━━━━━━━━━━━━━━━━━━━━━━━━━━━━━━━━━━━\u001b[0m \u001b[32m54.5/54.5 kB\u001b[0m \u001b[31m1.1 MB/s\u001b[0m eta \u001b[36m0:00:00\u001b[0m\n",
            "\u001b[2K   \u001b[90m━━━━━━━━━━━━━━━━━━━━━━━━━━━━━━━━━━━━━━━━\u001b[0m \u001b[32m2.5/2.5 MB\u001b[0m \u001b[31m30.5 MB/s\u001b[0m eta \u001b[36m0:00:00\u001b[0m\n",
            "\u001b[2K   \u001b[90m━━━━━━━━━━━━━━━━━━━━━━━━━━━━━━━━━━━━━━━━\u001b[0m \u001b[32m333.3/333.3 kB\u001b[0m \u001b[31m16.3 MB/s\u001b[0m eta \u001b[36m0:00:00\u001b[0m\n",
            "\u001b[2K   \u001b[90m━━━━━━━━━━━━━━━━━━━━━━━━━━━━━━━━━━━━━━━━\u001b[0m \u001b[32m1.0/1.0 MB\u001b[0m \u001b[31m29.2 MB/s\u001b[0m eta \u001b[36m0:00:00\u001b[0m\n",
            "\u001b[2K   \u001b[90m━━━━━━━━━━━━━━━━━━━━━━━━━━━━━━━━━━━━━━━━\u001b[0m \u001b[32m18.3/18.3 MB\u001b[0m \u001b[31m24.3 MB/s\u001b[0m eta \u001b[36m0:00:00\u001b[0m\n",
            "\u001b[2K   \u001b[90m━━━━━━━━━━━━━━━━━━━━━━━━━━━━━━━━━━━━━━━━\u001b[0m \u001b[32m1.2/1.2 MB\u001b[0m \u001b[31m23.7 MB/s\u001b[0m eta \u001b[36m0:00:00\u001b[0m\n",
            "\u001b[2K   \u001b[90m━━━━━━━━━━━━━━━━━━━━━━━━━━━━━━━━━━━━━━━━\u001b[0m \u001b[32m50.9/50.9 kB\u001b[0m \u001b[31m3.7 MB/s\u001b[0m eta \u001b[36m0:00:00\u001b[0m\n",
            "\u001b[?25h"
          ]
        }
      ],
      "source": [
        "\n",
        "!pip install -qU \\\n",
        "  langchain-core==0.3.33 \\\n",
        "  langchain-openai==0.3.3 \\\n",
        "  langchain-community==0.3.16 \\\n",
        "  langsmith==0.3.4 \\\n",
        "  langchain-ollama"
      ]
    },
    {
      "cell_type": "code",
      "source": [
        "!OLLAMA_USE_CUDA=1 curl -fsSL https://ollama.ai/install.sh | sh"
      ],
      "metadata": {
        "id": "4gjhJnep1X-9",
        "outputId": "4390d17f-d0a8-4a6d-bfda-7948180d6499",
        "colab": {
          "base_uri": "https://localhost:8080/"
        }
      },
      "execution_count": 3,
      "outputs": [
        {
          "output_type": "stream",
          "name": "stdout",
          "text": [
            ">>> Installing ollama to /usr/local\n",
            ">>> Downloading Linux amd64 bundle\n",
            "############################################################################################# 100.0%\n",
            ">>> Creating ollama user...\n",
            ">>> Adding ollama user to video group...\n",
            ">>> Adding current user to ollama group...\n",
            ">>> Creating ollama systemd service...\n",
            "\u001b[1m\u001b[31mWARNING:\u001b[m systemd is not running\n",
            ">>> NVIDIA GPU installed.\n",
            ">>> The Ollama API is now available at 127.0.0.1:11434.\n",
            ">>> Install complete. Run \"ollama\" from the command line.\n"
          ]
        }
      ]
    },
    {
      "cell_type": "code",
      "source": [
        "!ollama pull llama3.2"
      ],
      "metadata": {
        "collapsed": true,
        "id": "oFrxVhc11Ypw",
        "outputId": "9db9fd9c-c845-468a-a642-8f06fcc0dce3",
        "colab": {
          "base_uri": "https://localhost:8080/"
        }
      },
      "execution_count": 8,
      "outputs": [
        {
          "output_type": "stream",
          "name": "stdout",
          "text": [
            "\u001b[?2026h\u001b[?25l\u001b[1Gpulling manifest ⠋ \u001b[K\u001b[?25h\u001b[?2026l\u001b[?2026h\u001b[?25l\u001b[1Gpulling manifest ⠙ \u001b[K\u001b[?25h\u001b[?2026l\u001b[?2026h\u001b[?25l\u001b[1Gpulling manifest ⠹ \u001b[K\u001b[?25h\u001b[?2026l\u001b[?2026h\u001b[?25l\u001b[1Gpulling manifest ⠸ \u001b[K\u001b[?25h\u001b[?2026l\u001b[?2026h\u001b[?25l\u001b[1Gpulling manifest ⠼ \u001b[K\u001b[?25h\u001b[?2026l\u001b[?2026h\u001b[?25l\u001b[1Gpulling manifest ⠴ \u001b[K\u001b[?25h\u001b[?2026l\u001b[?2026h\u001b[?25l\u001b[1Gpulling manifest ⠦ \u001b[K\u001b[?25h\u001b[?2026l\u001b[?2026h\u001b[?25l\u001b[1Gpulling manifest ⠧ \u001b[K\u001b[?25h\u001b[?2026l\u001b[?2026h\u001b[?25l\u001b[1Gpulling manifest ⠇ \u001b[K\u001b[?25h\u001b[?2026l\u001b[?2026h\u001b[?25l\u001b[1Gpulling manifest ⠏ \u001b[K\u001b[?25h\u001b[?2026l\u001b[?2026h\u001b[?25l\u001b[1Gpulling manifest ⠋ \u001b[K\u001b[?25h\u001b[?2026l\u001b[?2026h\u001b[?25l\u001b[1Gpulling manifest ⠙ \u001b[K\u001b[?25h\u001b[?2026l\u001b[?2026h\u001b[?25l\u001b[1Gpulling manifest \u001b[K\n",
            "pulling dde5aa3fc5ff...   0% ▕▏    0 B/2.0 GB                  \u001b[K\u001b[?25h\u001b[?2026l\u001b[?2026h\u001b[?25l\u001b[A\u001b[1Gpulling manifest \u001b[K\n",
            "pulling dde5aa3fc5ff...   0% ▕▏    0 B/2.0 GB                  \u001b[K\u001b[?25h\u001b[?2026l\u001b[?2026h\u001b[?25l\u001b[A\u001b[1Gpulling manifest \u001b[K\n",
            "pulling dde5aa3fc5ff...   0% ▕▏    0 B/2.0 GB                  \u001b[K\u001b[?25h\u001b[?2026l\u001b[?2026h\u001b[?25l\u001b[A\u001b[1Gpulling manifest \u001b[K\n",
            "pulling dde5aa3fc5ff...   1% ▕▏  16 MB/2.0 GB                  \u001b[K\u001b[?25h\u001b[?2026l\u001b[?2026h\u001b[?25l\u001b[A\u001b[1Gpulling manifest \u001b[K\n",
            "pulling dde5aa3fc5ff...   2% ▕▏  33 MB/2.0 GB                  \u001b[K\u001b[?25h\u001b[?2026l\u001b[?2026h\u001b[?25l\u001b[A\u001b[1Gpulling manifest \u001b[K\n",
            "pulling dde5aa3fc5ff...   4% ▕▏  75 MB/2.0 GB                  \u001b[K\u001b[?25h\u001b[?2026l\u001b[?2026h\u001b[?25l\u001b[A\u001b[1Gpulling manifest \u001b[K\n",
            "pulling dde5aa3fc5ff...   5% ▕▏ 104 MB/2.0 GB                  \u001b[K\u001b[?25h\u001b[?2026l\u001b[?2026h\u001b[?25l\u001b[A\u001b[1Gpulling manifest \u001b[K\n",
            "pulling dde5aa3fc5ff...   6% ▕▏ 122 MB/2.0 GB                  \u001b[K\u001b[?25h\u001b[?2026l\u001b[?2026h\u001b[?25l\u001b[A\u001b[1Gpulling manifest \u001b[K\n",
            "pulling dde5aa3fc5ff...   6% ▕▏ 128 MB/2.0 GB                  \u001b[K\u001b[?25h\u001b[?2026l\u001b[?2026h\u001b[?25l\u001b[A\u001b[1Gpulling manifest \u001b[K\n",
            "pulling dde5aa3fc5ff...   7% ▕▏ 147 MB/2.0 GB                  \u001b[K\u001b[?25h\u001b[?2026l\u001b[?2026h\u001b[?25l\u001b[A\u001b[1Gpulling manifest \u001b[K\n",
            "pulling dde5aa3fc5ff...   8% ▕▏ 170 MB/2.0 GB  158 MB/s     11s\u001b[K\u001b[?25h\u001b[?2026l\u001b[?2026h\u001b[?25l\u001b[A\u001b[1Gpulling manifest \u001b[K\n",
            "pulling dde5aa3fc5ff...   9% ▕▏ 185 MB/2.0 GB  158 MB/s     11s\u001b[K\u001b[?25h\u001b[?2026l\u001b[?2026h\u001b[?25l\u001b[A\u001b[1Gpulling manifest \u001b[K\n",
            "pulling dde5aa3fc5ff...  11% ▕▏ 212 MB/2.0 GB  158 MB/s     11s\u001b[K\u001b[?25h\u001b[?2026l\u001b[?2026h\u001b[?25l\u001b[A\u001b[1Gpulling manifest \u001b[K\n",
            "pulling dde5aa3fc5ff...  12% ▕▏ 243 MB/2.0 GB  158 MB/s     11s\u001b[K\u001b[?25h\u001b[?2026l\u001b[?2026h\u001b[?25l\u001b[A\u001b[1Gpulling manifest \u001b[K\n",
            "pulling dde5aa3fc5ff...  13% ▕▏ 261 MB/2.0 GB  158 MB/s     11s\u001b[K\u001b[?25h\u001b[?2026l\u001b[?2026h\u001b[?25l\u001b[A\u001b[1Gpulling manifest \u001b[K\n",
            "pulling dde5aa3fc5ff...  14% ▕▏ 284 MB/2.0 GB  158 MB/s     10s\u001b[K\u001b[?25h\u001b[?2026l\u001b[?2026h\u001b[?25l\u001b[A\u001b[1Gpulling manifest \u001b[K\n",
            "pulling dde5aa3fc5ff...  16% ▕▏ 313 MB/2.0 GB  158 MB/s     10s\u001b[K\u001b[?25h\u001b[?2026l\u001b[?2026h\u001b[?25l\u001b[A\u001b[1Gpulling manifest \u001b[K\n",
            "pulling dde5aa3fc5ff...  16% ▕▏ 326 MB/2.0 GB  158 MB/s     10s\u001b[K\u001b[?25h\u001b[?2026l\u001b[?2026h\u001b[?25l\u001b[A\u001b[1Gpulling manifest \u001b[K\n",
            "pulling dde5aa3fc5ff...  18% ▕▏ 363 MB/2.0 GB  158 MB/s     10s\u001b[K\u001b[?25h\u001b[?2026l\u001b[?2026h\u001b[?25l\u001b[A\u001b[1Gpulling manifest \u001b[K\n",
            "pulling dde5aa3fc5ff...  19% ▕▏ 384 MB/2.0 GB  158 MB/s     10s\u001b[K\u001b[?25h\u001b[?2026l\u001b[?2026h\u001b[?25l\u001b[A\u001b[1Gpulling manifest \u001b[K\n",
            "pulling dde5aa3fc5ff...  20% ▕▏ 397 MB/2.0 GB  198 MB/s      8s\u001b[K\u001b[?25h\u001b[?2026l\u001b[?2026h\u001b[?25l\u001b[A\u001b[1Gpulling manifest \u001b[K\n",
            "pulling dde5aa3fc5ff...  22% ▕▏ 437 MB/2.0 GB  198 MB/s      7s\u001b[K\u001b[?25h\u001b[?2026l\u001b[?2026h\u001b[?25l\u001b[A\u001b[1Gpulling manifest \u001b[K\n",
            "pulling dde5aa3fc5ff...  23% ▕▏ 456 MB/2.0 GB  198 MB/s      7s\u001b[K\u001b[?25h\u001b[?2026l\u001b[?2026h\u001b[?25l\u001b[A\u001b[1Gpulling manifest \u001b[K\n",
            "pulling dde5aa3fc5ff...  23% ▕▏ 470 MB/2.0 GB  198 MB/s      7s\u001b[K\u001b[?25h\u001b[?2026l\u001b[?2026h\u001b[?25l\u001b[A\u001b[1Gpulling manifest \u001b[K\n",
            "pulling dde5aa3fc5ff...  25% ▕▏ 498 MB/2.0 GB  198 MB/s      7s\u001b[K\u001b[?25h\u001b[?2026l\u001b[?2026h\u001b[?25l\u001b[A\u001b[1Gpulling manifest \u001b[K\n",
            "pulling dde5aa3fc5ff...  26% ▕▏ 526 MB/2.0 GB  198 MB/s      7s\u001b[K\u001b[?25h\u001b[?2026l\u001b[?2026h\u001b[?25l\u001b[A\u001b[1Gpulling manifest \u001b[K\n",
            "pulling dde5aa3fc5ff...  27% ▕▏ 549 MB/2.0 GB  198 MB/s      7s\u001b[K\u001b[?25h\u001b[?2026l\u001b[?2026h\u001b[?25l\u001b[A\u001b[1Gpulling manifest \u001b[K\n",
            "pulling dde5aa3fc5ff...  29% ▕▏ 588 MB/2.0 GB  198 MB/s      7s\u001b[K\u001b[?25h\u001b[?2026l\u001b[?2026h\u001b[?25l\u001b[A\u001b[1Gpulling manifest \u001b[K\n",
            "pulling dde5aa3fc5ff...  31% ▕▏ 625 MB/2.0 GB  198 MB/s      7s\u001b[K\u001b[?25h\u001b[?2026l\u001b[?2026h\u001b[?25l\u001b[A\u001b[1Gpulling manifest \u001b[K\n",
            "pulling dde5aa3fc5ff...  33% ▕▏ 657 MB/2.0 GB  198 MB/s      6s\u001b[K\u001b[?25h\u001b[?2026l\u001b[?2026h\u001b[?25l\u001b[A\u001b[1Gpulling manifest \u001b[K\n",
            "pulling dde5aa3fc5ff...  34% ▕▏ 689 MB/2.0 GB  229 MB/s      5s\u001b[K\u001b[?25h\u001b[?2026l\u001b[?2026h\u001b[?25l\u001b[A\u001b[1Gpulling manifest \u001b[K\n",
            "pulling dde5aa3fc5ff...  36% ▕▏ 734 MB/2.0 GB  229 MB/s      5s\u001b[K\u001b[?25h\u001b[?2026l\u001b[?2026h\u001b[?25l\u001b[A\u001b[1Gpulling manifest \u001b[K\n",
            "pulling dde5aa3fc5ff...  38% ▕▏ 771 MB/2.0 GB  229 MB/s      5s\u001b[K\u001b[?25h\u001b[?2026l\u001b[?2026h\u001b[?25l\u001b[A\u001b[1Gpulling manifest \u001b[K\n",
            "pulling dde5aa3fc5ff...  40% ▕▏ 812 MB/2.0 GB  229 MB/s      5s\u001b[K\u001b[?25h\u001b[?2026l\u001b[?2026h\u001b[?25l\u001b[A\u001b[1Gpulling manifest \u001b[K\n",
            "pulling dde5aa3fc5ff...  42% ▕▏ 852 MB/2.0 GB  229 MB/s      5s\u001b[K\u001b[?25h\u001b[?2026l\u001b[?2026h\u001b[?25l\u001b[A\u001b[1Gpulling manifest \u001b[K\n",
            "pulling dde5aa3fc5ff...  43% ▕▏ 863 MB/2.0 GB  229 MB/s      5s\u001b[K\u001b[?25h\u001b[?2026l\u001b[?2026h\u001b[?25l\u001b[A\u001b[1Gpulling manifest \u001b[K\n",
            "pulling dde5aa3fc5ff...  43% ▕▏ 872 MB/2.0 GB  229 MB/s      4s\u001b[K\u001b[?25h\u001b[?2026l\u001b[?2026h\u001b[?25l\u001b[A\u001b[1Gpulling manifest \u001b[K\n",
            "pulling dde5aa3fc5ff...  46% ▕▏ 929 MB/2.0 GB  229 MB/s      4s\u001b[K\u001b[?25h\u001b[?2026l\u001b[?2026h\u001b[?25l\u001b[A\u001b[1Gpulling manifest \u001b[K\n",
            "pulling dde5aa3fc5ff...  47% ▕▏ 944 MB/2.0 GB  229 MB/s      4s\u001b[K\u001b[?25h\u001b[?2026l\u001b[?2026h\u001b[?25l\u001b[A\u001b[1Gpulling manifest \u001b[K\n",
            "pulling dde5aa3fc5ff...  48% ▕▏ 970 MB/2.0 GB  229 MB/s      4s\u001b[K\u001b[?25h\u001b[?2026l\u001b[?2026h\u001b[?25l\u001b[A\u001b[1Gpulling manifest \u001b[K\n",
            "pulling dde5aa3fc5ff...  50% ▕▏ 1.0 GB/2.0 GB  250 MB/s      4s\u001b[K\u001b[?25h\u001b[?2026l\u001b[?2026h\u001b[?25l\u001b[A\u001b[1Gpulling manifest \u001b[K\n",
            "pulling dde5aa3fc5ff...  50% ▕▏ 1.0 GB/2.0 GB  250 MB/s      3s\u001b[K\u001b[?25h\u001b[?2026l\u001b[?2026h\u001b[?25l\u001b[A\u001b[1Gpulling manifest \u001b[K\n",
            "pulling dde5aa3fc5ff...  52% ▕▏ 1.0 GB/2.0 GB  250 MB/s      3s\u001b[K\u001b[?25h\u001b[?2026l\u001b[?2026h\u001b[?25l\u001b[A\u001b[1Gpulling manifest \u001b[K\n",
            "pulling dde5aa3fc5ff...  53% ▕▏ 1.1 GB/2.0 GB  250 MB/s      3s\u001b[K\u001b[?25h\u001b[?2026l\u001b[?2026h\u001b[?25l\u001b[A\u001b[1Gpulling manifest \u001b[K\n",
            "pulling dde5aa3fc5ff...  54% ▕▏ 1.1 GB/2.0 GB  250 MB/s      3s\u001b[K\u001b[?25h\u001b[?2026l\u001b[?2026h\u001b[?25l\u001b[A\u001b[1Gpulling manifest \u001b[K\n",
            "pulling dde5aa3fc5ff...  56% ▕▏ 1.1 GB/2.0 GB  250 MB/s      3s\u001b[K\u001b[?25h\u001b[?2026l\u001b[?2026h\u001b[?25l\u001b[A\u001b[1Gpulling manifest \u001b[K\n",
            "pulling dde5aa3fc5ff...  57% ▕▏ 1.2 GB/2.0 GB  250 MB/s      3s\u001b[K\u001b[?25h\u001b[?2026l\u001b[?2026h\u001b[?25l\u001b[A\u001b[1Gpulling manifest \u001b[K\n",
            "pulling dde5aa3fc5ff...  58% ▕▏ 1.2 GB/2.0 GB  250 MB/s      3s\u001b[K\u001b[?25h\u001b[?2026l\u001b[?2026h\u001b[?25l\u001b[A\u001b[1Gpulling manifest \u001b[K\n",
            "pulling dde5aa3fc5ff...  59% ▕▏ 1.2 GB/2.0 GB  250 MB/s      3s\u001b[K\u001b[?25h\u001b[?2026l\u001b[?2026h\u001b[?25l\u001b[A\u001b[1Gpulling manifest \u001b[K\n",
            "pulling dde5aa3fc5ff...  61% ▕▏ 1.2 GB/2.0 GB  250 MB/s      3s\u001b[K\u001b[?25h\u001b[?2026l\u001b[?2026h\u001b[?25l\u001b[A\u001b[1Gpulling manifest \u001b[K\n",
            "pulling dde5aa3fc5ff...  62% ▕▏ 1.3 GB/2.0 GB  250 MB/s      3s\u001b[K\u001b[?25h\u001b[?2026l\u001b[?2026h\u001b[?25l\u001b[A\u001b[1Gpulling manifest \u001b[K\n",
            "pulling dde5aa3fc5ff...  63% ▕▏ 1.3 GB/2.0 GB  253 MB/s      2s\u001b[K\u001b[?25h\u001b[?2026l\u001b[?2026h\u001b[?25l\u001b[A\u001b[1Gpulling manifest \u001b[K\n",
            "pulling dde5aa3fc5ff...  65% ▕▏ 1.3 GB/2.0 GB  253 MB/s      2s\u001b[K\u001b[?25h\u001b[?2026l\u001b[?2026h\u001b[?25l\u001b[A\u001b[1Gpulling manifest \u001b[K\n",
            "pulling dde5aa3fc5ff...  66% ▕▏ 1.3 GB/2.0 GB  253 MB/s      2s\u001b[K\u001b[?25h\u001b[?2026l\u001b[?2026h\u001b[?25l\u001b[A\u001b[1Gpulling manifest \u001b[K\n",
            "pulling dde5aa3fc5ff...  67% ▕▏ 1.4 GB/2.0 GB  253 MB/s      2s\u001b[K\u001b[?25h\u001b[?2026l\u001b[?2026h\u001b[?25l\u001b[A\u001b[1Gpulling manifest \u001b[K\n",
            "pulling dde5aa3fc5ff...  68% ▕▏ 1.4 GB/2.0 GB  253 MB/s      2s\u001b[K\u001b[?25h\u001b[?2026l\u001b[?2026h\u001b[?25l\u001b[A\u001b[1Gpulling manifest \u001b[K\n",
            "pulling dde5aa3fc5ff...  69% ▕▏ 1.4 GB/2.0 GB  253 MB/s      2s\u001b[K\u001b[?25h\u001b[?2026l\u001b[?2026h\u001b[?25l\u001b[A\u001b[1Gpulling manifest \u001b[K\n",
            "pulling dde5aa3fc5ff...  69% ▕▏ 1.4 GB/2.0 GB  253 MB/s      2s\u001b[K\u001b[?25h\u001b[?2026l\u001b[?2026h\u001b[?25l\u001b[A\u001b[1Gpulling manifest \u001b[K\n",
            "pulling dde5aa3fc5ff...  69% ▕▏ 1.4 GB/2.0 GB  253 MB/s      2s\u001b[K\u001b[?25h\u001b[?2026l\u001b[?2026h\u001b[?25l\u001b[A\u001b[1Gpulling manifest \u001b[K\n",
            "pulling dde5aa3fc5ff...  69% ▕▏ 1.4 GB/2.0 GB  253 MB/s      2s\u001b[K\u001b[?25h\u001b[?2026l\u001b[?2026h\u001b[?25l\u001b[A\u001b[1Gpulling manifest \u001b[K\n",
            "pulling dde5aa3fc5ff...  69% ▕▏ 1.4 GB/2.0 GB  253 MB/s      2s\u001b[K\u001b[?25h\u001b[?2026l\u001b[?2026h\u001b[?25l\u001b[A\u001b[1Gpulling manifest \u001b[K\n",
            "pulling dde5aa3fc5ff...  69% ▕▏ 1.4 GB/2.0 GB  233 MB/s      2s\u001b[K\u001b[?25h\u001b[?2026l\u001b[?2026h\u001b[?25l\u001b[A\u001b[1Gpulling manifest \u001b[K\n",
            "pulling dde5aa3fc5ff...  69% ▕▏ 1.4 GB/2.0 GB  233 MB/s      2s\u001b[K\u001b[?25h\u001b[?2026l\u001b[?2026h\u001b[?25l\u001b[A\u001b[1Gpulling manifest \u001b[K\n",
            "pulling dde5aa3fc5ff...  69% ▕▏ 1.4 GB/2.0 GB  233 MB/s      2s\u001b[K\u001b[?25h\u001b[?2026l\u001b[?2026h\u001b[?25l\u001b[A\u001b[1Gpulling manifest \u001b[K\n",
            "pulling dde5aa3fc5ff...  69% ▕▏ 1.4 GB/2.0 GB  233 MB/s      2s\u001b[K\u001b[?25h\u001b[?2026l\u001b[?2026h\u001b[?25l\u001b[A\u001b[1Gpulling manifest \u001b[K\n",
            "pulling dde5aa3fc5ff...  69% ▕▏ 1.4 GB/2.0 GB  233 MB/s      2s\u001b[K\u001b[?25h\u001b[?2026l\u001b[?2026h\u001b[?25l\u001b[A\u001b[1Gpulling manifest \u001b[K\n",
            "pulling dde5aa3fc5ff...  69% ▕▏ 1.4 GB/2.0 GB  233 MB/s      2s\u001b[K\u001b[?25h\u001b[?2026l\u001b[?2026h\u001b[?25l\u001b[A\u001b[1Gpulling manifest \u001b[K\n",
            "pulling dde5aa3fc5ff...  70% ▕▏ 1.4 GB/2.0 GB  233 MB/s      2s\u001b[K\u001b[?25h\u001b[?2026l\u001b[?2026h\u001b[?25l\u001b[A\u001b[1Gpulling manifest \u001b[K\n",
            "pulling dde5aa3fc5ff...  70% ▕▏ 1.4 GB/2.0 GB  233 MB/s      2s\u001b[K\u001b[?25h\u001b[?2026l\u001b[?2026h\u001b[?25l\u001b[A\u001b[1Gpulling manifest \u001b[K\n",
            "pulling dde5aa3fc5ff...  70% ▕▏ 1.4 GB/2.0 GB  233 MB/s      2s\u001b[K\u001b[?25h\u001b[?2026l\u001b[?2026h\u001b[?25l\u001b[A\u001b[1Gpulling manifest \u001b[K\n",
            "pulling dde5aa3fc5ff...  70% ▕▏ 1.4 GB/2.0 GB  233 MB/s      2s\u001b[K\u001b[?25h\u001b[?2026l\u001b[?2026h\u001b[?25l\u001b[A\u001b[1Gpulling manifest \u001b[K\n",
            "pulling dde5aa3fc5ff...  70% ▕▏ 1.4 GB/2.0 GB  200 MB/s      3s\u001b[K\u001b[?25h\u001b[?2026l\u001b[?2026h\u001b[?25l\u001b[A\u001b[1Gpulling manifest \u001b[K\n",
            "pulling dde5aa3fc5ff...  70% ▕▏ 1.4 GB/2.0 GB  200 MB/s      3s\u001b[K\u001b[?25h\u001b[?2026l\u001b[?2026h\u001b[?25l\u001b[A\u001b[1Gpulling manifest \u001b[K\n",
            "pulling dde5aa3fc5ff...  70% ▕▏ 1.4 GB/2.0 GB  200 MB/s      3s\u001b[K\u001b[?25h\u001b[?2026l\u001b[?2026h\u001b[?25l\u001b[A\u001b[1Gpulling manifest \u001b[K\n",
            "pulling dde5aa3fc5ff...  70% ▕▏ 1.4 GB/2.0 GB  200 MB/s      3s\u001b[K\u001b[?25h\u001b[?2026l\u001b[?2026h\u001b[?25l\u001b[A\u001b[1Gpulling manifest \u001b[K\n",
            "pulling dde5aa3fc5ff...  70% ▕▏ 1.4 GB/2.0 GB  200 MB/s      3s\u001b[K\u001b[?25h\u001b[?2026l\u001b[?2026h\u001b[?25l\u001b[A\u001b[1Gpulling manifest \u001b[K\n",
            "pulling dde5aa3fc5ff...  70% ▕▏ 1.4 GB/2.0 GB  200 MB/s      3s\u001b[K\u001b[?25h\u001b[?2026l\u001b[?2026h\u001b[?25l\u001b[A\u001b[1Gpulling manifest \u001b[K\n",
            "pulling dde5aa3fc5ff...  71% ▕▏ 1.4 GB/2.0 GB  200 MB/s      2s\u001b[K\u001b[?25h\u001b[?2026l\u001b[?2026h\u001b[?25l\u001b[A\u001b[1Gpulling manifest \u001b[K\n",
            "pulling dde5aa3fc5ff...  74% ▕▏ 1.5 GB/2.0 GB  200 MB/s      2s\u001b[K\u001b[?25h\u001b[?2026l\u001b[?2026h\u001b[?25l\u001b[A\u001b[1Gpulling manifest \u001b[K\n",
            "pulling dde5aa3fc5ff...  75% ▕▏ 1.5 GB/2.0 GB  200 MB/s      2s\u001b[K\u001b[?25h\u001b[?2026l\u001b[?2026h\u001b[?25l\u001b[A\u001b[1Gpulling manifest \u001b[K\n",
            "pulling dde5aa3fc5ff...  77% ▕▏ 1.5 GB/2.0 GB  200 MB/s      2s\u001b[K\u001b[?25h\u001b[?2026l\u001b[?2026h\u001b[?25l\u001b[A\u001b[1Gpulling manifest \u001b[K\n",
            "pulling dde5aa3fc5ff...  78% ▕▏ 1.6 GB/2.0 GB  196 MB/s      2s\u001b[K\u001b[?25h\u001b[?2026l\u001b[?2026h\u001b[?25l\u001b[A\u001b[1Gpulling manifest \u001b[K\n",
            "pulling dde5aa3fc5ff...  80% ▕▏ 1.6 GB/2.0 GB  196 MB/s      2s\u001b[K\u001b[?25h\u001b[?2026l\u001b[?2026h\u001b[?25l\u001b[A\u001b[1Gpulling manifest \u001b[K\n",
            "pulling dde5aa3fc5ff...  81% ▕▏ 1.6 GB/2.0 GB  196 MB/s      1s\u001b[K\u001b[?25h\u001b[?2026l\u001b[?2026h\u001b[?25l\u001b[A\u001b[1Gpulling manifest \u001b[K\n",
            "pulling dde5aa3fc5ff...  83% ▕▏ 1.7 GB/2.0 GB  196 MB/s      1s\u001b[K\u001b[?25h\u001b[?2026l\u001b[?2026h\u001b[?25l\u001b[A\u001b[1Gpulling manifest \u001b[K\n",
            "pulling dde5aa3fc5ff...  84% ▕▏ 1.7 GB/2.0 GB  196 MB/s      1s\u001b[K\u001b[?25h\u001b[?2026l\u001b[?2026h\u001b[?25l\u001b[A\u001b[1Gpulling manifest \u001b[K\n",
            "pulling dde5aa3fc5ff...  85% ▕▏ 1.7 GB/2.0 GB  196 MB/s      1s\u001b[K\u001b[?25h\u001b[?2026l\u001b[?2026h\u001b[?25l\u001b[A\u001b[1Gpulling manifest \u001b[K\n",
            "pulling dde5aa3fc5ff...  88% ▕▏ 1.8 GB/2.0 GB  196 MB/s      1s\u001b[K\u001b[?25h\u001b[?2026l\u001b[?2026h\u001b[?25l\u001b[A\u001b[1Gpulling manifest \u001b[K\n",
            "pulling dde5aa3fc5ff...  89% ▕▏ 1.8 GB/2.0 GB  196 MB/s      1s\u001b[K\u001b[?25h\u001b[?2026l\u001b[?2026h\u001b[?25l\u001b[A\u001b[1Gpulling manifest \u001b[K\n",
            "pulling dde5aa3fc5ff...  91% ▕▏ 1.8 GB/2.0 GB  196 MB/s      0s\u001b[K\u001b[?25h\u001b[?2026l\u001b[?2026h\u001b[?25l\u001b[A\u001b[1Gpulling manifest \u001b[K\n",
            "pulling dde5aa3fc5ff...  93% ▕▏ 1.9 GB/2.0 GB  196 MB/s      0s\u001b[K\u001b[?25h\u001b[?2026l\u001b[?2026h\u001b[?25l\u001b[A\u001b[1Gpulling manifest \u001b[K\n",
            "pulling dde5aa3fc5ff...  95% ▕▏ 1.9 GB/2.0 GB  213 MB/s      0s\u001b[K\u001b[?25h\u001b[?2026l\u001b[?2026h\u001b[?25l\u001b[A\u001b[1Gpulling manifest \u001b[K\n",
            "pulling dde5aa3fc5ff...  95% ▕▏ 1.9 GB/2.0 GB  213 MB/s      0s\u001b[K\u001b[?25h\u001b[?2026l\u001b[?2026h\u001b[?25l\u001b[A\u001b[1Gpulling manifest \u001b[K\n",
            "pulling dde5aa3fc5ff...  97% ▕▏ 2.0 GB/2.0 GB  213 MB/s      0s\u001b[K\u001b[?25h\u001b[?2026l\u001b[?2026h\u001b[?25l\u001b[A\u001b[1Gpulling manifest \u001b[K\n",
            "pulling dde5aa3fc5ff...  99% ▕▏ 2.0 GB/2.0 GB  213 MB/s      0s\u001b[K\u001b[?25h\u001b[?2026l\u001b[?2026h\u001b[?25l\u001b[A\u001b[1Gpulling manifest \u001b[K\n",
            "pulling dde5aa3fc5ff...  99% ▕▏ 2.0 GB/2.0 GB  213 MB/s      0s\u001b[K\u001b[?25h\u001b[?2026l\u001b[?2026h\u001b[?25l\u001b[A\u001b[1Gpulling manifest \u001b[K\n",
            "pulling dde5aa3fc5ff... 100% ▕▏ 2.0 GB/2.0 GB  213 MB/s      0s\u001b[K\u001b[?25h\u001b[?2026l\u001b[?2026h\u001b[?25l\u001b[A\u001b[1Gpulling manifest \u001b[K\n",
            "pulling dde5aa3fc5ff... 100% ▕▏ 2.0 GB                         \u001b[K\u001b[?25h\u001b[?2026l\u001b[?2026h\u001b[?25l\u001b[A\u001b[1Gpulling manifest \u001b[K\n",
            "pulling dde5aa3fc5ff... 100% ▕▏ 2.0 GB                         \u001b[K\u001b[?25h\u001b[?2026l\u001b[?2026h\u001b[?25l\u001b[A\u001b[1Gpulling manifest \u001b[K\n",
            "pulling dde5aa3fc5ff... 100% ▕▏ 2.0 GB                         \u001b[K\u001b[?25h\u001b[?2026l\u001b[?2026h\u001b[?25l\u001b[A\u001b[1Gpulling manifest \u001b[K\n",
            "pulling dde5aa3fc5ff... 100% ▕▏ 2.0 GB                         \u001b[K\u001b[?25h\u001b[?2026l\u001b[?2026h\u001b[?25l\u001b[A\u001b[1Gpulling manifest \u001b[K\n",
            "pulling dde5aa3fc5ff... 100% ▕▏ 2.0 GB                         \u001b[K\u001b[?25h\u001b[?2026l\u001b[?2026h\u001b[?25l\u001b[A\u001b[1Gpulling manifest \u001b[K\n",
            "pulling dde5aa3fc5ff... 100% ▕▏ 2.0 GB                         \u001b[K\u001b[?25h\u001b[?2026l\u001b[?2026h\u001b[?25l\u001b[A\u001b[1Gpulling manifest \u001b[K\n",
            "pulling dde5aa3fc5ff... 100% ▕▏ 2.0 GB                         \u001b[K\n",
            "pulling 966de95ca8a6...   0% ▕▏    0 B/1.4 KB                  \u001b[K\u001b[?25h\u001b[?2026l\u001b[?2026h\u001b[?25l\u001b[A\u001b[A\u001b[1Gpulling manifest \u001b[K\n",
            "pulling dde5aa3fc5ff... 100% ▕▏ 2.0 GB                         \u001b[K\n",
            "pulling 966de95ca8a6...   0% ▕▏    0 B/1.4 KB                  \u001b[K\u001b[?25h\u001b[?2026l\u001b[?2026h\u001b[?25l\u001b[A\u001b[A\u001b[1Gpulling manifest \u001b[K\n",
            "pulling dde5aa3fc5ff... 100% ▕▏ 2.0 GB                         \u001b[K\n",
            "pulling 966de95ca8a6...   0% ▕▏    0 B/1.4 KB                  \u001b[K\u001b[?25h\u001b[?2026l\u001b[?2026h\u001b[?25l\u001b[A\u001b[A\u001b[1Gpulling manifest \u001b[K\n",
            "pulling dde5aa3fc5ff... 100% ▕▏ 2.0 GB                         \u001b[K\n",
            "pulling 966de95ca8a6... 100% ▕▏ 1.4 KB                         \u001b[K\u001b[?25h\u001b[?2026l\u001b[?2026h\u001b[?25l\u001b[A\u001b[A\u001b[1Gpulling manifest \u001b[K\n",
            "pulling dde5aa3fc5ff... 100% ▕▏ 2.0 GB                         \u001b[K\n",
            "pulling 966de95ca8a6... 100% ▕▏ 1.4 KB                         \u001b[K\u001b[?25h\u001b[?2026l\u001b[?2026h\u001b[?25l\u001b[A\u001b[A\u001b[1Gpulling manifest \u001b[K\n",
            "pulling dde5aa3fc5ff... 100% ▕▏ 2.0 GB                         \u001b[K\n",
            "pulling 966de95ca8a6... 100% ▕▏ 1.4 KB                         \u001b[K\u001b[?25h\u001b[?2026l\u001b[?2026h\u001b[?25l\u001b[A\u001b[A\u001b[1Gpulling manifest \u001b[K\n",
            "pulling dde5aa3fc5ff... 100% ▕▏ 2.0 GB                         \u001b[K\n",
            "pulling 966de95ca8a6... 100% ▕▏ 1.4 KB                         \u001b[K\u001b[?25h\u001b[?2026l\u001b[?2026h\u001b[?25l\u001b[A\u001b[A\u001b[1Gpulling manifest \u001b[K\n",
            "pulling dde5aa3fc5ff... 100% ▕▏ 2.0 GB                         \u001b[K\n",
            "pulling 966de95ca8a6... 100% ▕▏ 1.4 KB                         \u001b[K\u001b[?25h\u001b[?2026l\u001b[?2026h\u001b[?25l\u001b[A\u001b[A\u001b[1Gpulling manifest \u001b[K\n",
            "pulling dde5aa3fc5ff... 100% ▕▏ 2.0 GB                         \u001b[K\n",
            "pulling 966de95ca8a6... 100% ▕▏ 1.4 KB                         \u001b[K\u001b[?25h\u001b[?2026l\u001b[?2026h\u001b[?25l\u001b[A\u001b[A\u001b[1Gpulling manifest \u001b[K\n",
            "pulling dde5aa3fc5ff... 100% ▕▏ 2.0 GB                         \u001b[K\n",
            "pulling 966de95ca8a6... 100% ▕▏ 1.4 KB                         \u001b[K\u001b[?25h\u001b[?2026l\u001b[?2026h\u001b[?25l\u001b[A\u001b[A\u001b[1Gpulling manifest \u001b[K\n",
            "pulling dde5aa3fc5ff... 100% ▕▏ 2.0 GB                         \u001b[K\n",
            "pulling 966de95ca8a6... 100% ▕▏ 1.4 KB                         \u001b[K\u001b[?25h\u001b[?2026l\u001b[?2026h\u001b[?25l\u001b[A\u001b[A\u001b[1Gpulling manifest \u001b[K\n",
            "pulling dde5aa3fc5ff... 100% ▕▏ 2.0 GB                         \u001b[K\n",
            "pulling 966de95ca8a6... 100% ▕▏ 1.4 KB                         \u001b[K\u001b[?25h\u001b[?2026l\u001b[?2026h\u001b[?25l\u001b[A\u001b[A\u001b[1Gpulling manifest \u001b[K\n",
            "pulling dde5aa3fc5ff... 100% ▕▏ 2.0 GB                         \u001b[K\n",
            "pulling 966de95ca8a6... 100% ▕▏ 1.4 KB                         \u001b[K\u001b[?25h\u001b[?2026l\u001b[?2026h\u001b[?25l\u001b[A\u001b[A\u001b[1Gpulling manifest \u001b[K\n",
            "pulling dde5aa3fc5ff... 100% ▕▏ 2.0 GB                         \u001b[K\n",
            "pulling 966de95ca8a6... 100% ▕▏ 1.4 KB                         \u001b[K\n",
            "pulling fcc5a6bec9da...   0% ▕▏    0 B/7.7 KB                  \u001b[K\u001b[?25h\u001b[?2026l\u001b[?2026h\u001b[?25l\u001b[A\u001b[A\u001b[A\u001b[1Gpulling manifest \u001b[K\n",
            "pulling dde5aa3fc5ff... 100% ▕▏ 2.0 GB                         \u001b[K\n",
            "pulling 966de95ca8a6... 100% ▕▏ 1.4 KB                         \u001b[K\n",
            "pulling fcc5a6bec9da...   0% ▕▏    0 B/7.7 KB                  \u001b[K\u001b[?25h\u001b[?2026l\u001b[?2026h\u001b[?25l\u001b[A\u001b[A\u001b[A\u001b[1Gpulling manifest \u001b[K\n",
            "pulling dde5aa3fc5ff... 100% ▕▏ 2.0 GB                         \u001b[K\n",
            "pulling 966de95ca8a6... 100% ▕▏ 1.4 KB                         \u001b[K\n",
            "pulling fcc5a6bec9da...   0% ▕▏    0 B/7.7 KB                  \u001b[K\u001b[?25h\u001b[?2026l\u001b[?2026h\u001b[?25l\u001b[A\u001b[A\u001b[A\u001b[1Gpulling manifest \u001b[K\n",
            "pulling dde5aa3fc5ff... 100% ▕▏ 2.0 GB                         \u001b[K\n",
            "pulling 966de95ca8a6... 100% ▕▏ 1.4 KB                         \u001b[K\n",
            "pulling fcc5a6bec9da... 100% ▕▏ 7.7 KB                         \u001b[K\u001b[?25h\u001b[?2026l\u001b[?2026h\u001b[?25l\u001b[A\u001b[A\u001b[A\u001b[1Gpulling manifest \u001b[K\n",
            "pulling dde5aa3fc5ff... 100% ▕▏ 2.0 GB                         \u001b[K\n",
            "pulling 966de95ca8a6... 100% ▕▏ 1.4 KB                         \u001b[K\n",
            "pulling fcc5a6bec9da... 100% ▕▏ 7.7 KB                         \u001b[K\u001b[?25h\u001b[?2026l\u001b[?2026h\u001b[?25l\u001b[A\u001b[A\u001b[A\u001b[1Gpulling manifest \u001b[K\n",
            "pulling dde5aa3fc5ff... 100% ▕▏ 2.0 GB                         \u001b[K\n",
            "pulling 966de95ca8a6... 100% ▕▏ 1.4 KB                         \u001b[K\n",
            "pulling fcc5a6bec9da... 100% ▕▏ 7.7 KB                         \u001b[K\u001b[?25h\u001b[?2026l\u001b[?2026h\u001b[?25l\u001b[A\u001b[A\u001b[A\u001b[1Gpulling manifest \u001b[K\n",
            "pulling dde5aa3fc5ff... 100% ▕▏ 2.0 GB                         \u001b[K\n",
            "pulling 966de95ca8a6... 100% ▕▏ 1.4 KB                         \u001b[K\n",
            "pulling fcc5a6bec9da... 100% ▕▏ 7.7 KB                         \u001b[K\u001b[?25h\u001b[?2026l\u001b[?2026h\u001b[?25l\u001b[A\u001b[A\u001b[A\u001b[1Gpulling manifest \u001b[K\n",
            "pulling dde5aa3fc5ff... 100% ▕▏ 2.0 GB                         \u001b[K\n",
            "pulling 966de95ca8a6... 100% ▕▏ 1.4 KB                         \u001b[K\n",
            "pulling fcc5a6bec9da... 100% ▕▏ 7.7 KB                         \u001b[K\u001b[?25h\u001b[?2026l\u001b[?2026h\u001b[?25l\u001b[A\u001b[A\u001b[A\u001b[1Gpulling manifest \u001b[K\n",
            "pulling dde5aa3fc5ff... 100% ▕▏ 2.0 GB                         \u001b[K\n",
            "pulling 966de95ca8a6... 100% ▕▏ 1.4 KB                         \u001b[K\n",
            "pulling fcc5a6bec9da... 100% ▕▏ 7.7 KB                         \u001b[K\u001b[?25h\u001b[?2026l\u001b[?2026h\u001b[?25l\u001b[A\u001b[A\u001b[A\u001b[1Gpulling manifest \u001b[K\n",
            "pulling dde5aa3fc5ff... 100% ▕▏ 2.0 GB                         \u001b[K\n",
            "pulling 966de95ca8a6... 100% ▕▏ 1.4 KB                         \u001b[K\n",
            "pulling fcc5a6bec9da... 100% ▕▏ 7.7 KB                         \u001b[K\u001b[?25h\u001b[?2026l\u001b[?2026h\u001b[?25l\u001b[A\u001b[A\u001b[A\u001b[1Gpulling manifest \u001b[K\n",
            "pulling dde5aa3fc5ff... 100% ▕▏ 2.0 GB                         \u001b[K\n",
            "pulling 966de95ca8a6... 100% ▕▏ 1.4 KB                         \u001b[K\n",
            "pulling fcc5a6bec9da... 100% ▕▏ 7.7 KB                         \u001b[K\u001b[?25h\u001b[?2026l\u001b[?2026h\u001b[?25l\u001b[A\u001b[A\u001b[A\u001b[1Gpulling manifest \u001b[K\n",
            "pulling dde5aa3fc5ff... 100% ▕▏ 2.0 GB                         \u001b[K\n",
            "pulling 966de95ca8a6... 100% ▕▏ 1.4 KB                         \u001b[K\n",
            "pulling fcc5a6bec9da... 100% ▕▏ 7.7 KB                         \u001b[K\u001b[?25h\u001b[?2026l\u001b[?2026h\u001b[?25l\u001b[A\u001b[A\u001b[A\u001b[1Gpulling manifest \u001b[K\n",
            "pulling dde5aa3fc5ff... 100% ▕▏ 2.0 GB                         \u001b[K\n",
            "pulling 966de95ca8a6... 100% ▕▏ 1.4 KB                         \u001b[K\n",
            "pulling fcc5a6bec9da... 100% ▕▏ 7.7 KB                         \u001b[K\u001b[?25h\u001b[?2026l\u001b[?2026h\u001b[?25l\u001b[A\u001b[A\u001b[A\u001b[1Gpulling manifest \u001b[K\n",
            "pulling dde5aa3fc5ff... 100% ▕▏ 2.0 GB                         \u001b[K\n",
            "pulling 966de95ca8a6... 100% ▕▏ 1.4 KB                         \u001b[K\n",
            "pulling fcc5a6bec9da... 100% ▕▏ 7.7 KB                         \u001b[K\u001b[?25h\u001b[?2026l\u001b[?2026h\u001b[?25l\u001b[A\u001b[A\u001b[A\u001b[1Gpulling manifest \u001b[K\n",
            "pulling dde5aa3fc5ff... 100% ▕▏ 2.0 GB                         \u001b[K\n",
            "pulling 966de95ca8a6... 100% ▕▏ 1.4 KB                         \u001b[K\n",
            "pulling fcc5a6bec9da... 100% ▕▏ 7.7 KB                         \u001b[K\n",
            "pulling a70ff7e570d9...   0% ▕▏    0 B/6.0 KB                  \u001b[K\u001b[?25h\u001b[?2026l\u001b[?2026h\u001b[?25l\u001b[A\u001b[A\u001b[A\u001b[A\u001b[1Gpulling manifest \u001b[K\n",
            "pulling dde5aa3fc5ff... 100% ▕▏ 2.0 GB                         \u001b[K\n",
            "pulling 966de95ca8a6... 100% ▕▏ 1.4 KB                         \u001b[K\n",
            "pulling fcc5a6bec9da... 100% ▕▏ 7.7 KB                         \u001b[K\n",
            "pulling a70ff7e570d9...   0% ▕▏    0 B/6.0 KB                  \u001b[K\u001b[?25h\u001b[?2026l\u001b[?2026h\u001b[?25l\u001b[A\u001b[A\u001b[A\u001b[A\u001b[1Gpulling manifest \u001b[K\n",
            "pulling dde5aa3fc5ff... 100% ▕▏ 2.0 GB                         \u001b[K\n",
            "pulling 966de95ca8a6... 100% ▕▏ 1.4 KB                         \u001b[K\n",
            "pulling fcc5a6bec9da... 100% ▕▏ 7.7 KB                         \u001b[K\n",
            "pulling a70ff7e570d9... 100% ▕▏ 6.0 KB                         \u001b[K\u001b[?25h\u001b[?2026l\u001b[?2026h\u001b[?25l\u001b[A\u001b[A\u001b[A\u001b[A\u001b[1Gpulling manifest \u001b[K\n",
            "pulling dde5aa3fc5ff... 100% ▕▏ 2.0 GB                         \u001b[K\n",
            "pulling 966de95ca8a6... 100% ▕▏ 1.4 KB                         \u001b[K\n",
            "pulling fcc5a6bec9da... 100% ▕▏ 7.7 KB                         \u001b[K\n",
            "pulling a70ff7e570d9... 100% ▕▏ 6.0 KB                         \u001b[K\u001b[?25h\u001b[?2026l\u001b[?2026h\u001b[?25l\u001b[A\u001b[A\u001b[A\u001b[A\u001b[1Gpulling manifest \u001b[K\n",
            "pulling dde5aa3fc5ff... 100% ▕▏ 2.0 GB                         \u001b[K\n",
            "pulling 966de95ca8a6... 100% ▕▏ 1.4 KB                         \u001b[K\n",
            "pulling fcc5a6bec9da... 100% ▕▏ 7.7 KB                         \u001b[K\n",
            "pulling a70ff7e570d9... 100% ▕▏ 6.0 KB                         \u001b[K\u001b[?25h\u001b[?2026l\u001b[?2026h\u001b[?25l\u001b[A\u001b[A\u001b[A\u001b[A\u001b[1Gpulling manifest \u001b[K\n",
            "pulling dde5aa3fc5ff... 100% ▕▏ 2.0 GB                         \u001b[K\n",
            "pulling 966de95ca8a6... 100% ▕▏ 1.4 KB                         \u001b[K\n",
            "pulling fcc5a6bec9da... 100% ▕▏ 7.7 KB                         \u001b[K\n",
            "pulling a70ff7e570d9... 100% ▕▏ 6.0 KB                         \u001b[K\u001b[?25h\u001b[?2026l\u001b[?2026h\u001b[?25l\u001b[A\u001b[A\u001b[A\u001b[A\u001b[1Gpulling manifest \u001b[K\n",
            "pulling dde5aa3fc5ff... 100% ▕▏ 2.0 GB                         \u001b[K\n",
            "pulling 966de95ca8a6... 100% ▕▏ 1.4 KB                         \u001b[K\n",
            "pulling fcc5a6bec9da... 100% ▕▏ 7.7 KB                         \u001b[K\n",
            "pulling a70ff7e570d9... 100% ▕▏ 6.0 KB                         \u001b[K\u001b[?25h\u001b[?2026l\u001b[?2026h\u001b[?25l\u001b[A\u001b[A\u001b[A\u001b[A\u001b[1Gpulling manifest \u001b[K\n",
            "pulling dde5aa3fc5ff... 100% ▕▏ 2.0 GB                         \u001b[K\n",
            "pulling 966de95ca8a6... 100% ▕▏ 1.4 KB                         \u001b[K\n",
            "pulling fcc5a6bec9da... 100% ▕▏ 7.7 KB                         \u001b[K\n",
            "pulling a70ff7e570d9... 100% ▕▏ 6.0 KB                         \u001b[K\u001b[?25h\u001b[?2026l\u001b[?2026h\u001b[?25l\u001b[A\u001b[A\u001b[A\u001b[A\u001b[1Gpulling manifest \u001b[K\n",
            "pulling dde5aa3fc5ff... 100% ▕▏ 2.0 GB                         \u001b[K\n",
            "pulling 966de95ca8a6... 100% ▕▏ 1.4 KB                         \u001b[K\n",
            "pulling fcc5a6bec9da... 100% ▕▏ 7.7 KB                         \u001b[K\n",
            "pulling a70ff7e570d9... 100% ▕▏ 6.0 KB                         \u001b[K\u001b[?25h\u001b[?2026l\u001b[?2026h\u001b[?25l\u001b[A\u001b[A\u001b[A\u001b[A\u001b[1Gpulling manifest \u001b[K\n",
            "pulling dde5aa3fc5ff... 100% ▕▏ 2.0 GB                         \u001b[K\n",
            "pulling 966de95ca8a6... 100% ▕▏ 1.4 KB                         \u001b[K\n",
            "pulling fcc5a6bec9da... 100% ▕▏ 7.7 KB                         \u001b[K\n",
            "pulling a70ff7e570d9... 100% ▕▏ 6.0 KB                         \u001b[K\u001b[?25h\u001b[?2026l\u001b[?2026h\u001b[?25l\u001b[A\u001b[A\u001b[A\u001b[A\u001b[1Gpulling manifest \u001b[K\n",
            "pulling dde5aa3fc5ff... 100% ▕▏ 2.0 GB                         \u001b[K\n",
            "pulling 966de95ca8a6... 100% ▕▏ 1.4 KB                         \u001b[K\n",
            "pulling fcc5a6bec9da... 100% ▕▏ 7.7 KB                         \u001b[K\n",
            "pulling a70ff7e570d9... 100% ▕▏ 6.0 KB                         \u001b[K\u001b[?25h\u001b[?2026l\u001b[?2026h\u001b[?25l\u001b[A\u001b[A\u001b[A\u001b[A\u001b[1Gpulling manifest \u001b[K\n",
            "pulling dde5aa3fc5ff... 100% ▕▏ 2.0 GB                         \u001b[K\n",
            "pulling 966de95ca8a6... 100% ▕▏ 1.4 KB                         \u001b[K\n",
            "pulling fcc5a6bec9da... 100% ▕▏ 7.7 KB                         \u001b[K\n",
            "pulling a70ff7e570d9... 100% ▕▏ 6.0 KB                         \u001b[K\u001b[?25h\u001b[?2026l\u001b[?2026h\u001b[?25l\u001b[A\u001b[A\u001b[A\u001b[A\u001b[1Gpulling manifest \u001b[K\n",
            "pulling dde5aa3fc5ff... 100% ▕▏ 2.0 GB                         \u001b[K\n",
            "pulling 966de95ca8a6... 100% ▕▏ 1.4 KB                         \u001b[K\n",
            "pulling fcc5a6bec9da... 100% ▕▏ 7.7 KB                         \u001b[K\n",
            "pulling a70ff7e570d9... 100% ▕▏ 6.0 KB                         \u001b[K\u001b[?25h\u001b[?2026l\u001b[?2026h\u001b[?25l\u001b[A\u001b[A\u001b[A\u001b[A\u001b[1Gpulling manifest \u001b[K\n",
            "pulling dde5aa3fc5ff... 100% ▕▏ 2.0 GB                         \u001b[K\n",
            "pulling 966de95ca8a6... 100% ▕▏ 1.4 KB                         \u001b[K\n",
            "pulling fcc5a6bec9da... 100% ▕▏ 7.7 KB                         \u001b[K\n",
            "pulling a70ff7e570d9... 100% ▕▏ 6.0 KB                         \u001b[K\u001b[?25h\u001b[?2026l\u001b[?2026h\u001b[?25l\u001b[A\u001b[A\u001b[A\u001b[A\u001b[1Gpulling manifest \u001b[K\n",
            "pulling dde5aa3fc5ff... 100% ▕▏ 2.0 GB                         \u001b[K\n",
            "pulling 966de95ca8a6... 100% ▕▏ 1.4 KB                         \u001b[K\n",
            "pulling fcc5a6bec9da... 100% ▕▏ 7.7 KB                         \u001b[K\n",
            "pulling a70ff7e570d9... 100% ▕▏ 6.0 KB                         \u001b[K\n",
            "pulling 56bb8bd477a5...   0% ▕▏    0 B/  96 B                  \u001b[K\u001b[?25h\u001b[?2026l\u001b[?2026h\u001b[?25l\u001b[A\u001b[A\u001b[A\u001b[A\u001b[A\u001b[1Gpulling manifest \u001b[K\n",
            "pulling dde5aa3fc5ff... 100% ▕▏ 2.0 GB                         \u001b[K\n",
            "pulling 966de95ca8a6... 100% ▕▏ 1.4 KB                         \u001b[K\n",
            "pulling fcc5a6bec9da... 100% ▕▏ 7.7 KB                         \u001b[K\n",
            "pulling a70ff7e570d9... 100% ▕▏ 6.0 KB                         \u001b[K\n",
            "pulling 56bb8bd477a5...   0% ▕▏    0 B/  96 B                  \u001b[K\u001b[?25h\u001b[?2026l\u001b[?2026h\u001b[?25l\u001b[A\u001b[A\u001b[A\u001b[A\u001b[A\u001b[1Gpulling manifest \u001b[K\n",
            "pulling dde5aa3fc5ff... 100% ▕▏ 2.0 GB                         \u001b[K\n",
            "pulling 966de95ca8a6... 100% ▕▏ 1.4 KB                         \u001b[K\n",
            "pulling fcc5a6bec9da... 100% ▕▏ 7.7 KB                         \u001b[K\n",
            "pulling a70ff7e570d9... 100% ▕▏ 6.0 KB                         \u001b[K\n",
            "pulling 56bb8bd477a5... 100% ▕▏   96 B                         \u001b[K\u001b[?25h\u001b[?2026l\u001b[?2026h\u001b[?25l\u001b[A\u001b[A\u001b[A\u001b[A\u001b[A\u001b[1Gpulling manifest \u001b[K\n",
            "pulling dde5aa3fc5ff... 100% ▕▏ 2.0 GB                         \u001b[K\n",
            "pulling 966de95ca8a6... 100% ▕▏ 1.4 KB                         \u001b[K\n",
            "pulling fcc5a6bec9da... 100% ▕▏ 7.7 KB                         \u001b[K\n",
            "pulling a70ff7e570d9... 100% ▕▏ 6.0 KB                         \u001b[K\n",
            "pulling 56bb8bd477a5... 100% ▕▏   96 B                         \u001b[K\u001b[?25h\u001b[?2026l\u001b[?2026h\u001b[?25l\u001b[A\u001b[A\u001b[A\u001b[A\u001b[A\u001b[1Gpulling manifest \u001b[K\n",
            "pulling dde5aa3fc5ff... 100% ▕▏ 2.0 GB                         \u001b[K\n",
            "pulling 966de95ca8a6... 100% ▕▏ 1.4 KB                         \u001b[K\n",
            "pulling fcc5a6bec9da... 100% ▕▏ 7.7 KB                         \u001b[K\n",
            "pulling a70ff7e570d9... 100% ▕▏ 6.0 KB                         \u001b[K\n",
            "pulling 56bb8bd477a5... 100% ▕▏   96 B                         \u001b[K\u001b[?25h\u001b[?2026l\u001b[?2026h\u001b[?25l\u001b[A\u001b[A\u001b[A\u001b[A\u001b[A\u001b[1Gpulling manifest \u001b[K\n",
            "pulling dde5aa3fc5ff... 100% ▕▏ 2.0 GB                         \u001b[K\n",
            "pulling 966de95ca8a6... 100% ▕▏ 1.4 KB                         \u001b[K\n",
            "pulling fcc5a6bec9da... 100% ▕▏ 7.7 KB                         \u001b[K\n",
            "pulling a70ff7e570d9... 100% ▕▏ 6.0 KB                         \u001b[K\n",
            "pulling 56bb8bd477a5... 100% ▕▏   96 B                         \u001b[K\u001b[?25h\u001b[?2026l\u001b[?2026h\u001b[?25l\u001b[A\u001b[A\u001b[A\u001b[A\u001b[A\u001b[1Gpulling manifest \u001b[K\n",
            "pulling dde5aa3fc5ff... 100% ▕▏ 2.0 GB                         \u001b[K\n",
            "pulling 966de95ca8a6... 100% ▕▏ 1.4 KB                         \u001b[K\n",
            "pulling fcc5a6bec9da... 100% ▕▏ 7.7 KB                         \u001b[K\n",
            "pulling a70ff7e570d9... 100% ▕▏ 6.0 KB                         \u001b[K\n",
            "pulling 56bb8bd477a5... 100% ▕▏   96 B                         \u001b[K\u001b[?25h\u001b[?2026l\u001b[?2026h\u001b[?25l\u001b[A\u001b[A\u001b[A\u001b[A\u001b[A\u001b[1Gpulling manifest \u001b[K\n",
            "pulling dde5aa3fc5ff... 100% ▕▏ 2.0 GB                         \u001b[K\n",
            "pulling 966de95ca8a6... 100% ▕▏ 1.4 KB                         \u001b[K\n",
            "pulling fcc5a6bec9da... 100% ▕▏ 7.7 KB                         \u001b[K\n",
            "pulling a70ff7e570d9... 100% ▕▏ 6.0 KB                         \u001b[K\n",
            "pulling 56bb8bd477a5... 100% ▕▏   96 B                         \u001b[K\u001b[?25h\u001b[?2026l\u001b[?2026h\u001b[?25l\u001b[A\u001b[A\u001b[A\u001b[A\u001b[A\u001b[1Gpulling manifest \u001b[K\n",
            "pulling dde5aa3fc5ff... 100% ▕▏ 2.0 GB                         \u001b[K\n",
            "pulling 966de95ca8a6... 100% ▕▏ 1.4 KB                         \u001b[K\n",
            "pulling fcc5a6bec9da... 100% ▕▏ 7.7 KB                         \u001b[K\n",
            "pulling a70ff7e570d9... 100% ▕▏ 6.0 KB                         \u001b[K\n",
            "pulling 56bb8bd477a5... 100% ▕▏   96 B                         \u001b[K\u001b[?25h\u001b[?2026l\u001b[?2026h\u001b[?25l\u001b[A\u001b[A\u001b[A\u001b[A\u001b[A\u001b[1Gpulling manifest \u001b[K\n",
            "pulling dde5aa3fc5ff... 100% ▕▏ 2.0 GB                         \u001b[K\n",
            "pulling 966de95ca8a6... 100% ▕▏ 1.4 KB                         \u001b[K\n",
            "pulling fcc5a6bec9da... 100% ▕▏ 7.7 KB                         \u001b[K\n",
            "pulling a70ff7e570d9... 100% ▕▏ 6.0 KB                         \u001b[K\n",
            "pulling 56bb8bd477a5... 100% ▕▏   96 B                         \u001b[K\u001b[?25h\u001b[?2026l\u001b[?2026h\u001b[?25l\u001b[A\u001b[A\u001b[A\u001b[A\u001b[A\u001b[1Gpulling manifest \u001b[K\n",
            "pulling dde5aa3fc5ff... 100% ▕▏ 2.0 GB                         \u001b[K\n",
            "pulling 966de95ca8a6... 100% ▕▏ 1.4 KB                         \u001b[K\n",
            "pulling fcc5a6bec9da... 100% ▕▏ 7.7 KB                         \u001b[K\n",
            "pulling a70ff7e570d9... 100% ▕▏ 6.0 KB                         \u001b[K\n",
            "pulling 56bb8bd477a5... 100% ▕▏   96 B                         \u001b[K\u001b[?25h\u001b[?2026l\u001b[?2026h\u001b[?25l\u001b[A\u001b[A\u001b[A\u001b[A\u001b[A\u001b[1Gpulling manifest \u001b[K\n",
            "pulling dde5aa3fc5ff... 100% ▕▏ 2.0 GB                         \u001b[K\n",
            "pulling 966de95ca8a6... 100% ▕▏ 1.4 KB                         \u001b[K\n",
            "pulling fcc5a6bec9da... 100% ▕▏ 7.7 KB                         \u001b[K\n",
            "pulling a70ff7e570d9... 100% ▕▏ 6.0 KB                         \u001b[K\n",
            "pulling 56bb8bd477a5... 100% ▕▏   96 B                         \u001b[K\u001b[?25h\u001b[?2026l\u001b[?2026h\u001b[?25l\u001b[A\u001b[A\u001b[A\u001b[A\u001b[A\u001b[1Gpulling manifest \u001b[K\n",
            "pulling dde5aa3fc5ff... 100% ▕▏ 2.0 GB                         \u001b[K\n",
            "pulling 966de95ca8a6... 100% ▕▏ 1.4 KB                         \u001b[K\n",
            "pulling fcc5a6bec9da... 100% ▕▏ 7.7 KB                         \u001b[K\n",
            "pulling a70ff7e570d9... 100% ▕▏ 6.0 KB                         \u001b[K\n",
            "pulling 56bb8bd477a5... 100% ▕▏   96 B                         \u001b[K\u001b[?25h\u001b[?2026l\u001b[?2026h\u001b[?25l\u001b[A\u001b[A\u001b[A\u001b[A\u001b[A\u001b[1Gpulling manifest \u001b[K\n",
            "pulling dde5aa3fc5ff... 100% ▕▏ 2.0 GB                         \u001b[K\n",
            "pulling 966de95ca8a6... 100% ▕▏ 1.4 KB                         \u001b[K\n",
            "pulling fcc5a6bec9da... 100% ▕▏ 7.7 KB                         \u001b[K\n",
            "pulling a70ff7e570d9... 100% ▕▏ 6.0 KB                         \u001b[K\n",
            "pulling 56bb8bd477a5... 100% ▕▏   96 B                         \u001b[K\n",
            "pulling 34bb5ab01051...   0% ▕▏    0 B/ 561 B                  \u001b[K\u001b[?25h\u001b[?2026l\u001b[?2026h\u001b[?25l\u001b[A\u001b[A\u001b[A\u001b[A\u001b[A\u001b[A\u001b[1Gpulling manifest \u001b[K\n",
            "pulling dde5aa3fc5ff... 100% ▕▏ 2.0 GB                         \u001b[K\n",
            "pulling 966de95ca8a6... 100% ▕▏ 1.4 KB                         \u001b[K\n",
            "pulling fcc5a6bec9da... 100% ▕▏ 7.7 KB                         \u001b[K\n",
            "pulling a70ff7e570d9... 100% ▕▏ 6.0 KB                         \u001b[K\n",
            "pulling 56bb8bd477a5... 100% ▕▏   96 B                         \u001b[K\n",
            "pulling 34bb5ab01051...   0% ▕▏    0 B/ 561 B                  \u001b[K\u001b[?25h\u001b[?2026l\u001b[?2026h\u001b[?25l\u001b[A\u001b[A\u001b[A\u001b[A\u001b[A\u001b[A\u001b[1Gpulling manifest \u001b[K\n",
            "pulling dde5aa3fc5ff... 100% ▕▏ 2.0 GB                         \u001b[K\n",
            "pulling 966de95ca8a6... 100% ▕▏ 1.4 KB                         \u001b[K\n",
            "pulling fcc5a6bec9da... 100% ▕▏ 7.7 KB                         \u001b[K\n",
            "pulling a70ff7e570d9... 100% ▕▏ 6.0 KB                         \u001b[K\n",
            "pulling 56bb8bd477a5... 100% ▕▏   96 B                         \u001b[K\n",
            "pulling 34bb5ab01051...   0% ▕▏    0 B/ 561 B                  \u001b[K\u001b[?25h\u001b[?2026l\u001b[?2026h\u001b[?25l\u001b[A\u001b[A\u001b[A\u001b[A\u001b[A\u001b[A\u001b[1Gpulling manifest \u001b[K\n",
            "pulling dde5aa3fc5ff... 100% ▕▏ 2.0 GB                         \u001b[K\n",
            "pulling 966de95ca8a6... 100% ▕▏ 1.4 KB                         \u001b[K\n",
            "pulling fcc5a6bec9da... 100% ▕▏ 7.7 KB                         \u001b[K\n",
            "pulling a70ff7e570d9... 100% ▕▏ 6.0 KB                         \u001b[K\n",
            "pulling 56bb8bd477a5... 100% ▕▏   96 B                         \u001b[K\n",
            "pulling 34bb5ab01051... 100% ▕▏  561 B                         \u001b[K\u001b[?25h\u001b[?2026l\u001b[?2026h\u001b[?25l\u001b[A\u001b[A\u001b[A\u001b[A\u001b[A\u001b[A\u001b[1Gpulling manifest \u001b[K\n",
            "pulling dde5aa3fc5ff... 100% ▕▏ 2.0 GB                         \u001b[K\n",
            "pulling 966de95ca8a6... 100% ▕▏ 1.4 KB                         \u001b[K\n",
            "pulling fcc5a6bec9da... 100% ▕▏ 7.7 KB                         \u001b[K\n",
            "pulling a70ff7e570d9... 100% ▕▏ 6.0 KB                         \u001b[K\n",
            "pulling 56bb8bd477a5... 100% ▕▏   96 B                         \u001b[K\n",
            "pulling 34bb5ab01051... 100% ▕▏  561 B                         \u001b[K\u001b[?25h\u001b[?2026l\u001b[?2026h\u001b[?25l\u001b[A\u001b[A\u001b[A\u001b[A\u001b[A\u001b[A\u001b[1Gpulling manifest \u001b[K\n",
            "pulling dde5aa3fc5ff... 100% ▕▏ 2.0 GB                         \u001b[K\n",
            "pulling 966de95ca8a6... 100% ▕▏ 1.4 KB                         \u001b[K\n",
            "pulling fcc5a6bec9da... 100% ▕▏ 7.7 KB                         \u001b[K\n",
            "pulling a70ff7e570d9... 100% ▕▏ 6.0 KB                         \u001b[K\n",
            "pulling 56bb8bd477a5... 100% ▕▏   96 B                         \u001b[K\n",
            "pulling 34bb5ab01051... 100% ▕▏  561 B                         \u001b[K\u001b[?25h\u001b[?2026l\u001b[?2026h\u001b[?25l\u001b[A\u001b[A\u001b[A\u001b[A\u001b[A\u001b[A\u001b[1Gpulling manifest \u001b[K\n",
            "pulling dde5aa3fc5ff... 100% ▕▏ 2.0 GB                         \u001b[K\n",
            "pulling 966de95ca8a6... 100% ▕▏ 1.4 KB                         \u001b[K\n",
            "pulling fcc5a6bec9da... 100% ▕▏ 7.7 KB                         \u001b[K\n",
            "pulling a70ff7e570d9... 100% ▕▏ 6.0 KB                         \u001b[K\n",
            "pulling 56bb8bd477a5... 100% ▕▏   96 B                         \u001b[K\n",
            "pulling 34bb5ab01051... 100% ▕▏  561 B                         \u001b[K\u001b[?25h\u001b[?2026l\u001b[?2026h\u001b[?25l\u001b[A\u001b[A\u001b[A\u001b[A\u001b[A\u001b[A\u001b[1Gpulling manifest \u001b[K\n",
            "pulling dde5aa3fc5ff... 100% ▕▏ 2.0 GB                         \u001b[K\n",
            "pulling 966de95ca8a6... 100% ▕▏ 1.4 KB                         \u001b[K\n",
            "pulling fcc5a6bec9da... 100% ▕▏ 7.7 KB                         \u001b[K\n",
            "pulling a70ff7e570d9... 100% ▕▏ 6.0 KB                         \u001b[K\n",
            "pulling 56bb8bd477a5... 100% ▕▏   96 B                         \u001b[K\n",
            "pulling 34bb5ab01051... 100% ▕▏  561 B                         \u001b[K\u001b[?25h\u001b[?2026l\u001b[?2026h\u001b[?25l\u001b[A\u001b[A\u001b[A\u001b[A\u001b[A\u001b[A\u001b[1Gpulling manifest \u001b[K\n",
            "pulling dde5aa3fc5ff... 100% ▕▏ 2.0 GB                         \u001b[K\n",
            "pulling 966de95ca8a6... 100% ▕▏ 1.4 KB                         \u001b[K\n",
            "pulling fcc5a6bec9da... 100% ▕▏ 7.7 KB                         \u001b[K\n",
            "pulling a70ff7e570d9... 100% ▕▏ 6.0 KB                         \u001b[K\n",
            "pulling 56bb8bd477a5... 100% ▕▏   96 B                         \u001b[K\n",
            "pulling 34bb5ab01051... 100% ▕▏  561 B                         \u001b[K\u001b[?25h\u001b[?2026l\u001b[?2026h\u001b[?25l\u001b[A\u001b[A\u001b[A\u001b[A\u001b[A\u001b[A\u001b[1Gpulling manifest \u001b[K\n",
            "pulling dde5aa3fc5ff... 100% ▕▏ 2.0 GB                         \u001b[K\n",
            "pulling 966de95ca8a6... 100% ▕▏ 1.4 KB                         \u001b[K\n",
            "pulling fcc5a6bec9da... 100% ▕▏ 7.7 KB                         \u001b[K\n",
            "pulling a70ff7e570d9... 100% ▕▏ 6.0 KB                         \u001b[K\n",
            "pulling 56bb8bd477a5... 100% ▕▏   96 B                         \u001b[K\n",
            "pulling 34bb5ab01051... 100% ▕▏  561 B                         \u001b[K\u001b[?25h\u001b[?2026l\u001b[?2026h\u001b[?25l\u001b[A\u001b[A\u001b[A\u001b[A\u001b[A\u001b[A\u001b[1Gpulling manifest \u001b[K\n",
            "pulling dde5aa3fc5ff... 100% ▕▏ 2.0 GB                         \u001b[K\n",
            "pulling 966de95ca8a6... 100% ▕▏ 1.4 KB                         \u001b[K\n",
            "pulling fcc5a6bec9da... 100% ▕▏ 7.7 KB                         \u001b[K\n",
            "pulling a70ff7e570d9... 100% ▕▏ 6.0 KB                         \u001b[K\n",
            "pulling 56bb8bd477a5... 100% ▕▏   96 B                         \u001b[K\n",
            "pulling 34bb5ab01051... 100% ▕▏  561 B                         \u001b[K\u001b[?25h\u001b[?2026l\u001b[?2026h\u001b[?25l\u001b[A\u001b[A\u001b[A\u001b[A\u001b[A\u001b[A\u001b[1Gpulling manifest \u001b[K\n",
            "pulling dde5aa3fc5ff... 100% ▕▏ 2.0 GB                         \u001b[K\n",
            "pulling 966de95ca8a6... 100% ▕▏ 1.4 KB                         \u001b[K\n",
            "pulling fcc5a6bec9da... 100% ▕▏ 7.7 KB                         \u001b[K\n",
            "pulling a70ff7e570d9... 100% ▕▏ 6.0 KB                         \u001b[K\n",
            "pulling 56bb8bd477a5... 100% ▕▏   96 B                         \u001b[K\n",
            "pulling 34bb5ab01051... 100% ▕▏  561 B                         \u001b[K\n",
            "verifying sha256 digest ⠋ \u001b[K\u001b[?25h\u001b[?2026l\u001b[?2026h\u001b[?25l\u001b[A\u001b[A\u001b[A\u001b[A\u001b[A\u001b[A\u001b[A\u001b[1Gpulling manifest \u001b[K\n",
            "pulling dde5aa3fc5ff... 100% ▕▏ 2.0 GB                         \u001b[K\n",
            "pulling 966de95ca8a6... 100% ▕▏ 1.4 KB                         \u001b[K\n",
            "pulling fcc5a6bec9da... 100% ▕▏ 7.7 KB                         \u001b[K\n",
            "pulling a70ff7e570d9... 100% ▕▏ 6.0 KB                         \u001b[K\n",
            "pulling 56bb8bd477a5... 100% ▕▏   96 B                         \u001b[K\n",
            "pulling 34bb5ab01051... 100% ▕▏  561 B                         \u001b[K\n",
            "verifying sha256 digest ⠙ \u001b[K\u001b[?25h\u001b[?2026l\u001b[?2026h\u001b[?25l\u001b[A\u001b[A\u001b[A\u001b[A\u001b[A\u001b[A\u001b[A\u001b[1Gpulling manifest \u001b[K\n",
            "pulling dde5aa3fc5ff... 100% ▕▏ 2.0 GB                         \u001b[K\n",
            "pulling 966de95ca8a6... 100% ▕▏ 1.4 KB                         \u001b[K\n",
            "pulling fcc5a6bec9da... 100% ▕▏ 7.7 KB                         \u001b[K\n",
            "pulling a70ff7e570d9... 100% ▕▏ 6.0 KB                         \u001b[K\n",
            "pulling 56bb8bd477a5... 100% ▕▏   96 B                         \u001b[K\n",
            "pulling 34bb5ab01051... 100% ▕▏  561 B                         \u001b[K\n",
            "verifying sha256 digest ⠹ \u001b[K\u001b[?25h\u001b[?2026l\u001b[?2026h\u001b[?25l\u001b[A\u001b[A\u001b[A\u001b[A\u001b[A\u001b[A\u001b[A\u001b[1Gpulling manifest \u001b[K\n",
            "pulling dde5aa3fc5ff... 100% ▕▏ 2.0 GB                         \u001b[K\n",
            "pulling 966de95ca8a6... 100% ▕▏ 1.4 KB                         \u001b[K\n",
            "pulling fcc5a6bec9da... 100% ▕▏ 7.7 KB                         \u001b[K\n",
            "pulling a70ff7e570d9... 100% ▕▏ 6.0 KB                         \u001b[K\n",
            "pulling 56bb8bd477a5... 100% ▕▏   96 B                         \u001b[K\n",
            "pulling 34bb5ab01051... 100% ▕▏  561 B                         \u001b[K\n",
            "verifying sha256 digest ⠸ \u001b[K\u001b[?25h\u001b[?2026l\u001b[?2026h\u001b[?25l\u001b[A\u001b[A\u001b[A\u001b[A\u001b[A\u001b[A\u001b[A\u001b[1Gpulling manifest \u001b[K\n",
            "pulling dde5aa3fc5ff... 100% ▕▏ 2.0 GB                         \u001b[K\n",
            "pulling 966de95ca8a6... 100% ▕▏ 1.4 KB                         \u001b[K\n",
            "pulling fcc5a6bec9da... 100% ▕▏ 7.7 KB                         \u001b[K\n",
            "pulling a70ff7e570d9... 100% ▕▏ 6.0 KB                         \u001b[K\n",
            "pulling 56bb8bd477a5... 100% ▕▏   96 B                         \u001b[K\n",
            "pulling 34bb5ab01051... 100% ▕▏  561 B                         \u001b[K\n",
            "verifying sha256 digest ⠼ \u001b[K\u001b[?25h\u001b[?2026l\u001b[?2026h\u001b[?25l\u001b[A\u001b[A\u001b[A\u001b[A\u001b[A\u001b[A\u001b[A\u001b[1Gpulling manifest \u001b[K\n",
            "pulling dde5aa3fc5ff... 100% ▕▏ 2.0 GB                         \u001b[K\n",
            "pulling 966de95ca8a6... 100% ▕▏ 1.4 KB                         \u001b[K\n",
            "pulling fcc5a6bec9da... 100% ▕▏ 7.7 KB                         \u001b[K\n",
            "pulling a70ff7e570d9... 100% ▕▏ 6.0 KB                         \u001b[K\n",
            "pulling 56bb8bd477a5... 100% ▕▏   96 B                         \u001b[K\n",
            "pulling 34bb5ab01051... 100% ▕▏  561 B                         \u001b[K\n",
            "verifying sha256 digest ⠴ \u001b[K\u001b[?25h\u001b[?2026l\u001b[?2026h\u001b[?25l\u001b[A\u001b[A\u001b[A\u001b[A\u001b[A\u001b[A\u001b[A\u001b[1Gpulling manifest \u001b[K\n",
            "pulling dde5aa3fc5ff... 100% ▕▏ 2.0 GB                         \u001b[K\n",
            "pulling 966de95ca8a6... 100% ▕▏ 1.4 KB                         \u001b[K\n",
            "pulling fcc5a6bec9da... 100% ▕▏ 7.7 KB                         \u001b[K\n",
            "pulling a70ff7e570d9... 100% ▕▏ 6.0 KB                         \u001b[K\n",
            "pulling 56bb8bd477a5... 100% ▕▏   96 B                         \u001b[K\n",
            "pulling 34bb5ab01051... 100% ▕▏  561 B                         \u001b[K\n",
            "verifying sha256 digest ⠦ \u001b[K\u001b[?25h\u001b[?2026l\u001b[?2026h\u001b[?25l\u001b[A\u001b[A\u001b[A\u001b[A\u001b[A\u001b[A\u001b[A\u001b[1Gpulling manifest \u001b[K\n",
            "pulling dde5aa3fc5ff... 100% ▕▏ 2.0 GB                         \u001b[K\n",
            "pulling 966de95ca8a6... 100% ▕▏ 1.4 KB                         \u001b[K\n",
            "pulling fcc5a6bec9da... 100% ▕▏ 7.7 KB                         \u001b[K\n",
            "pulling a70ff7e570d9... 100% ▕▏ 6.0 KB                         \u001b[K\n",
            "pulling 56bb8bd477a5... 100% ▕▏   96 B                         \u001b[K\n",
            "pulling 34bb5ab01051... 100% ▕▏  561 B                         \u001b[K\n",
            "verifying sha256 digest ⠧ \u001b[K\u001b[?25h\u001b[?2026l\u001b[?2026h\u001b[?25l\u001b[A\u001b[A\u001b[A\u001b[A\u001b[A\u001b[A\u001b[A\u001b[1Gpulling manifest \u001b[K\n",
            "pulling dde5aa3fc5ff... 100% ▕▏ 2.0 GB                         \u001b[K\n",
            "pulling 966de95ca8a6... 100% ▕▏ 1.4 KB                         \u001b[K\n",
            "pulling fcc5a6bec9da... 100% ▕▏ 7.7 KB                         \u001b[K\n",
            "pulling a70ff7e570d9... 100% ▕▏ 6.0 KB                         \u001b[K\n",
            "pulling 56bb8bd477a5... 100% ▕▏   96 B                         \u001b[K\n",
            "pulling 34bb5ab01051... 100% ▕▏  561 B                         \u001b[K\n",
            "verifying sha256 digest ⠇ \u001b[K\u001b[?25h\u001b[?2026l\u001b[?2026h\u001b[?25l\u001b[A\u001b[A\u001b[A\u001b[A\u001b[A\u001b[A\u001b[A\u001b[1Gpulling manifest \u001b[K\n",
            "pulling dde5aa3fc5ff... 100% ▕▏ 2.0 GB                         \u001b[K\n",
            "pulling 966de95ca8a6... 100% ▕▏ 1.4 KB                         \u001b[K\n",
            "pulling fcc5a6bec9da... 100% ▕▏ 7.7 KB                         \u001b[K\n",
            "pulling a70ff7e570d9... 100% ▕▏ 6.0 KB                         \u001b[K\n",
            "pulling 56bb8bd477a5... 100% ▕▏   96 B                         \u001b[K\n",
            "pulling 34bb5ab01051... 100% ▕▏  561 B                         \u001b[K\n",
            "verifying sha256 digest ⠏ \u001b[K\u001b[?25h\u001b[?2026l\u001b[?2026h\u001b[?25l\u001b[A\u001b[A\u001b[A\u001b[A\u001b[A\u001b[A\u001b[A\u001b[1Gpulling manifest \u001b[K\n",
            "pulling dde5aa3fc5ff... 100% ▕▏ 2.0 GB                         \u001b[K\n",
            "pulling 966de95ca8a6... 100% ▕▏ 1.4 KB                         \u001b[K\n",
            "pulling fcc5a6bec9da... 100% ▕▏ 7.7 KB                         \u001b[K\n",
            "pulling a70ff7e570d9... 100% ▕▏ 6.0 KB                         \u001b[K\n",
            "pulling 56bb8bd477a5... 100% ▕▏   96 B                         \u001b[K\n",
            "pulling 34bb5ab01051... 100% ▕▏  561 B                         \u001b[K\n",
            "verifying sha256 digest ⠋ \u001b[K\u001b[?25h\u001b[?2026l\u001b[?2026h\u001b[?25l\u001b[A\u001b[A\u001b[A\u001b[A\u001b[A\u001b[A\u001b[A\u001b[1Gpulling manifest \u001b[K\n",
            "pulling dde5aa3fc5ff... 100% ▕▏ 2.0 GB                         \u001b[K\n",
            "pulling 966de95ca8a6... 100% ▕▏ 1.4 KB                         \u001b[K\n",
            "pulling fcc5a6bec9da... 100% ▕▏ 7.7 KB                         \u001b[K\n",
            "pulling a70ff7e570d9... 100% ▕▏ 6.0 KB                         \u001b[K\n",
            "pulling 56bb8bd477a5... 100% ▕▏   96 B                         \u001b[K\n",
            "pulling 34bb5ab01051... 100% ▕▏  561 B                         \u001b[K\n",
            "verifying sha256 digest ⠙ \u001b[K\u001b[?25h\u001b[?2026l\u001b[?2026h\u001b[?25l\u001b[A\u001b[A\u001b[A\u001b[A\u001b[A\u001b[A\u001b[A\u001b[1Gpulling manifest \u001b[K\n",
            "pulling dde5aa3fc5ff... 100% ▕▏ 2.0 GB                         \u001b[K\n",
            "pulling 966de95ca8a6... 100% ▕▏ 1.4 KB                         \u001b[K\n",
            "pulling fcc5a6bec9da... 100% ▕▏ 7.7 KB                         \u001b[K\n",
            "pulling a70ff7e570d9... 100% ▕▏ 6.0 KB                         \u001b[K\n",
            "pulling 56bb8bd477a5... 100% ▕▏   96 B                         \u001b[K\n",
            "pulling 34bb5ab01051... 100% ▕▏  561 B                         \u001b[K\n",
            "verifying sha256 digest ⠹ \u001b[K\u001b[?25h\u001b[?2026l\u001b[?2026h\u001b[?25l\u001b[A\u001b[A\u001b[A\u001b[A\u001b[A\u001b[A\u001b[A\u001b[1Gpulling manifest \u001b[K\n",
            "pulling dde5aa3fc5ff... 100% ▕▏ 2.0 GB                         \u001b[K\n",
            "pulling 966de95ca8a6... 100% ▕▏ 1.4 KB                         \u001b[K\n",
            "pulling fcc5a6bec9da... 100% ▕▏ 7.7 KB                         \u001b[K\n",
            "pulling a70ff7e570d9... 100% ▕▏ 6.0 KB                         \u001b[K\n",
            "pulling 56bb8bd477a5... 100% ▕▏   96 B                         \u001b[K\n",
            "pulling 34bb5ab01051... 100% ▕▏  561 B                         \u001b[K\n",
            "verifying sha256 digest ⠸ \u001b[K\u001b[?25h\u001b[?2026l\u001b[?2026h\u001b[?25l\u001b[A\u001b[A\u001b[A\u001b[A\u001b[A\u001b[A\u001b[A\u001b[1Gpulling manifest \u001b[K\n",
            "pulling dde5aa3fc5ff... 100% ▕▏ 2.0 GB                         \u001b[K\n",
            "pulling 966de95ca8a6... 100% ▕▏ 1.4 KB                         \u001b[K\n",
            "pulling fcc5a6bec9da... 100% ▕▏ 7.7 KB                         \u001b[K\n",
            "pulling a70ff7e570d9... 100% ▕▏ 6.0 KB                         \u001b[K\n",
            "pulling 56bb8bd477a5... 100% ▕▏   96 B                         \u001b[K\n",
            "pulling 34bb5ab01051... 100% ▕▏  561 B                         \u001b[K\n",
            "verifying sha256 digest ⠼ \u001b[K\u001b[?25h\u001b[?2026l\u001b[?2026h\u001b[?25l\u001b[A\u001b[A\u001b[A\u001b[A\u001b[A\u001b[A\u001b[A\u001b[1Gpulling manifest \u001b[K\n",
            "pulling dde5aa3fc5ff... 100% ▕▏ 2.0 GB                         \u001b[K\n",
            "pulling 966de95ca8a6... 100% ▕▏ 1.4 KB                         \u001b[K\n",
            "pulling fcc5a6bec9da... 100% ▕▏ 7.7 KB                         \u001b[K\n",
            "pulling a70ff7e570d9... 100% ▕▏ 6.0 KB                         \u001b[K\n",
            "pulling 56bb8bd477a5... 100% ▕▏   96 B                         \u001b[K\n",
            "pulling 34bb5ab01051... 100% ▕▏  561 B                         \u001b[K\n",
            "verifying sha256 digest ⠴ \u001b[K\u001b[?25h\u001b[?2026l\u001b[?2026h\u001b[?25l\u001b[A\u001b[A\u001b[A\u001b[A\u001b[A\u001b[A\u001b[A\u001b[1Gpulling manifest \u001b[K\n",
            "pulling dde5aa3fc5ff... 100% ▕▏ 2.0 GB                         \u001b[K\n",
            "pulling 966de95ca8a6... 100% ▕▏ 1.4 KB                         \u001b[K\n",
            "pulling fcc5a6bec9da... 100% ▕▏ 7.7 KB                         \u001b[K\n",
            "pulling a70ff7e570d9... 100% ▕▏ 6.0 KB                         \u001b[K\n",
            "pulling 56bb8bd477a5... 100% ▕▏   96 B                         \u001b[K\n",
            "pulling 34bb5ab01051... 100% ▕▏  561 B                         \u001b[K\n",
            "verifying sha256 digest ⠦ \u001b[K\u001b[?25h\u001b[?2026l\u001b[?2026h\u001b[?25l\u001b[A\u001b[A\u001b[A\u001b[A\u001b[A\u001b[A\u001b[A\u001b[1Gpulling manifest \u001b[K\n",
            "pulling dde5aa3fc5ff... 100% ▕▏ 2.0 GB                         \u001b[K\n",
            "pulling 966de95ca8a6... 100% ▕▏ 1.4 KB                         \u001b[K\n",
            "pulling fcc5a6bec9da... 100% ▕▏ 7.7 KB                         \u001b[K\n",
            "pulling a70ff7e570d9... 100% ▕▏ 6.0 KB                         \u001b[K\n",
            "pulling 56bb8bd477a5... 100% ▕▏   96 B                         \u001b[K\n",
            "pulling 34bb5ab01051... 100% ▕▏  561 B                         \u001b[K\n",
            "verifying sha256 digest ⠧ \u001b[K\u001b[?25h\u001b[?2026l\u001b[?2026h\u001b[?25l\u001b[A\u001b[A\u001b[A\u001b[A\u001b[A\u001b[A\u001b[A\u001b[1Gpulling manifest \u001b[K\n",
            "pulling dde5aa3fc5ff... 100% ▕▏ 2.0 GB                         \u001b[K\n",
            "pulling 966de95ca8a6... 100% ▕▏ 1.4 KB                         \u001b[K\n",
            "pulling fcc5a6bec9da... 100% ▕▏ 7.7 KB                         \u001b[K\n",
            "pulling a70ff7e570d9... 100% ▕▏ 6.0 KB                         \u001b[K\n",
            "pulling 56bb8bd477a5... 100% ▕▏   96 B                         \u001b[K\n",
            "pulling 34bb5ab01051... 100% ▕▏  561 B                         \u001b[K\n",
            "verifying sha256 digest ⠇ \u001b[K\u001b[?25h\u001b[?2026l\u001b[?2026h\u001b[?25l\u001b[A\u001b[A\u001b[A\u001b[A\u001b[A\u001b[A\u001b[A\u001b[1Gpulling manifest \u001b[K\n",
            "pulling dde5aa3fc5ff... 100% ▕▏ 2.0 GB                         \u001b[K\n",
            "pulling 966de95ca8a6... 100% ▕▏ 1.4 KB                         \u001b[K\n",
            "pulling fcc5a6bec9da... 100% ▕▏ 7.7 KB                         \u001b[K\n",
            "pulling a70ff7e570d9... 100% ▕▏ 6.0 KB                         \u001b[K\n",
            "pulling 56bb8bd477a5... 100% ▕▏   96 B                         \u001b[K\n",
            "pulling 34bb5ab01051... 100% ▕▏  561 B                         \u001b[K\n",
            "verifying sha256 digest ⠏ \u001b[K\u001b[?25h\u001b[?2026l\u001b[?2026h\u001b[?25l\u001b[A\u001b[A\u001b[A\u001b[A\u001b[A\u001b[A\u001b[A\u001b[1Gpulling manifest \u001b[K\n",
            "pulling dde5aa3fc5ff... 100% ▕▏ 2.0 GB                         \u001b[K\n",
            "pulling 966de95ca8a6... 100% ▕▏ 1.4 KB                         \u001b[K\n",
            "pulling fcc5a6bec9da... 100% ▕▏ 7.7 KB                         \u001b[K\n",
            "pulling a70ff7e570d9... 100% ▕▏ 6.0 KB                         \u001b[K\n",
            "pulling 56bb8bd477a5... 100% ▕▏   96 B                         \u001b[K\n",
            "pulling 34bb5ab01051... 100% ▕▏  561 B                         \u001b[K\n",
            "verifying sha256 digest ⠋ \u001b[K\u001b[?25h\u001b[?2026l\u001b[?2026h\u001b[?25l\u001b[A\u001b[A\u001b[A\u001b[A\u001b[A\u001b[A\u001b[A\u001b[1Gpulling manifest \u001b[K\n",
            "pulling dde5aa3fc5ff... 100% ▕▏ 2.0 GB                         \u001b[K\n",
            "pulling 966de95ca8a6... 100% ▕▏ 1.4 KB                         \u001b[K\n",
            "pulling fcc5a6bec9da... 100% ▕▏ 7.7 KB                         \u001b[K\n",
            "pulling a70ff7e570d9... 100% ▕▏ 6.0 KB                         \u001b[K\n",
            "pulling 56bb8bd477a5... 100% ▕▏   96 B                         \u001b[K\n",
            "pulling 34bb5ab01051... 100% ▕▏  561 B                         \u001b[K\n",
            "verifying sha256 digest ⠙ \u001b[K\u001b[?25h\u001b[?2026l\u001b[?2026h\u001b[?25l\u001b[A\u001b[A\u001b[A\u001b[A\u001b[A\u001b[A\u001b[A\u001b[1Gpulling manifest \u001b[K\n",
            "pulling dde5aa3fc5ff... 100% ▕▏ 2.0 GB                         \u001b[K\n",
            "pulling 966de95ca8a6... 100% ▕▏ 1.4 KB                         \u001b[K\n",
            "pulling fcc5a6bec9da... 100% ▕▏ 7.7 KB                         \u001b[K\n",
            "pulling a70ff7e570d9... 100% ▕▏ 6.0 KB                         \u001b[K\n",
            "pulling 56bb8bd477a5... 100% ▕▏   96 B                         \u001b[K\n",
            "pulling 34bb5ab01051... 100% ▕▏  561 B                         \u001b[K\n",
            "verifying sha256 digest ⠹ \u001b[K\u001b[?25h\u001b[?2026l\u001b[?2026h\u001b[?25l\u001b[A\u001b[A\u001b[A\u001b[A\u001b[A\u001b[A\u001b[A\u001b[1Gpulling manifest \u001b[K\n",
            "pulling dde5aa3fc5ff... 100% ▕▏ 2.0 GB                         \u001b[K\n",
            "pulling 966de95ca8a6... 100% ▕▏ 1.4 KB                         \u001b[K\n",
            "pulling fcc5a6bec9da... 100% ▕▏ 7.7 KB                         \u001b[K\n",
            "pulling a70ff7e570d9... 100% ▕▏ 6.0 KB                         \u001b[K\n",
            "pulling 56bb8bd477a5... 100% ▕▏   96 B                         \u001b[K\n",
            "pulling 34bb5ab01051... 100% ▕▏  561 B                         \u001b[K\n",
            "verifying sha256 digest ⠸ \u001b[K\u001b[?25h\u001b[?2026l\u001b[?2026h\u001b[?25l\u001b[A\u001b[A\u001b[A\u001b[A\u001b[A\u001b[A\u001b[A\u001b[1Gpulling manifest \u001b[K\n",
            "pulling dde5aa3fc5ff... 100% ▕▏ 2.0 GB                         \u001b[K\n",
            "pulling 966de95ca8a6... 100% ▕▏ 1.4 KB                         \u001b[K\n",
            "pulling fcc5a6bec9da... 100% ▕▏ 7.7 KB                         \u001b[K\n",
            "pulling a70ff7e570d9... 100% ▕▏ 6.0 KB                         \u001b[K\n",
            "pulling 56bb8bd477a5... 100% ▕▏   96 B                         \u001b[K\n",
            "pulling 34bb5ab01051... 100% ▕▏  561 B                         \u001b[K\n",
            "verifying sha256 digest ⠼ \u001b[K\u001b[?25h\u001b[?2026l\u001b[?2026h\u001b[?25l\u001b[A\u001b[A\u001b[A\u001b[A\u001b[A\u001b[A\u001b[A\u001b[1Gpulling manifest \u001b[K\n",
            "pulling dde5aa3fc5ff... 100% ▕▏ 2.0 GB                         \u001b[K\n",
            "pulling 966de95ca8a6... 100% ▕▏ 1.4 KB                         \u001b[K\n",
            "pulling fcc5a6bec9da... 100% ▕▏ 7.7 KB                         \u001b[K\n",
            "pulling a70ff7e570d9... 100% ▕▏ 6.0 KB                         \u001b[K\n",
            "pulling 56bb8bd477a5... 100% ▕▏   96 B                         \u001b[K\n",
            "pulling 34bb5ab01051... 100% ▕▏  561 B                         \u001b[K\n",
            "verifying sha256 digest ⠴ \u001b[K\u001b[?25h\u001b[?2026l\u001b[?2026h\u001b[?25l\u001b[A\u001b[A\u001b[A\u001b[A\u001b[A\u001b[A\u001b[A\u001b[1Gpulling manifest \u001b[K\n",
            "pulling dde5aa3fc5ff... 100% ▕▏ 2.0 GB                         \u001b[K\n",
            "pulling 966de95ca8a6... 100% ▕▏ 1.4 KB                         \u001b[K\n",
            "pulling fcc5a6bec9da... 100% ▕▏ 7.7 KB                         \u001b[K\n",
            "pulling a70ff7e570d9... 100% ▕▏ 6.0 KB                         \u001b[K\n",
            "pulling 56bb8bd477a5... 100% ▕▏   96 B                         \u001b[K\n",
            "pulling 34bb5ab01051... 100% ▕▏  561 B                         \u001b[K\n",
            "verifying sha256 digest ⠦ \u001b[K\u001b[?25h\u001b[?2026l\u001b[?2026h\u001b[?25l\u001b[A\u001b[A\u001b[A\u001b[A\u001b[A\u001b[A\u001b[A\u001b[1Gpulling manifest \u001b[K\n",
            "pulling dde5aa3fc5ff... 100% ▕▏ 2.0 GB                         \u001b[K\n",
            "pulling 966de95ca8a6... 100% ▕▏ 1.4 KB                         \u001b[K\n",
            "pulling fcc5a6bec9da... 100% ▕▏ 7.7 KB                         \u001b[K\n",
            "pulling a70ff7e570d9... 100% ▕▏ 6.0 KB                         \u001b[K\n",
            "pulling 56bb8bd477a5... 100% ▕▏   96 B                         \u001b[K\n",
            "pulling 34bb5ab01051... 100% ▕▏  561 B                         \u001b[K\n",
            "verifying sha256 digest ⠧ \u001b[K\u001b[?25h\u001b[?2026l\u001b[?2026h\u001b[?25l\u001b[A\u001b[A\u001b[A\u001b[A\u001b[A\u001b[A\u001b[A\u001b[1Gpulling manifest \u001b[K\n",
            "pulling dde5aa3fc5ff... 100% ▕▏ 2.0 GB                         \u001b[K\n",
            "pulling 966de95ca8a6... 100% ▕▏ 1.4 KB                         \u001b[K\n",
            "pulling fcc5a6bec9da... 100% ▕▏ 7.7 KB                         \u001b[K\n",
            "pulling a70ff7e570d9... 100% ▕▏ 6.0 KB                         \u001b[K\n",
            "pulling 56bb8bd477a5... 100% ▕▏   96 B                         \u001b[K\n",
            "pulling 34bb5ab01051... 100% ▕▏  561 B                         \u001b[K\n",
            "verifying sha256 digest ⠇ \u001b[K\u001b[?25h\u001b[?2026l\u001b[?2026h\u001b[?25l\u001b[A\u001b[A\u001b[A\u001b[A\u001b[A\u001b[A\u001b[A\u001b[1Gpulling manifest \u001b[K\n",
            "pulling dde5aa3fc5ff... 100% ▕▏ 2.0 GB                         \u001b[K\n",
            "pulling 966de95ca8a6... 100% ▕▏ 1.4 KB                         \u001b[K\n",
            "pulling fcc5a6bec9da... 100% ▕▏ 7.7 KB                         \u001b[K\n",
            "pulling a70ff7e570d9... 100% ▕▏ 6.0 KB                         \u001b[K\n",
            "pulling 56bb8bd477a5... 100% ▕▏   96 B                         \u001b[K\n",
            "pulling 34bb5ab01051... 100% ▕▏  561 B                         \u001b[K\n",
            "verifying sha256 digest ⠏ \u001b[K\u001b[?25h\u001b[?2026l\u001b[?2026h\u001b[?25l\u001b[A\u001b[A\u001b[A\u001b[A\u001b[A\u001b[A\u001b[A\u001b[1Gpulling manifest \u001b[K\n",
            "pulling dde5aa3fc5ff... 100% ▕▏ 2.0 GB                         \u001b[K\n",
            "pulling 966de95ca8a6... 100% ▕▏ 1.4 KB                         \u001b[K\n",
            "pulling fcc5a6bec9da... 100% ▕▏ 7.7 KB                         \u001b[K\n",
            "pulling a70ff7e570d9... 100% ▕▏ 6.0 KB                         \u001b[K\n",
            "pulling 56bb8bd477a5... 100% ▕▏   96 B                         \u001b[K\n",
            "pulling 34bb5ab01051... 100% ▕▏  561 B                         \u001b[K\n",
            "verifying sha256 digest ⠋ \u001b[K\u001b[?25h\u001b[?2026l\u001b[?2026h\u001b[?25l\u001b[A\u001b[A\u001b[A\u001b[A\u001b[A\u001b[A\u001b[A\u001b[1Gpulling manifest \u001b[K\n",
            "pulling dde5aa3fc5ff... 100% ▕▏ 2.0 GB                         \u001b[K\n",
            "pulling 966de95ca8a6... 100% ▕▏ 1.4 KB                         \u001b[K\n",
            "pulling fcc5a6bec9da... 100% ▕▏ 7.7 KB                         \u001b[K\n",
            "pulling a70ff7e570d9... 100% ▕▏ 6.0 KB                         \u001b[K\n",
            "pulling 56bb8bd477a5... 100% ▕▏   96 B                         \u001b[K\n",
            "pulling 34bb5ab01051... 100% ▕▏  561 B                         \u001b[K\n",
            "verifying sha256 digest ⠙ \u001b[K\u001b[?25h\u001b[?2026l\u001b[?2026h\u001b[?25l\u001b[A\u001b[A\u001b[A\u001b[A\u001b[A\u001b[A\u001b[A\u001b[1Gpulling manifest \u001b[K\n",
            "pulling dde5aa3fc5ff... 100% ▕▏ 2.0 GB                         \u001b[K\n",
            "pulling 966de95ca8a6... 100% ▕▏ 1.4 KB                         \u001b[K\n",
            "pulling fcc5a6bec9da... 100% ▕▏ 7.7 KB                         \u001b[K\n",
            "pulling a70ff7e570d9... 100% ▕▏ 6.0 KB                         \u001b[K\n",
            "pulling 56bb8bd477a5... 100% ▕▏   96 B                         \u001b[K\n",
            "pulling 34bb5ab01051... 100% ▕▏  561 B                         \u001b[K\n",
            "verifying sha256 digest ⠹ \u001b[K\u001b[?25h\u001b[?2026l\u001b[?2026h\u001b[?25l\u001b[A\u001b[A\u001b[A\u001b[A\u001b[A\u001b[A\u001b[A\u001b[1Gpulling manifest \u001b[K\n",
            "pulling dde5aa3fc5ff... 100% ▕▏ 2.0 GB                         \u001b[K\n",
            "pulling 966de95ca8a6... 100% ▕▏ 1.4 KB                         \u001b[K\n",
            "pulling fcc5a6bec9da... 100% ▕▏ 7.7 KB                         \u001b[K\n",
            "pulling a70ff7e570d9... 100% ▕▏ 6.0 KB                         \u001b[K\n",
            "pulling 56bb8bd477a5... 100% ▕▏   96 B                         \u001b[K\n",
            "pulling 34bb5ab01051... 100% ▕▏  561 B                         \u001b[K\n",
            "verifying sha256 digest ⠸ \u001b[K\u001b[?25h\u001b[?2026l\u001b[?2026h\u001b[?25l\u001b[A\u001b[A\u001b[A\u001b[A\u001b[A\u001b[A\u001b[A\u001b[1Gpulling manifest \u001b[K\n",
            "pulling dde5aa3fc5ff... 100% ▕▏ 2.0 GB                         \u001b[K\n",
            "pulling 966de95ca8a6... 100% ▕▏ 1.4 KB                         \u001b[K\n",
            "pulling fcc5a6bec9da... 100% ▕▏ 7.7 KB                         \u001b[K\n",
            "pulling a70ff7e570d9... 100% ▕▏ 6.0 KB                         \u001b[K\n",
            "pulling 56bb8bd477a5... 100% ▕▏   96 B                         \u001b[K\n",
            "pulling 34bb5ab01051... 100% ▕▏  561 B                         \u001b[K\n",
            "verifying sha256 digest ⠼ \u001b[K\u001b[?25h\u001b[?2026l\u001b[?2026h\u001b[?25l\u001b[A\u001b[A\u001b[A\u001b[A\u001b[A\u001b[A\u001b[A\u001b[1Gpulling manifest \u001b[K\n",
            "pulling dde5aa3fc5ff... 100% ▕▏ 2.0 GB                         \u001b[K\n",
            "pulling 966de95ca8a6... 100% ▕▏ 1.4 KB                         \u001b[K\n",
            "pulling fcc5a6bec9da... 100% ▕▏ 7.7 KB                         \u001b[K\n",
            "pulling a70ff7e570d9... 100% ▕▏ 6.0 KB                         \u001b[K\n",
            "pulling 56bb8bd477a5... 100% ▕▏   96 B                         \u001b[K\n",
            "pulling 34bb5ab01051... 100% ▕▏  561 B                         \u001b[K\n",
            "verifying sha256 digest ⠴ \u001b[K\u001b[?25h\u001b[?2026l\u001b[?2026h\u001b[?25l\u001b[A\u001b[A\u001b[A\u001b[A\u001b[A\u001b[A\u001b[A\u001b[1Gpulling manifest \u001b[K\n",
            "pulling dde5aa3fc5ff... 100% ▕▏ 2.0 GB                         \u001b[K\n",
            "pulling 966de95ca8a6... 100% ▕▏ 1.4 KB                         \u001b[K\n",
            "pulling fcc5a6bec9da... 100% ▕▏ 7.7 KB                         \u001b[K\n",
            "pulling a70ff7e570d9... 100% ▕▏ 6.0 KB                         \u001b[K\n",
            "pulling 56bb8bd477a5... 100% ▕▏   96 B                         \u001b[K\n",
            "pulling 34bb5ab01051... 100% ▕▏  561 B                         \u001b[K\n",
            "verifying sha256 digest ⠦ \u001b[K\u001b[?25h\u001b[?2026l\u001b[?2026h\u001b[?25l\u001b[A\u001b[A\u001b[A\u001b[A\u001b[A\u001b[A\u001b[A\u001b[1Gpulling manifest \u001b[K\n",
            "pulling dde5aa3fc5ff... 100% ▕▏ 2.0 GB                         \u001b[K\n",
            "pulling 966de95ca8a6... 100% ▕▏ 1.4 KB                         \u001b[K\n",
            "pulling fcc5a6bec9da... 100% ▕▏ 7.7 KB                         \u001b[K\n",
            "pulling a70ff7e570d9... 100% ▕▏ 6.0 KB                         \u001b[K\n",
            "pulling 56bb8bd477a5... 100% ▕▏   96 B                         \u001b[K\n",
            "pulling 34bb5ab01051... 100% ▕▏  561 B                         \u001b[K\n",
            "verifying sha256 digest ⠧ \u001b[K\u001b[?25h\u001b[?2026l\u001b[?2026h\u001b[?25l\u001b[A\u001b[A\u001b[A\u001b[A\u001b[A\u001b[A\u001b[A\u001b[1Gpulling manifest \u001b[K\n",
            "pulling dde5aa3fc5ff... 100% ▕▏ 2.0 GB                         \u001b[K\n",
            "pulling 966de95ca8a6... 100% ▕▏ 1.4 KB                         \u001b[K\n",
            "pulling fcc5a6bec9da... 100% ▕▏ 7.7 KB                         \u001b[K\n",
            "pulling a70ff7e570d9... 100% ▕▏ 6.0 KB                         \u001b[K\n",
            "pulling 56bb8bd477a5... 100% ▕▏   96 B                         \u001b[K\n",
            "pulling 34bb5ab01051... 100% ▕▏  561 B                         \u001b[K\n",
            "verifying sha256 digest ⠇ \u001b[K\u001b[?25h\u001b[?2026l\u001b[?2026h\u001b[?25l\u001b[A\u001b[A\u001b[A\u001b[A\u001b[A\u001b[A\u001b[A\u001b[1Gpulling manifest \u001b[K\n",
            "pulling dde5aa3fc5ff... 100% ▕▏ 2.0 GB                         \u001b[K\n",
            "pulling 966de95ca8a6... 100% ▕▏ 1.4 KB                         \u001b[K\n",
            "pulling fcc5a6bec9da... 100% ▕▏ 7.7 KB                         \u001b[K\n",
            "pulling a70ff7e570d9... 100% ▕▏ 6.0 KB                         \u001b[K\n",
            "pulling 56bb8bd477a5... 100% ▕▏   96 B                         \u001b[K\n",
            "pulling 34bb5ab01051... 100% ▕▏  561 B                         \u001b[K\n",
            "verifying sha256 digest ⠏ \u001b[K\u001b[?25h\u001b[?2026l\u001b[?2026h\u001b[?25l\u001b[A\u001b[A\u001b[A\u001b[A\u001b[A\u001b[A\u001b[A\u001b[1Gpulling manifest \u001b[K\n",
            "pulling dde5aa3fc5ff... 100% ▕▏ 2.0 GB                         \u001b[K\n",
            "pulling 966de95ca8a6... 100% ▕▏ 1.4 KB                         \u001b[K\n",
            "pulling fcc5a6bec9da... 100% ▕▏ 7.7 KB                         \u001b[K\n",
            "pulling a70ff7e570d9... 100% ▕▏ 6.0 KB                         \u001b[K\n",
            "pulling 56bb8bd477a5... 100% ▕▏   96 B                         \u001b[K\n",
            "pulling 34bb5ab01051... 100% ▕▏  561 B                         \u001b[K\n",
            "verifying sha256 digest ⠋ \u001b[K\u001b[?25h\u001b[?2026l\u001b[?2026h\u001b[?25l\u001b[A\u001b[A\u001b[A\u001b[A\u001b[A\u001b[A\u001b[A\u001b[1Gpulling manifest \u001b[K\n",
            "pulling dde5aa3fc5ff... 100% ▕▏ 2.0 GB                         \u001b[K\n",
            "pulling 966de95ca8a6... 100% ▕▏ 1.4 KB                         \u001b[K\n",
            "pulling fcc5a6bec9da... 100% ▕▏ 7.7 KB                         \u001b[K\n",
            "pulling a70ff7e570d9... 100% ▕▏ 6.0 KB                         \u001b[K\n",
            "pulling 56bb8bd477a5... 100% ▕▏   96 B                         \u001b[K\n",
            "pulling 34bb5ab01051... 100% ▕▏  561 B                         \u001b[K\n",
            "verifying sha256 digest ⠙ \u001b[K\u001b[?25h\u001b[?2026l\u001b[?2026h\u001b[?25l\u001b[A\u001b[A\u001b[A\u001b[A\u001b[A\u001b[A\u001b[A\u001b[1Gpulling manifest \u001b[K\n",
            "pulling dde5aa3fc5ff... 100% ▕▏ 2.0 GB                         \u001b[K\n",
            "pulling 966de95ca8a6... 100% ▕▏ 1.4 KB                         \u001b[K\n",
            "pulling fcc5a6bec9da... 100% ▕▏ 7.7 KB                         \u001b[K\n",
            "pulling a70ff7e570d9... 100% ▕▏ 6.0 KB                         \u001b[K\n",
            "pulling 56bb8bd477a5... 100% ▕▏   96 B                         \u001b[K\n",
            "pulling 34bb5ab01051... 100% ▕▏  561 B                         \u001b[K\n",
            "verifying sha256 digest ⠹ \u001b[K\u001b[?25h\u001b[?2026l\u001b[?2026h\u001b[?25l\u001b[A\u001b[A\u001b[A\u001b[A\u001b[A\u001b[A\u001b[A\u001b[1Gpulling manifest \u001b[K\n",
            "pulling dde5aa3fc5ff... 100% ▕▏ 2.0 GB                         \u001b[K\n",
            "pulling 966de95ca8a6... 100% ▕▏ 1.4 KB                         \u001b[K\n",
            "pulling fcc5a6bec9da... 100% ▕▏ 7.7 KB                         \u001b[K\n",
            "pulling a70ff7e570d9... 100% ▕▏ 6.0 KB                         \u001b[K\n",
            "pulling 56bb8bd477a5... 100% ▕▏   96 B                         \u001b[K\n",
            "pulling 34bb5ab01051... 100% ▕▏  561 B                         \u001b[K\n",
            "verifying sha256 digest ⠸ \u001b[K\u001b[?25h\u001b[?2026l\u001b[?2026h\u001b[?25l\u001b[A\u001b[A\u001b[A\u001b[A\u001b[A\u001b[A\u001b[A\u001b[1Gpulling manifest \u001b[K\n",
            "pulling dde5aa3fc5ff... 100% ▕▏ 2.0 GB                         \u001b[K\n",
            "pulling 966de95ca8a6... 100% ▕▏ 1.4 KB                         \u001b[K\n",
            "pulling fcc5a6bec9da... 100% ▕▏ 7.7 KB                         \u001b[K\n",
            "pulling a70ff7e570d9... 100% ▕▏ 6.0 KB                         \u001b[K\n",
            "pulling 56bb8bd477a5... 100% ▕▏   96 B                         \u001b[K\n",
            "pulling 34bb5ab01051... 100% ▕▏  561 B                         \u001b[K\n",
            "verifying sha256 digest ⠼ \u001b[K\u001b[?25h\u001b[?2026l\u001b[?2026h\u001b[?25l\u001b[A\u001b[A\u001b[A\u001b[A\u001b[A\u001b[A\u001b[A\u001b[1Gpulling manifest \u001b[K\n",
            "pulling dde5aa3fc5ff... 100% ▕▏ 2.0 GB                         \u001b[K\n",
            "pulling 966de95ca8a6... 100% ▕▏ 1.4 KB                         \u001b[K\n",
            "pulling fcc5a6bec9da... 100% ▕▏ 7.7 KB                         \u001b[K\n",
            "pulling a70ff7e570d9... 100% ▕▏ 6.0 KB                         \u001b[K\n",
            "pulling 56bb8bd477a5... 100% ▕▏   96 B                         \u001b[K\n",
            "pulling 34bb5ab01051... 100% ▕▏  561 B                         \u001b[K\n",
            "verifying sha256 digest ⠴ \u001b[K\u001b[?25h\u001b[?2026l\u001b[?2026h\u001b[?25l\u001b[A\u001b[A\u001b[A\u001b[A\u001b[A\u001b[A\u001b[A\u001b[1Gpulling manifest \u001b[K\n",
            "pulling dde5aa3fc5ff... 100% ▕▏ 2.0 GB                         \u001b[K\n",
            "pulling 966de95ca8a6... 100% ▕▏ 1.4 KB                         \u001b[K\n",
            "pulling fcc5a6bec9da... 100% ▕▏ 7.7 KB                         \u001b[K\n",
            "pulling a70ff7e570d9... 100% ▕▏ 6.0 KB                         \u001b[K\n",
            "pulling 56bb8bd477a5... 100% ▕▏   96 B                         \u001b[K\n",
            "pulling 34bb5ab01051... 100% ▕▏  561 B                         \u001b[K\n",
            "verifying sha256 digest ⠦ \u001b[K\u001b[?25h\u001b[?2026l\u001b[?2026h\u001b[?25l\u001b[A\u001b[A\u001b[A\u001b[A\u001b[A\u001b[A\u001b[A\u001b[1Gpulling manifest \u001b[K\n",
            "pulling dde5aa3fc5ff... 100% ▕▏ 2.0 GB                         \u001b[K\n",
            "pulling 966de95ca8a6... 100% ▕▏ 1.4 KB                         \u001b[K\n",
            "pulling fcc5a6bec9da... 100% ▕▏ 7.7 KB                         \u001b[K\n",
            "pulling a70ff7e570d9... 100% ▕▏ 6.0 KB                         \u001b[K\n",
            "pulling 56bb8bd477a5... 100% ▕▏   96 B                         \u001b[K\n",
            "pulling 34bb5ab01051... 100% ▕▏  561 B                         \u001b[K\n",
            "verifying sha256 digest ⠧ \u001b[K\u001b[?25h\u001b[?2026l\u001b[?2026h\u001b[?25l\u001b[A\u001b[A\u001b[A\u001b[A\u001b[A\u001b[A\u001b[A\u001b[1Gpulling manifest \u001b[K\n",
            "pulling dde5aa3fc5ff... 100% ▕▏ 2.0 GB                         \u001b[K\n",
            "pulling 966de95ca8a6... 100% ▕▏ 1.4 KB                         \u001b[K\n",
            "pulling fcc5a6bec9da... 100% ▕▏ 7.7 KB                         \u001b[K\n",
            "pulling a70ff7e570d9... 100% ▕▏ 6.0 KB                         \u001b[K\n",
            "pulling 56bb8bd477a5... 100% ▕▏   96 B                         \u001b[K\n",
            "pulling 34bb5ab01051... 100% ▕▏  561 B                         \u001b[K\n",
            "verifying sha256 digest ⠇ \u001b[K\u001b[?25h\u001b[?2026l\u001b[?2026h\u001b[?25l\u001b[A\u001b[A\u001b[A\u001b[A\u001b[A\u001b[A\u001b[A\u001b[1Gpulling manifest \u001b[K\n",
            "pulling dde5aa3fc5ff... 100% ▕▏ 2.0 GB                         \u001b[K\n",
            "pulling 966de95ca8a6... 100% ▕▏ 1.4 KB                         \u001b[K\n",
            "pulling fcc5a6bec9da... 100% ▕▏ 7.7 KB                         \u001b[K\n",
            "pulling a70ff7e570d9... 100% ▕▏ 6.0 KB                         \u001b[K\n",
            "pulling 56bb8bd477a5... 100% ▕▏   96 B                         \u001b[K\n",
            "pulling 34bb5ab01051... 100% ▕▏  561 B                         \u001b[K\n",
            "verifying sha256 digest ⠏ \u001b[K\u001b[?25h\u001b[?2026l\u001b[?2026h\u001b[?25l\u001b[A\u001b[A\u001b[A\u001b[A\u001b[A\u001b[A\u001b[A\u001b[1Gpulling manifest \u001b[K\n",
            "pulling dde5aa3fc5ff... 100% ▕▏ 2.0 GB                         \u001b[K\n",
            "pulling 966de95ca8a6... 100% ▕▏ 1.4 KB                         \u001b[K\n",
            "pulling fcc5a6bec9da... 100% ▕▏ 7.7 KB                         \u001b[K\n",
            "pulling a70ff7e570d9... 100% ▕▏ 6.0 KB                         \u001b[K\n",
            "pulling 56bb8bd477a5... 100% ▕▏   96 B                         \u001b[K\n",
            "pulling 34bb5ab01051... 100% ▕▏  561 B                         \u001b[K\n",
            "verifying sha256 digest ⠋ \u001b[K\u001b[?25h\u001b[?2026l\u001b[?2026h\u001b[?25l\u001b[A\u001b[A\u001b[A\u001b[A\u001b[A\u001b[A\u001b[A\u001b[1Gpulling manifest \u001b[K\n",
            "pulling dde5aa3fc5ff... 100% ▕▏ 2.0 GB                         \u001b[K\n",
            "pulling 966de95ca8a6... 100% ▕▏ 1.4 KB                         \u001b[K\n",
            "pulling fcc5a6bec9da... 100% ▕▏ 7.7 KB                         \u001b[K\n",
            "pulling a70ff7e570d9... 100% ▕▏ 6.0 KB                         \u001b[K\n",
            "pulling 56bb8bd477a5... 100% ▕▏   96 B                         \u001b[K\n",
            "pulling 34bb5ab01051... 100% ▕▏  561 B                         \u001b[K\n",
            "verifying sha256 digest ⠙ \u001b[K\u001b[?25h\u001b[?2026l\u001b[?2026h\u001b[?25l\u001b[A\u001b[A\u001b[A\u001b[A\u001b[A\u001b[A\u001b[A\u001b[1Gpulling manifest \u001b[K\n",
            "pulling dde5aa3fc5ff... 100% ▕▏ 2.0 GB                         \u001b[K\n",
            "pulling 966de95ca8a6... 100% ▕▏ 1.4 KB                         \u001b[K\n",
            "pulling fcc5a6bec9da... 100% ▕▏ 7.7 KB                         \u001b[K\n",
            "pulling a70ff7e570d9... 100% ▕▏ 6.0 KB                         \u001b[K\n",
            "pulling 56bb8bd477a5... 100% ▕▏   96 B                         \u001b[K\n",
            "pulling 34bb5ab01051... 100% ▕▏  561 B                         \u001b[K\n",
            "verifying sha256 digest ⠹ \u001b[K\u001b[?25h\u001b[?2026l\u001b[?2026h\u001b[?25l\u001b[A\u001b[A\u001b[A\u001b[A\u001b[A\u001b[A\u001b[A\u001b[1Gpulling manifest \u001b[K\n",
            "pulling dde5aa3fc5ff... 100% ▕▏ 2.0 GB                         \u001b[K\n",
            "pulling 966de95ca8a6... 100% ▕▏ 1.4 KB                         \u001b[K\n",
            "pulling fcc5a6bec9da... 100% ▕▏ 7.7 KB                         \u001b[K\n",
            "pulling a70ff7e570d9... 100% ▕▏ 6.0 KB                         \u001b[K\n",
            "pulling 56bb8bd477a5... 100% ▕▏   96 B                         \u001b[K\n",
            "pulling 34bb5ab01051... 100% ▕▏  561 B                         \u001b[K\n",
            "verifying sha256 digest ⠸ \u001b[K\u001b[?25h\u001b[?2026l\u001b[?2026h\u001b[?25l\u001b[A\u001b[A\u001b[A\u001b[A\u001b[A\u001b[A\u001b[A\u001b[1Gpulling manifest \u001b[K\n",
            "pulling dde5aa3fc5ff... 100% ▕▏ 2.0 GB                         \u001b[K\n",
            "pulling 966de95ca8a6... 100% ▕▏ 1.4 KB                         \u001b[K\n",
            "pulling fcc5a6bec9da... 100% ▕▏ 7.7 KB                         \u001b[K\n",
            "pulling a70ff7e570d9... 100% ▕▏ 6.0 KB                         \u001b[K\n",
            "pulling 56bb8bd477a5... 100% ▕▏   96 B                         \u001b[K\n",
            "pulling 34bb5ab01051... 100% ▕▏  561 B                         \u001b[K\n",
            "verifying sha256 digest ⠼ \u001b[K\u001b[?25h\u001b[?2026l\u001b[?2026h\u001b[?25l\u001b[A\u001b[A\u001b[A\u001b[A\u001b[A\u001b[A\u001b[A\u001b[1Gpulling manifest \u001b[K\n",
            "pulling dde5aa3fc5ff... 100% ▕▏ 2.0 GB                         \u001b[K\n",
            "pulling 966de95ca8a6... 100% ▕▏ 1.4 KB                         \u001b[K\n",
            "pulling fcc5a6bec9da... 100% ▕▏ 7.7 KB                         \u001b[K\n",
            "pulling a70ff7e570d9... 100% ▕▏ 6.0 KB                         \u001b[K\n",
            "pulling 56bb8bd477a5... 100% ▕▏   96 B                         \u001b[K\n",
            "pulling 34bb5ab01051... 100% ▕▏  561 B                         \u001b[K\n",
            "verifying sha256 digest ⠴ \u001b[K\u001b[?25h\u001b[?2026l\u001b[?2026h\u001b[?25l\u001b[A\u001b[A\u001b[A\u001b[A\u001b[A\u001b[A\u001b[A\u001b[1Gpulling manifest \u001b[K\n",
            "pulling dde5aa3fc5ff... 100% ▕▏ 2.0 GB                         \u001b[K\n",
            "pulling 966de95ca8a6... 100% ▕▏ 1.4 KB                         \u001b[K\n",
            "pulling fcc5a6bec9da... 100% ▕▏ 7.7 KB                         \u001b[K\n",
            "pulling a70ff7e570d9... 100% ▕▏ 6.0 KB                         \u001b[K\n",
            "pulling 56bb8bd477a5... 100% ▕▏   96 B                         \u001b[K\n",
            "pulling 34bb5ab01051... 100% ▕▏  561 B                         \u001b[K\n",
            "verifying sha256 digest ⠦ \u001b[K\u001b[?25h\u001b[?2026l\u001b[?2026h\u001b[?25l\u001b[A\u001b[A\u001b[A\u001b[A\u001b[A\u001b[A\u001b[A\u001b[1Gpulling manifest \u001b[K\n",
            "pulling dde5aa3fc5ff... 100% ▕▏ 2.0 GB                         \u001b[K\n",
            "pulling 966de95ca8a6... 100% ▕▏ 1.4 KB                         \u001b[K\n",
            "pulling fcc5a6bec9da... 100% ▕▏ 7.7 KB                         \u001b[K\n",
            "pulling a70ff7e570d9... 100% ▕▏ 6.0 KB                         \u001b[K\n",
            "pulling 56bb8bd477a5... 100% ▕▏   96 B                         \u001b[K\n",
            "pulling 34bb5ab01051... 100% ▕▏  561 B                         \u001b[K\n",
            "verifying sha256 digest ⠧ \u001b[K\u001b[?25h\u001b[?2026l\u001b[?2026h\u001b[?25l\u001b[A\u001b[A\u001b[A\u001b[A\u001b[A\u001b[A\u001b[A\u001b[1Gpulling manifest \u001b[K\n",
            "pulling dde5aa3fc5ff... 100% ▕▏ 2.0 GB                         \u001b[K\n",
            "pulling 966de95ca8a6... 100% ▕▏ 1.4 KB                         \u001b[K\n",
            "pulling fcc5a6bec9da... 100% ▕▏ 7.7 KB                         \u001b[K\n",
            "pulling a70ff7e570d9... 100% ▕▏ 6.0 KB                         \u001b[K\n",
            "pulling 56bb8bd477a5... 100% ▕▏   96 B                         \u001b[K\n",
            "pulling 34bb5ab01051... 100% ▕▏  561 B                         \u001b[K\n",
            "verifying sha256 digest ⠇ \u001b[K\u001b[?25h\u001b[?2026l\u001b[?2026h\u001b[?25l\u001b[A\u001b[A\u001b[A\u001b[A\u001b[A\u001b[A\u001b[A\u001b[1Gpulling manifest \u001b[K\n",
            "pulling dde5aa3fc5ff... 100% ▕▏ 2.0 GB                         \u001b[K\n",
            "pulling 966de95ca8a6... 100% ▕▏ 1.4 KB                         \u001b[K\n",
            "pulling fcc5a6bec9da... 100% ▕▏ 7.7 KB                         \u001b[K\n",
            "pulling a70ff7e570d9... 100% ▕▏ 6.0 KB                         \u001b[K\n",
            "pulling 56bb8bd477a5... 100% ▕▏   96 B                         \u001b[K\n",
            "pulling 34bb5ab01051... 100% ▕▏  561 B                         \u001b[K\n",
            "verifying sha256 digest ⠏ \u001b[K\u001b[?25h\u001b[?2026l\u001b[?2026h\u001b[?25l\u001b[A\u001b[A\u001b[A\u001b[A\u001b[A\u001b[A\u001b[A\u001b[1Gpulling manifest \u001b[K\n",
            "pulling dde5aa3fc5ff... 100% ▕▏ 2.0 GB                         \u001b[K\n",
            "pulling 966de95ca8a6... 100% ▕▏ 1.4 KB                         \u001b[K\n",
            "pulling fcc5a6bec9da... 100% ▕▏ 7.7 KB                         \u001b[K\n",
            "pulling a70ff7e570d9... 100% ▕▏ 6.0 KB                         \u001b[K\n",
            "pulling 56bb8bd477a5... 100% ▕▏   96 B                         \u001b[K\n",
            "pulling 34bb5ab01051... 100% ▕▏  561 B                         \u001b[K\n",
            "verifying sha256 digest ⠋ \u001b[K\u001b[?25h\u001b[?2026l\u001b[?2026h\u001b[?25l\u001b[A\u001b[A\u001b[A\u001b[A\u001b[A\u001b[A\u001b[A\u001b[1Gpulling manifest \u001b[K\n",
            "pulling dde5aa3fc5ff... 100% ▕▏ 2.0 GB                         \u001b[K\n",
            "pulling 966de95ca8a6... 100% ▕▏ 1.4 KB                         \u001b[K\n",
            "pulling fcc5a6bec9da... 100% ▕▏ 7.7 KB                         \u001b[K\n",
            "pulling a70ff7e570d9... 100% ▕▏ 6.0 KB                         \u001b[K\n",
            "pulling 56bb8bd477a5... 100% ▕▏   96 B                         \u001b[K\n",
            "pulling 34bb5ab01051... 100% ▕▏  561 B                         \u001b[K\n",
            "verifying sha256 digest ⠙ \u001b[K\u001b[?25h\u001b[?2026l\u001b[?2026h\u001b[?25l\u001b[A\u001b[A\u001b[A\u001b[A\u001b[A\u001b[A\u001b[A\u001b[1Gpulling manifest \u001b[K\n",
            "pulling dde5aa3fc5ff... 100% ▕▏ 2.0 GB                         \u001b[K\n",
            "pulling 966de95ca8a6... 100% ▕▏ 1.4 KB                         \u001b[K\n",
            "pulling fcc5a6bec9da... 100% ▕▏ 7.7 KB                         \u001b[K\n",
            "pulling a70ff7e570d9... 100% ▕▏ 6.0 KB                         \u001b[K\n",
            "pulling 56bb8bd477a5... 100% ▕▏   96 B                         \u001b[K\n",
            "pulling 34bb5ab01051... 100% ▕▏  561 B                         \u001b[K\n",
            "verifying sha256 digest ⠹ \u001b[K\u001b[?25h\u001b[?2026l\u001b[?2026h\u001b[?25l\u001b[A\u001b[A\u001b[A\u001b[A\u001b[A\u001b[A\u001b[A\u001b[1Gpulling manifest \u001b[K\n",
            "pulling dde5aa3fc5ff... 100% ▕▏ 2.0 GB                         \u001b[K\n",
            "pulling 966de95ca8a6... 100% ▕▏ 1.4 KB                         \u001b[K\n",
            "pulling fcc5a6bec9da... 100% ▕▏ 7.7 KB                         \u001b[K\n",
            "pulling a70ff7e570d9... 100% ▕▏ 6.0 KB                         \u001b[K\n",
            "pulling 56bb8bd477a5... 100% ▕▏   96 B                         \u001b[K\n",
            "pulling 34bb5ab01051... 100% ▕▏  561 B                         \u001b[K\n",
            "verifying sha256 digest ⠸ \u001b[K\u001b[?25h\u001b[?2026l\u001b[?2026h\u001b[?25l\u001b[A\u001b[A\u001b[A\u001b[A\u001b[A\u001b[A\u001b[A\u001b[1Gpulling manifest \u001b[K\n",
            "pulling dde5aa3fc5ff... 100% ▕▏ 2.0 GB                         \u001b[K\n",
            "pulling 966de95ca8a6... 100% ▕▏ 1.4 KB                         \u001b[K\n",
            "pulling fcc5a6bec9da... 100% ▕▏ 7.7 KB                         \u001b[K\n",
            "pulling a70ff7e570d9... 100% ▕▏ 6.0 KB                         \u001b[K\n",
            "pulling 56bb8bd477a5... 100% ▕▏   96 B                         \u001b[K\n",
            "pulling 34bb5ab01051... 100% ▕▏  561 B                         \u001b[K\n",
            "verifying sha256 digest ⠼ \u001b[K\u001b[?25h\u001b[?2026l\u001b[?2026h\u001b[?25l\u001b[A\u001b[A\u001b[A\u001b[A\u001b[A\u001b[A\u001b[A\u001b[1Gpulling manifest \u001b[K\n",
            "pulling dde5aa3fc5ff... 100% ▕▏ 2.0 GB                         \u001b[K\n",
            "pulling 966de95ca8a6... 100% ▕▏ 1.4 KB                         \u001b[K\n",
            "pulling fcc5a6bec9da... 100% ▕▏ 7.7 KB                         \u001b[K\n",
            "pulling a70ff7e570d9... 100% ▕▏ 6.0 KB                         \u001b[K\n",
            "pulling 56bb8bd477a5... 100% ▕▏   96 B                         \u001b[K\n",
            "pulling 34bb5ab01051... 100% ▕▏  561 B                         \u001b[K\n",
            "verifying sha256 digest ⠴ \u001b[K\u001b[?25h\u001b[?2026l\u001b[?2026h\u001b[?25l\u001b[A\u001b[A\u001b[A\u001b[A\u001b[A\u001b[A\u001b[A\u001b[1Gpulling manifest \u001b[K\n",
            "pulling dde5aa3fc5ff... 100% ▕▏ 2.0 GB                         \u001b[K\n",
            "pulling 966de95ca8a6... 100% ▕▏ 1.4 KB                         \u001b[K\n",
            "pulling fcc5a6bec9da... 100% ▕▏ 7.7 KB                         \u001b[K\n",
            "pulling a70ff7e570d9... 100% ▕▏ 6.0 KB                         \u001b[K\n",
            "pulling 56bb8bd477a5... 100% ▕▏   96 B                         \u001b[K\n",
            "pulling 34bb5ab01051... 100% ▕▏  561 B                         \u001b[K\n",
            "verifying sha256 digest ⠦ \u001b[K\u001b[?25h\u001b[?2026l\u001b[?2026h\u001b[?25l\u001b[A\u001b[A\u001b[A\u001b[A\u001b[A\u001b[A\u001b[A\u001b[1Gpulling manifest \u001b[K\n",
            "pulling dde5aa3fc5ff... 100% ▕▏ 2.0 GB                         \u001b[K\n",
            "pulling 966de95ca8a6... 100% ▕▏ 1.4 KB                         \u001b[K\n",
            "pulling fcc5a6bec9da... 100% ▕▏ 7.7 KB                         \u001b[K\n",
            "pulling a70ff7e570d9... 100% ▕▏ 6.0 KB                         \u001b[K\n",
            "pulling 56bb8bd477a5... 100% ▕▏   96 B                         \u001b[K\n",
            "pulling 34bb5ab01051... 100% ▕▏  561 B                         \u001b[K\n",
            "verifying sha256 digest ⠧ \u001b[K\u001b[?25h\u001b[?2026l\u001b[?2026h\u001b[?25l\u001b[A\u001b[A\u001b[A\u001b[A\u001b[A\u001b[A\u001b[A\u001b[1Gpulling manifest \u001b[K\n",
            "pulling dde5aa3fc5ff... 100% ▕▏ 2.0 GB                         \u001b[K\n",
            "pulling 966de95ca8a6... 100% ▕▏ 1.4 KB                         \u001b[K\n",
            "pulling fcc5a6bec9da... 100% ▕▏ 7.7 KB                         \u001b[K\n",
            "pulling a70ff7e570d9... 100% ▕▏ 6.0 KB                         \u001b[K\n",
            "pulling 56bb8bd477a5... 100% ▕▏   96 B                         \u001b[K\n",
            "pulling 34bb5ab01051... 100% ▕▏  561 B                         \u001b[K\n",
            "verifying sha256 digest ⠇ \u001b[K\u001b[?25h\u001b[?2026l\u001b[?2026h\u001b[?25l\u001b[A\u001b[A\u001b[A\u001b[A\u001b[A\u001b[A\u001b[A\u001b[1Gpulling manifest \u001b[K\n",
            "pulling dde5aa3fc5ff... 100% ▕▏ 2.0 GB                         \u001b[K\n",
            "pulling 966de95ca8a6... 100% ▕▏ 1.4 KB                         \u001b[K\n",
            "pulling fcc5a6bec9da... 100% ▕▏ 7.7 KB                         \u001b[K\n",
            "pulling a70ff7e570d9... 100% ▕▏ 6.0 KB                         \u001b[K\n",
            "pulling 56bb8bd477a5... 100% ▕▏   96 B                         \u001b[K\n",
            "pulling 34bb5ab01051... 100% ▕▏  561 B                         \u001b[K\n",
            "verifying sha256 digest ⠏ \u001b[K\u001b[?25h\u001b[?2026l\u001b[?2026h\u001b[?25l\u001b[A\u001b[A\u001b[A\u001b[A\u001b[A\u001b[A\u001b[A\u001b[1Gpulling manifest \u001b[K\n",
            "pulling dde5aa3fc5ff... 100% ▕▏ 2.0 GB                         \u001b[K\n",
            "pulling 966de95ca8a6... 100% ▕▏ 1.4 KB                         \u001b[K\n",
            "pulling fcc5a6bec9da... 100% ▕▏ 7.7 KB                         \u001b[K\n",
            "pulling a70ff7e570d9... 100% ▕▏ 6.0 KB                         \u001b[K\n",
            "pulling 56bb8bd477a5... 100% ▕▏   96 B                         \u001b[K\n",
            "pulling 34bb5ab01051... 100% ▕▏  561 B                         \u001b[K\n",
            "verifying sha256 digest \u001b[K\n",
            "writing manifest \u001b[K\n",
            "success \u001b[K\u001b[?25h\u001b[?2026l\n"
          ]
        }
      ]
    },
    {
      "cell_type": "code",
      "source": [
        "!ollama serve > /dev/null 2>&1 &"
      ],
      "metadata": {
        "id": "0AaAwQMk1dVo"
      },
      "execution_count": 9,
      "outputs": []
    },
    {
      "cell_type": "code",
      "source": [
        "import os\n",
        "from langchain_ollama.chat_models import ChatOllama\n",
        "\n",
        "model_name = \"llama3.2\"\n",
        "\n",
        "# initialize one LLM with temperature 0.0, this makes the LLM more deterministic\n",
        "llm = ChatOllama(temperature=0.0, model=model_name)\n",
        "\n",
        "creative_llm = ChatOllama(temperature=0.9, model=model_name)"
      ],
      "metadata": {
        "id": "OtfMnJ5g1oi5"
      },
      "execution_count": 10,
      "outputs": []
    },
    {
      "cell_type": "markdown",
      "metadata": {
        "id": "F33PFuisryUv"
      },
      "source": [
        "---\n",
        "\n",
        "> ⚠️ We will be using OpenAI for this example allowing us to run everything via API. If you would like to use Ollama instead, check out the [Ollama LangChain Course](https://github.com/aurelio-labs/langchain-course/tree/main/notebooks/ollama).\n",
        "\n",
        "---"
      ]
    },
    {
      "cell_type": "markdown",
      "metadata": {
        "id": "AaNrSZdlryUw"
      },
      "source": [
        "---\n",
        "\n",
        "> ⚠️ If using LangSmith, add your API key below:"
      ]
    },
    {
      "cell_type": "code",
      "execution_count": 11,
      "metadata": {
        "id": "GJAH_3KTryUw"
      },
      "outputs": [],
      "source": [
        "import os\n",
        "from getpass import getpass\n",
        "\n",
        "from google.colab import userdata\n",
        "Langchain_api = userdata.get('Langsmith_api')\n",
        "os.environ[\"LANGCHAIN_API_KEY\"] = Langchain_api\n",
        "\n",
        "os.environ[\"LANGCHAIN_TRACING_V2\"] = \"true\"\n",
        "os.environ[\"LANGCHAIN_ENDPOINT\"] = \"https://api.smith.langchain.com\"\n",
        "os.environ[\"LANGCHAIN_PROJECT\"] = \"aurelioai-langchain-course-prompts-openai\""
      ]
    },
    {
      "cell_type": "markdown",
      "metadata": {
        "id": "lAJf0RakryUw"
      },
      "source": [
        "---"
      ]
    },
    {
      "cell_type": "markdown",
      "metadata": {
        "id": "Gb0lil1pryUw"
      },
      "source": [
        "## Basic Prompting"
      ]
    },
    {
      "cell_type": "markdown",
      "metadata": {
        "id": "oZMTefWKryUw"
      },
      "source": [
        "We'll start by looking at the various parts of our prompt. For RAG use-cases we'll typically have three core components however this is _very_ use-cases dependant and can vary significantly. Nonetheless, for RAG we will typically see:\n",
        "\n",
        "* **Rules for our LLM**: this part of the prompt sets up the behavior of our LLM, how it should approach responding to user queries, and simply providing as much information as possible about what we're wanting to do as possible. We typically place this within the _system prompt_ of an chat LLM.\n",
        "\n",
        "* **Context**: this part is RAG-specific. The context refers to some _external information_ that we may have retrieved from a web search, database query, or often a _vector database_. This external information is the **R**etrieval **A**ugmentation part of **RA**G. For chat LLMs we'll typically place this inside the chat messages between the assistant and user.\n",
        "\n",
        "* **Question**: this is the input from our user. In the vast majority of cases the question/query/user input will always be provided to the LLM (and typically through a _user message_). However, the format and location of this being provided often changes.\n",
        "\n",
        "* **Answer**: this is the answer from our assistant, again this is _very_ typical and we'd expect this with every use-case.\n",
        "\n",
        "The below is an example of how a RAG prompt may look:"
      ]
    },
    {
      "cell_type": "markdown",
      "metadata": {
        "id": "ll8Wq33DryUx"
      },
      "source": [
        "```\n",
        "Answer the question based on the context below,                 }\n",
        "if you cannot answer the question using the                     }--->  (Rules) For Our Prompt\n",
        "provided information answer with \"I don't know\"                 }\n",
        "\n",
        "Context: Aurelio AI is an AI development studio                 }\n",
        "focused on the fields of Natural Language Processing (NLP)      }\n",
        "and information retrieval using modern tooling                  }--->   Context AI has\n",
        "such as Large Language Models (LLMs),                           }\n",
        "vector databases, and LangChain.                                }\n",
        "\n",
        "Question: Does Aurelio AI do anything related to LangChain?     }--->   User Question\n",
        "\n",
        "Answer:                                                         }--->   AI Answer\n",
        "```"
      ]
    },
    {
      "cell_type": "markdown",
      "metadata": {
        "id": "PLTVff_fryUx"
      },
      "source": [
        "Here we can see how the AI will appoach our question, as you can see we have a formulated response, if the context has the answer, then use the context to answer the question, if not, say I don't know, then we also have context and question which are being passed into this similarly to paramaters in a function."
      ]
    },
    {
      "cell_type": "code",
      "execution_count": 12,
      "metadata": {
        "id": "Acf6rPrhryUx"
      },
      "outputs": [],
      "source": [
        "prompt = \"\"\"\n",
        "Answer the user's query based on the context below.\n",
        "If you cannot answer the question using the\n",
        "provided information answer with \"I don't know\".\n",
        "\n",
        "Context: {context}\n",
        "\"\"\""
      ]
    },
    {
      "cell_type": "markdown",
      "metadata": {
        "id": "rTc4UoqkryUx"
      },
      "source": [
        "LangChain uses a `ChatPromptTemplate` object to format the various prompt types into a single list which will be passed to our LLM:"
      ]
    },
    {
      "cell_type": "code",
      "execution_count": 14,
      "metadata": {
        "id": "iC1F_FdKryUx"
      },
      "outputs": [],
      "source": [
        "from langchain.prompts import ChatPromptTemplate\n",
        "\n",
        "# passing the template to the LangChain model\n",
        "prompt_template = ChatPromptTemplate.from_messages([\n",
        "    (\"system\", prompt),\n",
        "    (\"user\", \"{query}\"),\n",
        "])"
      ]
    },
    {
      "cell_type": "markdown",
      "metadata": {
        "id": "BXmZnfSqryUx"
      },
      "source": [
        "When we call the template it will expect us to provide two variables, the `context` and the `query`. Both of these variables are pulled from the strings we wrote, as LangChain interprets curly-bracket syntax (ie `{context}` and `{query}`) as indicating a dynamic variable that we expect to be inserted at query time. We can see that these variables have been picked up by our template object by viewing it's `input_variables` attribute:"
      ]
    },
    {
      "cell_type": "code",
      "execution_count": 15,
      "metadata": {
        "colab": {
          "base_uri": "https://localhost:8080/"
        },
        "id": "zx4T96PVryUx",
        "outputId": "8100d6f0-f597-406e-8528-38e3cf504994"
      },
      "outputs": [
        {
          "output_type": "execute_result",
          "data": {
            "text/plain": [
              "['context', 'query']"
            ]
          },
          "metadata": {},
          "execution_count": 15
        }
      ],
      "source": [
        "prompt_template.input_variables"
      ]
    },
    {
      "cell_type": "markdown",
      "metadata": {
        "id": "zXfKlpdoryUx"
      },
      "source": [
        "We can also view the structure of the messages (currently _prompt templates_) that the `ChatPromptTemplate` will construct by viewing the `messages` attribute:"
      ]
    },
    {
      "cell_type": "code",
      "execution_count": 16,
      "metadata": {
        "colab": {
          "base_uri": "https://localhost:8080/"
        },
        "id": "HlgLvsV6ryUx",
        "outputId": "1eaca999-d65c-4ed3-932c-94eb034d816c"
      },
      "outputs": [
        {
          "output_type": "execute_result",
          "data": {
            "text/plain": [
              "[SystemMessagePromptTemplate(prompt=PromptTemplate(input_variables=['context'], input_types={}, partial_variables={}, template='\\nAnswer the user\\'s query based on the context below.\\nIf you cannot answer the question using the\\nprovided information answer with \"I don\\'t know\".\\n\\nContext: {context}\\n'), additional_kwargs={}),\n",
              " HumanMessagePromptTemplate(prompt=PromptTemplate(input_variables=['query'], input_types={}, partial_variables={}, template='{query}'), additional_kwargs={})]"
            ]
          },
          "metadata": {},
          "execution_count": 16
        }
      ],
      "source": [
        "prompt_template.messages"
      ]
    },
    {
      "cell_type": "markdown",
      "metadata": {
        "id": "BI8MHB4RryUx"
      },
      "source": [
        "From this, we can see that each tuple provided when using `ChatPromptTemplate.from_messages` becomes an individual prompt template itself. Within each of these tuples, the first value defines the _role_ of the message, which is typically `system`, `human`, or `ai`. Using these tuples is shorthand for the following, more explicit code:"
      ]
    },
    {
      "cell_type": "code",
      "execution_count": 17,
      "metadata": {
        "id": "f37FWLOcryUy"
      },
      "outputs": [],
      "source": [
        "from langchain.prompts import (\n",
        "    SystemMessagePromptTemplate,\n",
        "    HumanMessagePromptTemplate\n",
        ")\n",
        "\n",
        "prompt_template = ChatPromptTemplate.from_messages([\n",
        "    SystemMessagePromptTemplate.from_template(prompt),\n",
        "    HumanMessagePromptTemplate.from_template(\"{query}\"),\n",
        "])"
      ]
    },
    {
      "cell_type": "markdown",
      "metadata": {
        "id": "9uLUhXwWryUy"
      },
      "source": [
        "We can see the structure of this new chat prompt template is identical to our previous:"
      ]
    },
    {
      "cell_type": "code",
      "execution_count": 18,
      "metadata": {
        "colab": {
          "base_uri": "https://localhost:8080/"
        },
        "id": "2z3KfV5JryUy",
        "outputId": "5a1570cf-aa52-46dc-b991-6f3395b894d0"
      },
      "outputs": [
        {
          "output_type": "execute_result",
          "data": {
            "text/plain": [
              "[SystemMessagePromptTemplate(prompt=PromptTemplate(input_variables=['context'], input_types={}, partial_variables={}, template='\\nAnswer the user\\'s query based on the context below.\\nIf you cannot answer the question using the\\nprovided information answer with \"I don\\'t know\".\\n\\nContext: {context}\\n'), additional_kwargs={}),\n",
              " HumanMessagePromptTemplate(prompt=PromptTemplate(input_variables=['query'], input_types={}, partial_variables={}, template='{query}'), additional_kwargs={})]"
            ]
          },
          "metadata": {},
          "execution_count": 18
        }
      ],
      "source": [
        "prompt_template.messages"
      ]
    },
    {
      "cell_type": "markdown",
      "metadata": {
        "id": "yL63ZVTSryUy"
      },
      "source": [
        "### Invoking our LLM with Templates"
      ]
    },
    {
      "cell_type": "markdown",
      "metadata": {
        "id": "2RqGAcPzryUy"
      },
      "source": [
        "We've defined our prompt template, now let's define out LLM and run it with our template and a user query.\n",
        "\n",
        "We start by initializing OpenAI's `gpt-4o-mini`. If you need an API key you can get one from [OpenAI's website](https://platform.openai.com/settings/organization/api-keys)."
      ]
    },
    {
      "cell_type": "code",
      "execution_count": null,
      "metadata": {
        "colab": {
          "base_uri": "https://localhost:8080/"
        },
        "id": "pHn3m62kryUy",
        "outputId": "08ef4f99-9156-401f-84ee-b743a1aea7e6"
      },
      "outputs": [
        {
          "name": "stdout",
          "output_type": "stream",
          "text": [
            "Enter OpenAI API Key: ··········\n"
          ]
        }
      ],
      "source": [
        "# import os\n",
        "# from getpass import getpass\n",
        "\n",
        "# os.environ[\"OPENAI_API_KEY\"] = os.getenv(\"OPENAI_API_KEY\") or getpass(\n",
        "#     \"Enter OpenAI API Key: \"\n",
        "# )\n",
        "\n",
        "# openai_model = \"gpt-4o-mini\""
      ]
    },
    {
      "cell_type": "code",
      "execution_count": null,
      "metadata": {
        "id": "ldJJqsMrryUy"
      },
      "outputs": [],
      "source": [
        "# from langchain_openai import ChatOpenAI\n",
        "\n",
        "# llm = ChatOpenAI(temperature=0.0, model=openai_model)"
      ]
    },
    {
      "cell_type": "markdown",
      "metadata": {
        "id": "jn0cn8ebryUy"
      },
      "source": [
        "Here we define our LLM and _because_ we're using it for a question-answer use-case we want it's answer to be as grounded in reality as possible. To do that, we ofcourse prompt it to not make up any information via the `If you cannot answer the question using the provided information answer with \"I don't know\"` line, but we _also_ use the model's `temperature` setting.\n",
        "\n",
        "The `temperature` parameter controls the randomness of the LLM's output. A temperature of `0.0` makes an LLM's output more determinstic which _in theory_ should lead to a lower likelihood of hallucination.\n",
        "\n",
        "Now, the question here may be, _why would we ever not use `temperature=0.0`?_ The answer to that is that sometimes a little bit of randomness can useful. Randomness tends to translate to text that feels more human and creative, so if we'd like an LLM to help us write an article or even a poem, that lack of determinism becomes a feature rather than a bug.\n",
        "\n",
        "For now, we'll stick with our more deterministic LLM. We'll setup the pipeline to consume two variables when our LLM pipeline is called, `query` and `context`, we'll feed them into our chat prompt template, and then invoke our LLM with our formatted messages.\n",
        "\n",
        "Although that sounds complicated, all we're doing is connecting our `prompt_template` and `llm`. We do this with **L**ang**C**hain **E**xpression **L**anguage (LCEL), which uses the `|` operator to connect our each component."
      ]
    },
    {
      "cell_type": "code",
      "execution_count": 19,
      "metadata": {
        "id": "_KhquCevryUy"
      },
      "outputs": [],
      "source": [
        "pipeline = (\n",
        "    {\n",
        "        \"query\": lambda x: x[\"query\"],\n",
        "        \"context\": lambda x: x[\"context\"]\n",
        "    }\n",
        "    | prompt_template\n",
        "    | llm\n",
        ")"
      ]
    },
    {
      "cell_type": "markdown",
      "metadata": {
        "id": "SKSPk7x_ryUy"
      },
      "source": [
        "Now let's define a `query` and some relevant `context` and invoke our pipeline."
      ]
    },
    {
      "cell_type": "code",
      "execution_count": 20,
      "metadata": {
        "id": "jhg8kQkbryUy"
      },
      "outputs": [],
      "source": [
        "context = \"\"\"Aurelio AI is an AI company developing tooling for AI\n",
        "engineers. Their focus is on language AI with the team having strong\n",
        "expertise in building AI agents and a strong background in\n",
        "information retrieval.\n",
        "\n",
        "The company is behind several open source frameworks, most notably\n",
        "Semantic Router and Semantic Chunkers. They also have an AI\n",
        "Platform providing engineers with tooling to help them build with\n",
        "AI. Finally, the team also provides development services to other\n",
        "organizations to help them bring their AI tech to market.\n",
        "\n",
        "Aurelio AI became LangChain Experts in September 2024 after a long\n",
        "track record of delivering AI solutions built with the LangChain\n",
        "ecosystem.\"\"\"\n",
        "\n",
        "query = \"what does Aurelio AI do?\""
      ]
    },
    {
      "cell_type": "code",
      "execution_count": 22,
      "metadata": {
        "colab": {
          "base_uri": "https://localhost:8080/"
        },
        "id": "4pfbZIXIryUy",
        "outputId": "963a75f0-d4d3-4bb2-8bc8-cb0efd7ed979"
      },
      "outputs": [
        {
          "output_type": "stream",
          "name": "stdout",
          "text": [
            "Aurelio AI is an AI company that develops tooling for AI engineers, primarily focusing on language AI. They provide various tools and services to help build and deploy AI models, including:\n",
            "\n",
            "1. Open-source frameworks (e.g., Semantic Router and Semantic Chunkers)\n",
            "2. An AI Platform for building with AI\n",
            "3. Development services to help other organizations bring their AI tech to market\n",
            "\n",
            "They also gained the title of LangChain Experts in September 2024, indicating a strong expertise in the LangChain ecosystem.\n"
          ]
        }
      ],
      "source": [
        "print(pipeline.invoke({\"query\": query, \"context\": context}).content)"
      ]
    },
    {
      "cell_type": "markdown",
      "metadata": {
        "id": "yNuW9yxDryUy"
      },
      "source": [
        "Our LLM pipeline is able to consume the information from the `context` and use it to answer the user's `query`. Ofcourse, we would not usually be feeding in both a question and an answer into an LLM manually. Typically, the `context` would be retrieved from a vector database, via web search, or from elsewhere. We will cover this use-case in full and build a functional RAG pipeline in a future chapter."
      ]
    },
    {
      "cell_type": "markdown",
      "metadata": {
        "id": "5zvOUzIlryUz"
      },
      "source": [
        "## Few Shot Prompting"
      ]
    },
    {
      "cell_type": "markdown",
      "metadata": {
        "id": "EYa1xmwAryUz"
      },
      "source": [
        "Many **S**tate-**o**f-**t**he-**A**rt (SotA) LLMs are incredible at instruction following. Meaning that it requires much less effort to get the intended output or behavior from these models than is the case for older LLMs and smaller LLMs.\n",
        "\n",
        "Before creating an example let's first see how to use LangChain's few shot prompting objects. We will provide multiple examples and we'll feed them in as sequential human and ai messages so we setup the template like this:"
      ]
    },
    {
      "cell_type": "code",
      "execution_count": 23,
      "metadata": {
        "id": "iqTvW0BMryUz"
      },
      "outputs": [],
      "source": [
        "example_prompt = ChatPromptTemplate.from_messages([\n",
        "    (\"human\", \"{input}\"),\n",
        "    (\"ai\", \"{output}\"),\n",
        "])"
      ]
    },
    {
      "cell_type": "markdown",
      "metadata": {
        "id": "3B6gYNmqryUz"
      },
      "source": [
        "Then we define a list of examples with dictionaries containing the correct `input` and `output` keys."
      ]
    },
    {
      "cell_type": "code",
      "execution_count": 24,
      "metadata": {
        "id": "iO-OT9-jryUz"
      },
      "outputs": [],
      "source": [
        "examples = [\n",
        "    {\"input\": \"Here is query #1\", \"output\": \"Here is the answer #1\"},\n",
        "    {\"input\": \"Here is query #2\", \"output\": \"Here is the answer #2\"},\n",
        "    {\"input\": \"Here is query #3\", \"output\": \"Here is the answer #3\"},\n",
        "]"
      ]
    },
    {
      "cell_type": "markdown",
      "metadata": {
        "id": "QhaDY0vZryUz"
      },
      "source": [
        "We then feed both of these into our `FewShotChatMessagePromptTemplate` object:"
      ]
    },
    {
      "cell_type": "code",
      "execution_count": 25,
      "metadata": {
        "colab": {
          "base_uri": "https://localhost:8080/"
        },
        "id": "hXTHA5T2ryUz",
        "outputId": "0b4fc367-fbbb-4a19-aaf4-952f129b6e8e"
      },
      "outputs": [
        {
          "output_type": "stream",
          "name": "stdout",
          "text": [
            "Human: Here is query #1\n",
            "AI: Here is the answer #1\n",
            "Human: Here is query #2\n",
            "AI: Here is the answer #2\n",
            "Human: Here is query #3\n",
            "AI: Here is the answer #3\n"
          ]
        }
      ],
      "source": [
        "from langchain.prompts import FewShotChatMessagePromptTemplate\n",
        "\n",
        "few_shot_prompt = FewShotChatMessagePromptTemplate(\n",
        "    example_prompt=example_prompt,\n",
        "    examples=examples,\n",
        ")\n",
        "# here is the formatted prompt\n",
        "print(few_shot_prompt.format())"
      ]
    },
    {
      "cell_type": "markdown",
      "metadata": {
        "id": "AsVWIVKLryU0"
      },
      "source": [
        "Using this we can provide different sets of `examples` or even different individual `example_prompt` templates to the `FewShotChatMessagePromptTemplate` object to build our prompt structure. Let's try an real example where we might use few-shot prompting.\n",
        "\n",
        "### Few-Shot Example"
      ]
    },
    {
      "cell_type": "markdown",
      "metadata": {
        "id": "nSN4tYI7ryU0"
      },
      "source": [
        "Using a tiny LLM limits it's ability, so when asking for specific behaviors or structured outputs it can struggle. For example, we'll ask the LLM to summarize the key points about Aurelio AI using markdown and bullet points. Let's see what happens."
      ]
    },
    {
      "cell_type": "code",
      "execution_count": 26,
      "metadata": {
        "colab": {
          "base_uri": "https://localhost:8080/"
        },
        "id": "H_OOSKg-ryU0",
        "outputId": "e4171244-00cf-48de-c6c9-9e53d677fd48"
      },
      "outputs": [
        {
          "output_type": "stream",
          "name": "stdout",
          "text": [
            "**Overview of Aurelio AI**\n",
            "==========================\n",
            "\n",
            "Aurelio AI is an AI company that develops tooling for AI engineers, specializing in language AI.\n",
            "\n",
            "### Key Focus Areas\n",
            "\n",
            "*   **Language AI**: Aurelio AI focuses on building AI agents and providing tooling to help engineers work with language AI.\n",
            "*   **Open Source Frameworks**: The company has developed several open-source frameworks, including Semantic Router and Semantic Chunkers.\n",
            "*   **AI Platform**: Aurelio AI provides an AI platform that offers engineers the necessary tooling to build with AI.\n",
            "\n",
            "### Additional Services\n",
            "\n",
            "*   **Development Services**: Aurelio AI also provides development services to help other organizations bring their AI technology to market.\n",
            "\n",
            "### Recent Achievement\n",
            "--------------------\n",
            "\n",
            "*   **LangChain Experts**: In September 2024, Aurelio AI became LangChain Experts after a long track record of delivering AI solutions built with the LangChain ecosystem.\n"
          ]
        }
      ],
      "source": [
        "new_system_prompt = \"\"\"\n",
        "Answer the user's query based on the context below.\n",
        "If you cannot answer the question using the\n",
        "provided information answer with \"I don't know\".\n",
        "\n",
        "Always answer in markdown format. When doing so please\n",
        "provide headers, short summaries, follow with bullet\n",
        "points, then conclude.\n",
        "\n",
        "Context: {context}\n",
        "\"\"\"\n",
        "\n",
        "prompt_template.messages[0].prompt.template = new_system_prompt\n",
        "\n",
        "out = pipeline.invoke({\"query\": query, \"context\": context}).content\n",
        "print(out)"
      ]
    },
    {
      "cell_type": "markdown",
      "metadata": {
        "id": "n-IUcKKVryU0"
      },
      "source": [
        "We can display our markdown nicely with `IPython` like so:"
      ]
    },
    {
      "cell_type": "code",
      "execution_count": 27,
      "metadata": {
        "colab": {
          "base_uri": "https://localhost:8080/",
          "height": 411
        },
        "id": "yA5sXUejryU0",
        "outputId": "f1638e36-ed8d-4d9e-da8c-9151351c9f98"
      },
      "outputs": [
        {
          "output_type": "display_data",
          "data": {
            "text/plain": [
              "<IPython.core.display.Markdown object>"
            ],
            "text/markdown": "**Overview of Aurelio AI**\n==========================\n\nAurelio AI is an AI company that develops tooling for AI engineers, specializing in language AI.\n\n### Key Focus Areas\n\n*   **Language AI**: Aurelio AI focuses on building AI agents and providing tooling to help engineers work with language AI.\n*   **Open Source Frameworks**: The company has developed several open-source frameworks, including Semantic Router and Semantic Chunkers.\n*   **AI Platform**: Aurelio AI provides an AI platform that offers engineers the necessary tooling to build with AI.\n\n### Additional Services\n\n*   **Development Services**: Aurelio AI also provides development services to help other organizations bring their AI technology to market.\n\n### Recent Achievement\n--------------------\n\n*   **LangChain Experts**: In September 2024, Aurelio AI became LangChain Experts after a long track record of delivering AI solutions built with the LangChain ecosystem."
          },
          "metadata": {}
        }
      ],
      "source": [
        "from IPython.display import display, Markdown\n",
        "\n",
        "display(Markdown(out))"
      ]
    },
    {
      "cell_type": "markdown",
      "metadata": {
        "id": "2-st-PlBryU0"
      },
      "source": [
        "This is not bad, but also not quite the format we wanted. We could try improving our initial prompting instructions, but when this doesn't work we can move on to our few-shot prompting. We want to build something like this:"
      ]
    },
    {
      "cell_type": "markdown",
      "metadata": {
        "id": "s6CCb3bIryU0"
      },
      "source": [
        "```\n",
        "Answer the user's query based on the context below,                 }\n",
        "if you cannot answer the question using the                         }\n",
        "provided information answer with \"I don't know\"                     }\n",
        "                                                                    }--->  (Rules)\n",
        "Always answer in markdown format. When doing so please              }\n",
        "provide headers, short summaries, follow with bullet                }\n",
        "points, then conclude. Here are some examples:                      }\n",
        "\n",
        "\n",
        "User: Can you explain gravity?                                      }\n",
        "AI: ## Gravity                                                      }\n",
        "                                                                    }\n",
        "Gravity is one of the fundamental forces in the universe.           }\n",
        "                                                                    }\n",
        "### Discovery                                                       }--->  (Example 1)\n",
        "                                                                    }\n",
        "* Gravity was first discovered by...                                }\n",
        "                                                                    }\n",
        "**To conclude**, Gravity is a fascinating topic and has been...     }\n",
        "                                                                    }\n",
        "\n",
        "User: What is the capital of France?                                }\n",
        "AI: ## France                                                       }\n",
        "                                                                    }\n",
        "The capital of France is Paris.                                     }\n",
        "                                                                    }--->  (Example 2)\n",
        "### Origins                                                         }\n",
        "                                                                    }\n",
        "* The name Paris comes from the...                                  }\n",
        "                                                                    }\n",
        "**To conclude**, Paris is highly regarded as one of the...          }\n",
        "\n",
        "Context: {context}                                                  }--->  (Context)\n",
        "```"
      ]
    },
    {
      "cell_type": "markdown",
      "metadata": {
        "id": "BbZYdVB9ryU0"
      },
      "source": [
        "We have already defined our `example_prompt` so now we just change our `examples` to use some examples of a user asking a question and the LLM answering in the exact markdown format we need."
      ]
    },
    {
      "cell_type": "code",
      "execution_count": 28,
      "metadata": {
        "id": "9CRNB9UDryU0"
      },
      "outputs": [],
      "source": [
        "examples = [\n",
        "    {\n",
        "        \"input\": \"Can you explain gravity?\",\n",
        "        \"output\": (\n",
        "            \"## Gravity\\n\\n\"\n",
        "            \"Gravity is one of the fundamental forces in the universe.\\n\\n\"\n",
        "            \"### Discovery\\n\\n\"\n",
        "            \"* Gravity was first discovered by Sir Isaac Newton in the late 17th century.\\n\"\n",
        "            \"* It was said that Newton theorized about gravity after seeing an apple fall from a tree.\\n\\n\"\n",
        "            \"### In General Relativity\\n\\n\"\n",
        "            \"* Gravity is described as the curvature of spacetime.\\n\"\n",
        "            \"* The more massive an object is, the more it curves spacetime.\\n\"\n",
        "            \"* This curvature is what causes objects to fall towards each other.\\n\\n\"\n",
        "            \"### Gravitons\\n\\n\"\n",
        "            \"* Gravitons are hypothetical particles that mediate the force of gravity.\\n\"\n",
        "            \"* They have not yet been detected.\\n\\n\"\n",
        "            \"**To conclude**, Gravity is a fascinating topic and has been studied extensively since the time of Newton.\\n\\n\"\n",
        "        )\n",
        "    },\n",
        "    {\n",
        "        \"input\": \"What is the capital of France?\",\n",
        "        \"output\": (\n",
        "            \"## France\\n\\n\"\n",
        "            \"The capital of France is Paris.\\n\\n\"\n",
        "            \"### Origins\\n\\n\"\n",
        "            \"* The name Paris comes from the Latin word \\\"Parisini\\\" which referred to a Celtic people living in the area.\\n\"\n",
        "            \"* The Romans named the city Lutetia, which means \\\"the place where the river turns\\\".\\n\"\n",
        "            \"* The city was renamed Paris in the 3rd century BC by the Celtic-speaking Parisii tribe.\\n\\n\"\n",
        "            \"**To conclude**, Paris is highly regarded as one of the most beautiful cities in the world and is one of the world's greatest cultural and economic centres.\\n\\n\"\n",
        "        )\n",
        "    }\n",
        "]"
      ]
    },
    {
      "cell_type": "markdown",
      "metadata": {
        "id": "aPJgXmiCryU0"
      },
      "source": [
        "We feed these into our `FewShotChatMessagePromptTemplate` object:"
      ]
    },
    {
      "cell_type": "code",
      "execution_count": 29,
      "metadata": {
        "id": "EatYep9JryU1"
      },
      "outputs": [],
      "source": [
        "few_shot_prompt = FewShotChatMessagePromptTemplate(\n",
        "    example_prompt=example_prompt,\n",
        "    examples=examples,\n",
        ")"
      ]
    },
    {
      "cell_type": "markdown",
      "metadata": {
        "id": "2Zf6BdXXryU1"
      },
      "source": [
        "Our formatted prompt now looks like this:"
      ]
    },
    {
      "cell_type": "code",
      "execution_count": 30,
      "metadata": {
        "colab": {
          "base_uri": "https://localhost:8080/",
          "height": 542
        },
        "id": "imLL8987ryU1",
        "outputId": "961b722d-1f98-4f31-b292-a88cc8adcc1b"
      },
      "outputs": [
        {
          "output_type": "display_data",
          "data": {
            "text/plain": [
              "<IPython.core.display.Markdown object>"
            ],
            "text/markdown": "Human: Can you explain gravity?\nAI: ## Gravity\n\nGravity is one of the fundamental forces in the universe.\n\n### Discovery\n\n* Gravity was first discovered by Sir Isaac Newton in the late 17th century.\n* It was said that Newton theorized about gravity after seeing an apple fall from a tree.\n\n### In General Relativity\n\n* Gravity is described as the curvature of spacetime.\n* The more massive an object is, the more it curves spacetime.\n* This curvature is what causes objects to fall towards each other.\n\n### Gravitons\n\n* Gravitons are hypothetical particles that mediate the force of gravity.\n* They have not yet been detected.\n\n**To conclude**, Gravity is a fascinating topic and has been studied extensively since the time of Newton.\n\n\nHuman: What is the capital of France?\nAI: ## France\n\nThe capital of France is Paris.\n\n### Origins\n\n* The name Paris comes from the Latin word \"Parisini\" which referred to a Celtic people living in the area.\n* The Romans named the city Lutetia, which means \"the place where the river turns\".\n* The city was renamed Paris in the 3rd century BC by the Celtic-speaking Parisii tribe.\n\n**To conclude**, Paris is highly regarded as one of the most beautiful cities in the world and is one of the world's greatest cultural and economic centres.\n\n"
          },
          "metadata": {}
        }
      ],
      "source": [
        "out = few_shot_prompt.format()\n",
        "\n",
        "display(Markdown(out))"
      ]
    },
    {
      "cell_type": "markdown",
      "metadata": {
        "id": "LpXGxDZtryU1"
      },
      "source": [
        "We then pull all of this together with our system prompt and final user query to create our final prompt and feed it into our LLM."
      ]
    },
    {
      "cell_type": "code",
      "execution_count": 31,
      "metadata": {
        "colab": {
          "base_uri": "https://localhost:8080/"
        },
        "id": "OLZWvcRS7Ez7",
        "outputId": "c7ee0919-1d6f-4b9d-da37-5d6f817c7458"
      },
      "outputs": [
        {
          "output_type": "execute_result",
          "data": {
            "text/plain": [
              "FewShotChatMessagePromptTemplate(examples=[{'input': 'Can you explain gravity?', 'output': '## Gravity\\n\\nGravity is one of the fundamental forces in the universe.\\n\\n### Discovery\\n\\n* Gravity was first discovered by Sir Isaac Newton in the late 17th century.\\n* It was said that Newton theorized about gravity after seeing an apple fall from a tree.\\n\\n### In General Relativity\\n\\n* Gravity is described as the curvature of spacetime.\\n* The more massive an object is, the more it curves spacetime.\\n* This curvature is what causes objects to fall towards each other.\\n\\n### Gravitons\\n\\n* Gravitons are hypothetical particles that mediate the force of gravity.\\n* They have not yet been detected.\\n\\n**To conclude**, Gravity is a fascinating topic and has been studied extensively since the time of Newton.\\n\\n'}, {'input': 'What is the capital of France?', 'output': '## France\\n\\nThe capital of France is Paris.\\n\\n### Origins\\n\\n* The name Paris comes from the Latin word \"Parisini\" which referred to a Celtic people living in the area.\\n* The Romans named the city Lutetia, which means \"the place where the river turns\".\\n* The city was renamed Paris in the 3rd century BC by the Celtic-speaking Parisii tribe.\\n\\n**To conclude**, Paris is highly regarded as one of the most beautiful cities in the world and is one of the world\\'s greatest cultural and economic centres.\\n\\n'}], input_variables=[], input_types={}, partial_variables={}, example_prompt=ChatPromptTemplate(input_variables=['input', 'output'], input_types={}, partial_variables={}, messages=[HumanMessagePromptTemplate(prompt=PromptTemplate(input_variables=['input'], input_types={}, partial_variables={}, template='{input}'), additional_kwargs={}), AIMessagePromptTemplate(prompt=PromptTemplate(input_variables=['output'], input_types={}, partial_variables={}, template='{output}'), additional_kwargs={})]))"
            ]
          },
          "metadata": {},
          "execution_count": 31
        }
      ],
      "source": [
        "few_shot_prompt"
      ]
    },
    {
      "cell_type": "code",
      "execution_count": 32,
      "metadata": {
        "id": "cDwfI95_ryU1"
      },
      "outputs": [],
      "source": [
        "prompt_template = ChatPromptTemplate.from_messages([\n",
        "    (\"system\", new_system_prompt),\n",
        "    few_shot_prompt,\n",
        "    (\"user\", \"{query}\"),\n",
        "])"
      ]
    },
    {
      "cell_type": "markdown",
      "metadata": {
        "id": "ZvEKhq2rryU1"
      },
      "source": [
        "Now feed this back into our pipeline:"
      ]
    },
    {
      "cell_type": "code",
      "execution_count": 33,
      "metadata": {
        "colab": {
          "base_uri": "https://localhost:8080/",
          "height": 337
        },
        "id": "BJLEX-peryU1",
        "outputId": "9721d70a-8eb6-42e5-c0c7-446ec9c22d2a"
      },
      "outputs": [
        {
          "output_type": "display_data",
          "data": {
            "text/plain": [
              "<IPython.core.display.Markdown object>"
            ],
            "text/markdown": "## Aurelio AI\n\nAurelio AI is an AI company that develops tooling for AI engineers, with a focus on language AI.\n\n### Key Products and Services\n\n* **Semantic Router**: An open-source framework for building conversational interfaces.\n* **Semantic Chunkers**: Another open-source framework for chunking text into meaningful units.\n* **AI Platform**: A platform providing engineers with tooling to help them build with AI.\n* **Development Services**: Aurelio AI provides development services to other organizations to help them bring their AI tech to market.\n\n### Expertise\n\n* **Language AI**: The team has strong expertise in building AI agents and a background in information retrieval.\n\n**To conclude**, Aurelio AI is a company that specializes in developing tooling for language AI and providing services to help organizations build with AI."
          },
          "metadata": {}
        }
      ],
      "source": [
        "pipeline = prompt_template | llm\n",
        "out = pipeline.invoke({\"query\": query, \"context\": context}).content\n",
        "display(Markdown(out))"
      ]
    },
    {
      "cell_type": "markdown",
      "metadata": {
        "id": "UrEybF2dryU1"
      },
      "source": [
        "We can see that by adding a few examples to our prompt, ie _few-shot prompting_, we can get much more control over the exact structure of our LLM response. As the size of our LLMs increases, the ability of them to follow instructions becomes much greater and they tend to require less explicit prompting as we have shown here. However, even for SotA models like `gpt-4o` few-shot prompting is still a valid technique that can be used if the LLM is struggling to follow our intended instructions."
      ]
    },
    {
      "cell_type": "markdown",
      "metadata": {
        "id": "SK1PU1dIryU1"
      },
      "source": [
        "## Chain of Thought Prompting"
      ]
    },
    {
      "cell_type": "markdown",
      "metadata": {
        "id": "7CoiIYxmryU1"
      },
      "source": [
        "We'll take a look at one more commonly used prompting technique called _chain of thought_ (CoT). CoT is a technique that encourages the LLM to think through the problem step by step before providing an answer. The idea being that by breaking down the problem into smaller steps, the LLM is more likely to arrive at the correct answer and we are less likely to see hallucinations.\n",
        "\n",
        "To implement CoT we don't need any specific LangChain objects, instead we are simply modifying how we instruct our LLM within the system prompt. We will ask the LLM to list the problems that need to be solved, to solve each problem individually, and then to arrive at the final answer.\n",
        "\n",
        "Let's first test our LLM _without_ CoT prompting."
      ]
    },
    {
      "cell_type": "code",
      "execution_count": 34,
      "metadata": {
        "id": "ReF2-IUjryU1"
      },
      "outputs": [],
      "source": [
        "no_cot_system_prompt = \"\"\"\n",
        "Be a helpful assistant and answer the user's question.\n",
        "\n",
        "You MUST answer the question directly without any other\n",
        "text or explanation.\n",
        "\"\"\"\n",
        "\n",
        "no_cot_prompt_template = ChatPromptTemplate.from_messages([\n",
        "    (\"system\", no_cot_system_prompt),\n",
        "    (\"user\", \"{query}\"),\n",
        "])"
      ]
    },
    {
      "cell_type": "markdown",
      "metadata": {
        "id": "UBdDEZiTryU1"
      },
      "source": [
        "Nowadays most LLMs are trained to use CoT prompting by default, so we actually need to instruct it not to do so for this example which is why we added `\"You MUST answer the question directly without any other text or explanation.\"` to our system prompt."
      ]
    },
    {
      "cell_type": "code",
      "execution_count": 38,
      "metadata": {
        "colab": {
          "base_uri": "https://localhost:8080/"
        },
        "id": "KBe_3bXaryU1",
        "outputId": "0acf8bdf-7b4f-4dd8-98f2-e3062cb07d15"
      },
      "outputs": [
        {
          "output_type": "stream",
          "name": "stdout",
          "text": [
            "2,930\n"
          ]
        }
      ],
      "source": [
        "query = (\n",
        "    \"How many keystrokes are needed to type the numbers from 1 to 500?\"\n",
        ")\n",
        "\n",
        "no_cot_pipeline = no_cot_prompt_template | llm\n",
        "no_cot_result = no_cot_pipeline.invoke({\"query\": query}).content\n",
        "print(no_cot_result)"
      ]
    },
    {
      "cell_type": "markdown",
      "metadata": {
        "id": "vEy5iGS4ryU2"
      },
      "source": [
        "The actual answer is `1392`, but the LLM _without_ CoT just hallucinates and gives us a guess. Now, we can add explicit CoT prompting to our system prompt to see if we can get a better result."
      ]
    },
    {
      "cell_type": "code",
      "execution_count": 39,
      "metadata": {
        "id": "4ZYaNGO5ryU2"
      },
      "outputs": [],
      "source": [
        "# Define the chain-of-thought prompt template\n",
        "cot_system_prompt = \"\"\"\n",
        "Be a helpful assistant and answer the user's question.\n",
        "\n",
        "To answer the question, you must:\n",
        "\n",
        "- List systematically and in precise detail all\n",
        "  subproblems that need to be solved to answer the\n",
        "  question.\n",
        "- Solve each sub problem INDIVIDUALLY and in sequence.\n",
        "- Finally, use everything you have worked through to\n",
        "  provide the final answer.\n",
        "\"\"\"\n",
        "\n",
        "cot_prompt_template = ChatPromptTemplate.from_messages([\n",
        "    (\"system\", cot_system_prompt),\n",
        "    (\"user\", \"{query}\"),\n",
        "])\n",
        "\n",
        "cot_pipeline = cot_prompt_template | llm"
      ]
    },
    {
      "cell_type": "code",
      "execution_count": 40,
      "metadata": {
        "colab": {
          "base_uri": "https://localhost:8080/",
          "height": 553
        },
        "id": "Ke2vWBrOryU2",
        "outputId": "41d3a922-c362-4cdf-dfa9-1f15c9510ade"
      },
      "outputs": [
        {
          "output_type": "display_data",
          "data": {
            "text/plain": [
              "<IPython.core.display.Markdown object>"
            ],
            "text/markdown": "To calculate the number of keystrokes needed to type the numbers from 1 to 500, we need to break down the problem into smaller subproblems. Here's a step-by-step approach:\n\n**Subproblem 1: Counting single-digit numbers (1-9)**\n\n* Each digit requires 1 keystroke.\n* There are 9 single-digit numbers, so the total number of keystrokes for these numbers is 9.\n\n**Subproblem 2: Counting two-digit numbers (10-99)**\n\n* Each digit requires 1 keystroke.\n* For each two-digit number, we need to type:\n\t+ The tens digit (1 keystroke)\n\t+ The units digit (1 keystroke)\n* There are 90 two-digit numbers (from 10 to 99), so the total number of keystrokes for these numbers is 2 x 90 = 180.\n\n**Subproblem 3: Counting three-digit numbers (100-500)**\n\n* Each digit requires 1 keystroke.\n* For each three-digit number, we need to type:\n\t+ The hundreds digit (1 keystroke)\n\t+ The tens digit (1 keystroke)\n\t+ The units digit (1 keystroke)\n* There are 401 three-digit numbers (from 100 to 500), so the total number of keystrokes for these numbers is 3 x 401 = 1203.\n\n**Subproblem 4: Counting the number '0'**\n\n* We need to type the number '0' once, which requires 1 keystroke.\n\nNow, let's add up the results from each subproblem:\n\n9 (single-digit numbers) + 180 (two-digit numbers) + 1203 (three-digit numbers) + 1 (number '0') = 1393\n\nTherefore, approximately **1393 keystrokes** are needed to type the numbers from 1 to 500."
          },
          "metadata": {}
        }
      ],
      "source": [
        "cot_result = cot_pipeline.invoke({\"query\": query}).content\n",
        "display(Markdown(cot_result))"
      ]
    },
    {
      "cell_type": "markdown",
      "metadata": {
        "id": "fw2o5yVEryU2"
      },
      "source": [
        "Now we get a much better result! Our LLM provides us with a final answer of `1392` which is correct. Finally, as mentioned most LLMs are now trained to use CoT prompting by default. So let's see what happens if we don't explicitly tell the LLM to use CoT."
      ]
    },
    {
      "cell_type": "code",
      "execution_count": 41,
      "metadata": {
        "id": "LhpHDEUkryU2"
      },
      "outputs": [],
      "source": [
        "system_prompt = \"\"\"\n",
        "Be a helpful assistant and answer the user's question.\n",
        "\"\"\"\n",
        "\n",
        "prompt_template = ChatPromptTemplate.from_messages([\n",
        "    (\"system\", system_prompt),\n",
        "    (\"user\", \"{query}\"),\n",
        "])\n",
        "\n",
        "pipeline = prompt_template | llm"
      ]
    },
    {
      "cell_type": "code",
      "execution_count": 42,
      "metadata": {
        "colab": {
          "base_uri": "https://localhost:8080/",
          "height": 347
        },
        "id": "w102It7kryU2",
        "outputId": "f58e1b29-8215-4a6b-e695-1c5f4b9c0ceb"
      },
      "outputs": [
        {
          "output_type": "display_data",
          "data": {
            "text/plain": [
              "<IPython.core.display.Markdown object>"
            ],
            "text/markdown": "To calculate the number of keystrokes needed to type the numbers from 1 to 500, we need to consider two things:\n\n1. The number of digits in each number\n2. The number of keystrokes required for each digit (assuming a standard QWERTY keyboard layout)\n\nLet's break it down:\n\n* Single-digit numbers (1-9): 9 numbers x 1 keystroke per number = 9 keystrokes\n* Two-digit numbers (10-99): 90 numbers x 2 keystrokes per number = 180 keystrokes\n* Three-digit numbers (100-500): 401 numbers x 3 keystrokes per number = 1203 keystrokes\n\nNow, let's add up the total number of keystrokes:\n\n9 (single-digit) + 180 (two-digit) + 1203 (three-digit) = 1392 keystrokes\n\nHowever, this calculation assumes that each digit is typed separately. In reality, many keyboards have a \"0\" key and a \"+\" or \"-\" key for entering numbers, which can reduce the number of keystrokes.\n\nAssuming an average of 1-2 keystrokes per number (depending on the keyboard layout), we can estimate the total number of keystrokes to be around 800-1200."
          },
          "metadata": {}
        }
      ],
      "source": [
        "result = pipeline.invoke({\"query\": query}).content\n",
        "display(Markdown(result))"
      ]
    },
    {
      "cell_type": "markdown",
      "metadata": {
        "id": "4InfNSs_ryU2"
      },
      "source": [
        "We almost get the _exact_ same result. The formatting isn't quite as nice but the CoT behavior is clearly there, and the LLM produces the correct final answer!\n",
        "\n",
        "CoT is useful not only for simple question-answering like this, but is also a fundamental component of many agentic systems which will often use CoT steps paired with tool use to solve very complex problems, this is what we see in OpenAI's current flagship model `o1`. We'll see later in the course how we can do this ourselves."
      ]
    }
  ],
  "metadata": {
    "colab": {
      "provenance": [],
      "gpuType": "T4"
    },
    "kernelspec": {
      "display_name": "Python 3",
      "name": "python3"
    },
    "language_info": {
      "codemirror_mode": {
        "name": "ipython",
        "version": 3
      },
      "file_extension": ".py",
      "mimetype": "text/x-python",
      "name": "python",
      "nbconvert_exporter": "python",
      "pygments_lexer": "ipython3",
      "version": "3.12.7"
    },
    "accelerator": "GPU"
  },
  "nbformat": 4,
  "nbformat_minor": 0
}